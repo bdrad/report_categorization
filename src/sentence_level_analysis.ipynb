{
 "cells": [
  {
   "cell_type": "code",
   "execution_count": 1,
   "metadata": {},
   "outputs": [],
   "source": [
    "import train_embeddings\n",
    "import matplotlib.pyplot as plt\n",
    "import sentence_features\n",
    "import pickle\n",
    "import numpy as np\n",
    "from sklearn.pipeline import Pipeline, FeatureUnion, make_pipeline\n",
    "from sklearn.linear_model import SGDClassifier\n",
    "from sklearn.metrics import precision_recall_fscore_support, roc_curve, auc\n",
    "from sklearn.svm import SVC\n",
    "from sklearn.neighbors import KNeighborsClassifier\n",
    "from sklearn.ensemble import RandomForestClassifier\n",
    "from sklearn.neural_network import MLPClassifier"
   ]
  },
  {
   "cell_type": "code",
   "execution_count": 2,
   "metadata": {},
   "outputs": [],
   "source": [
    "word2vec_path = \"../data/models/word2vec/word2vecGensim_sw_cbow.bin\"\n",
    "word2vec = train_embeddings.load_word2vec_model(word2vec_path)\n",
    "mapped_reports_path = \"../data/processed/processed_reports/preprocessed_replace_sw\"\n",
    "# mapped_reports_path = \"../data/processed/preprocessed_findings_replace_sw\"\n",
    "mapped_reports = pickle.load(open(mapped_reports_path, 'rb'))"
   ]
  },
  {
   "cell_type": "code",
   "execution_count": 3,
   "metadata": {},
   "outputs": [],
   "source": [
    "pipeline = make_pipeline(train_embeddings.WordVectorizer(word2vec), sentence_features.ReportVectorAverager(granularity=\"sentence\"), sentence_features.LabelSeparator(), None)\n",
    "data, labels = pipeline.transform(mapped_reports)\n",
    "#data = pipeline.transform(mapped_reports)"
   ]
  },
  {
   "cell_type": "code",
   "execution_count": null,
   "metadata": {},
   "outputs": [],
   "source": [
    "split_point = int(0.8 * len(data))\n",
    "\n",
    "trainingX = data[:split_point]\n",
    "trainingY = labels[:split_point]\n",
    "print(np.unique(trainingY, return_counts=True))\n",
    "\n",
    "testingX = data[split_point:]\n",
    "testingY = labels[split_point:]\n",
    "print(np.unique(testingY, return_counts=True))"
   ]
  },
  {
   "cell_type": "code",
   "execution_count": null,
   "metadata": {},
   "outputs": [],
   "source": [
    "sgd_clf = SGDClassifier()\n",
    "clf = sentence_features.SentenceBasedClassifier(sgd_clf)\n",
    "clf.fit(trainingX, trainingY)"
   ]
  },
  {
   "cell_type": "code",
   "execution_count": null,
   "metadata": {},
   "outputs": [],
   "source": [
    "y_score = clf.decision_function(testingX)\n",
    "fpr, tpr, thresholds = roc_curve(testingY, y_score, pos_label=1)\n",
    "roc_auc = auc(fpr, tpr)\n",
    "\n",
    "plt.figure()\n",
    "lw = 2\n",
    "plt.plot(fpr, tpr, color='darkorange',\n",
    "         lw=lw, label='ROC curve (area = %0.2f)' % roc_auc)\n",
    "plt.plot([0, 1], [0, 1], color='navy', lw=lw, linestyle='--')\n",
    "plt.xlim([0.0, 1.0])\n",
    "plt.ylim([0.0, 1.0])\n",
    "plt.xlabel('False Positive Rate')\n",
    "plt.ylabel('True Positive Rate')\n",
    "plt.title('Receiver Operating Characteristic')\n",
    "plt.legend(loc=\"lower right\")\n",
    "plt.show()"
   ]
  },
  {
   "cell_type": "code",
   "execution_count": 4,
   "metadata": {},
   "outputs": [],
   "source": [
    "# Now try FastText\n",
    "fastText_path = \"../data/models/fastText/fastText_sw_cbow.bin\"\n",
    "ft = train_embeddings.load_fastText_model(fastText_path)"
   ]
  },
  {
   "cell_type": "code",
   "execution_count": 5,
   "metadata": {},
   "outputs": [
    {
     "name": "stdout",
     "output_type": "stream",
     "text": [
      "(array([0, 1]), array([27709, 17109]))\n",
      "(array([0, 1]), array([7059, 4146]))\n"
     ]
    }
   ],
   "source": [
    "pipeline = make_pipeline(train_embeddings.FastTextReportVectorizer(ft, granularity=\"sentence\"), sentence_features.LabelSeparator(), None)\n",
    "data, labels = pipeline.transform(mapped_reports)\n",
    "\n",
    "split_point = int(0.8 * len(data))\n",
    "\n",
    "trainingX = data[:split_point]\n",
    "trainingY = labels[:split_point]\n",
    "print(np.unique(trainingY, return_counts=True))\n",
    "\n",
    "testingX = data[split_point:]\n",
    "testingY = labels[split_point:]\n",
    "print(np.unique(testingY, return_counts=True))"
   ]
  },
  {
   "cell_type": "code",
   "execution_count": 6,
   "metadata": {},
   "outputs": [
    {
     "name": "stderr",
     "output_type": "stream",
     "text": [
      "/Users/scott/anaconda3/lib/python3.6/site-packages/sklearn/linear_model/stochastic_gradient.py:128: FutureWarning: max_iter and tol parameters have been added in <class 'sklearn.linear_model.stochastic_gradient.SGDClassifier'> in 0.19. If both are left unset, they default to max_iter=5 and tol=None. If tol is not None, max_iter defaults to max_iter=1000. From 0.21, default max_iter will be 1000, and default tol will be 1e-3.\n",
      "  \"and default tol will be 1e-3.\" % type(self), FutureWarning)\n"
     ]
    }
   ],
   "source": [
    "sgd_clf = SGDClassifier()\n",
    "clf = sentence_features.SentenceBasedClassifier(sgd_clf)\n",
    "clf.fit(trainingX, trainingY)"
   ]
  },
  {
   "cell_type": "code",
   "execution_count": 7,
   "metadata": {},
   "outputs": [
    {
     "data": {
      "image/png": "[encoded data removed]",
      "text/plain": [
       "<matplotlib.figure.Figure at 0x1a24f92f28>"
      ]
     },
     "metadata": {},
     "output_type": "display_data"
    }
   ],
   "source": [
    "y_score = clf.decision_function(testingX)\n",
    "fpr, tpr, thresholds = roc_curve(testingY, y_score, pos_label=1)\n",
    "roc_auc = auc(fpr, tpr)\n",
    "\n",
    "plt.figure()\n",
    "lw = 2\n",
    "plt.plot(fpr, tpr, color='darkorange',\n",
    "         lw=lw, label='ROC curve (area = %0.2f)' % roc_auc)\n",
    "plt.plot([0, 1], [0, 1], color='navy', lw=lw, linestyle='--')\n",
    "plt.xlim([0.0, 1.0])\n",
    "plt.ylim([0.0, 1.0])\n",
    "plt.xlabel('False Positive Rate')\n",
    "plt.ylabel('True Positive Rate')\n",
    "plt.title('Receiver Operating Characteristic')\n",
    "plt.legend(loc=\"lower right\")\n",
    "plt.show()"
   ]
  },
  {
   "cell_type": "markdown",
   "metadata": {},
   "source": [
    "# KNN for fastText\n",
    "knn_clf = KNeighborsClassifier(n_neighbors=8)\n",
    "clf = sentence_features.SentenceBasedClassifier(knn_clf, use_prob_func=True)\n",
    "clf.fit(trainingX, trainingY)"
   ]
  },
  {
   "cell_type": "markdown",
   "metadata": {},
   "source": [
    "y_score = clf.decision_function(testingX)\n",
    "fpr, tpr, thresholds = roc_curve(testingY, y_score, pos_label=1)\n",
    "roc_auc = auc(fpr, tpr)\n",
    "\n",
    "plt.figure()\n",
    "lw = 2\n",
    "plt.plot(fpr, tpr, color='darkorange',\n",
    "         lw=lw, label='ROC curve (area = %0.2f)' % roc_auc)\n",
    "plt.plot([0, 1], [0, 1], color='navy', lw=lw, linestyle='--')\n",
    "plt.xlim([0.0, 1.0])\n",
    "plt.ylim([0.0, 1.0])\n",
    "plt.xlabel('False Positive Rate')\n",
    "plt.ylabel('True Positive Rate')\n",
    "plt.title('Receiver Operating Characteristic')\n",
    "plt.legend(loc=\"lower right\")\n",
    "plt.show()"
   ]
  },
  {
   "cell_type": "code",
   "execution_count": null,
   "metadata": {},
   "outputs": [],
   "source": [
    "# fastText with Findings and Impressions\n",
    "mapped_reports_path = \"../data/processed/processed_reports/preprocessed_findings_replace_sw\"\n",
    "mapped_reports = pickle.load(open(mapped_reports_path, 'rb'))\n",
    "\n",
    "\n",
    "pipeline = make_pipeline(train_embeddings.FastTextReportVectorizer(ft, granularity=\"sentence\"), sentence_features.LabelSeparator(), None)\n",
    "data, labels = pipeline.transform(mapped_reports)\n",
    "\n",
    "split_point = int(0.8 * len(data))\n",
    "\n",
    "trainingX = data[:split_point]\n",
    "trainingY = labels[:split_point]\n",
    "print(np.unique(trainingY, return_counts=True))\n",
    "\n",
    "testingX = data[split_point:]\n",
    "testingY = labels[split_point:]\n",
    "print(np.unique(testingY, return_counts=True))"
   ]
  },
  {
   "cell_type": "code",
   "execution_count": null,
   "metadata": {},
   "outputs": [],
   "source": [
    "sgd_clf = SGDClassifier()\n",
    "clf = sentence_features.SentenceBasedClassifier(sgd_clf)\n",
    "clf.fit(trainingX, trainingY)\n",
    "\n",
    "y_score = clf.decision_function(testingX)\n",
    "fpr, tpr, thresholds = roc_curve(testingY, y_score, pos_label=1)\n",
    "roc_auc = auc(fpr, tpr)\n",
    "\n",
    "plt.figure()\n",
    "lw = 2\n",
    "plt.plot(fpr, tpr, color='darkorange',\n",
    "         lw=lw, label='ROC curve (area = %0.2f)' % roc_auc)\n",
    "plt.plot([0, 1], [0, 1], color='navy', lw=lw, linestyle='--')\n",
    "plt.xlim([0.0, 1.0])\n",
    "plt.ylim([0.0, 1.0])\n",
    "plt.xlabel('False Positive Rate')\n",
    "plt.ylabel('True Positive Rate')\n",
    "plt.title('Receiver Operating Characteristic')\n",
    "plt.legend(loc=\"lower right\")\n",
    "plt.show()"
   ]
  },
  {
   "cell_type": "code",
   "execution_count": 8,
   "metadata": {},
   "outputs": [
    {
     "name": "stdout",
     "output_type": "stream",
     "text": [
      "(array([0, 1]), array([27834, 16984]))\n",
      "(array([0, 1]), array([6934, 4271]))\n"
     ]
    }
   ],
   "source": [
    "# fastText Random Forests\n",
    "mapped_reports_path = \"../data/processed/processed_reports/preprocessed_replace_sw\"\n",
    "mapped_reports = pickle.load(open(mapped_reports_path, 'rb'))\n",
    "\n",
    "pipeline = make_pipeline(train_embeddings.FastTextReportVectorizer(ft, granularity=\"sentence\"), sentence_features.LabelSeparator(), None)\n",
    "data, labels = pipeline.transform(mapped_reports)\n",
    "\n",
    "split_point = int(0.8 * len(data))\n",
    "\n",
    "trainingX = data[:split_point]\n",
    "trainingY = labels[:split_point]\n",
    "print(np.unique(trainingY, return_counts=True))\n",
    "\n",
    "testingX = data[split_point:]\n",
    "testingY = labels[split_point:]\n",
    "print(np.unique(testingY, return_counts=True))"
   ]
  },
  {
   "cell_type": "code",
   "execution_count": 9,
   "metadata": {},
   "outputs": [
    {
     "data": {
      "image/png": "[encoded data removed]",
      "text/plain": [
       "<matplotlib.figure.Figure at 0x1a2b39ba90>"
      ]
     },
     "metadata": {},
     "output_type": "display_data"
    }
   ],
   "source": [
    "rf_clf = RandomForestClassifier(n_estimators=16)\n",
    "clf = sentence_features.SentenceBasedClassifier(rf_clf, use_prob_func=True)\n",
    "clf.fit(trainingX, trainingY)\n",
    "\n",
    "y_score = clf.decision_function(testingX)\n",
    "fpr, tpr, thresholds = roc_curve(testingY, y_score, pos_label=1)\n",
    "roc_auc = auc(fpr, tpr)\n",
    "\n",
    "plt.figure()\n",
    "lw = 2\n",
    "plt.plot(fpr, tpr, color='darkorange',\n",
    "         lw=lw, label='ROC curve (area = %0.2f)' % roc_auc)\n",
    "plt.plot([0, 1], [0, 1], color='navy', lw=lw, linestyle='--')\n",
    "plt.xlim([0.0, 1.0])\n",
    "plt.ylim([0.0, 1.0])\n",
    "plt.xlabel('False Positive Rate')\n",
    "plt.ylabel('True Positive Rate')\n",
    "plt.title('Receiver Operating Characteristic')\n",
    "plt.legend(loc=\"lower right\")\n",
    "plt.show()"
   ]
  },
  {
   "cell_type": "code",
   "execution_count": 11,
   "metadata": {},
   "outputs": [
    {
     "name": "stdout",
     "output_type": "stream",
     "text": [
      "Iteration 1, loss = 0.58341090\n",
      "Iteration 2, loss = 0.55923235\n",
      "Iteration 3, loss = 0.55130859\n",
      "Iteration 4, loss = 0.54593928\n",
      "Iteration 5, loss = 0.54194806\n",
      "Iteration 6, loss = 0.53823045\n",
      "Iteration 7, loss = 0.53536873\n",
      "Iteration 8, loss = 0.53260328\n",
      "Iteration 9, loss = 0.53030488\n",
      "Iteration 10, loss = 0.52809037\n",
      "Iteration 11, loss = 0.52606201\n",
      "Iteration 12, loss = 0.52394519\n",
      "Iteration 13, loss = 0.52210666\n",
      "Iteration 14, loss = 0.52068727\n",
      "Iteration 15, loss = 0.51888563\n",
      "Iteration 16, loss = 0.51757721\n",
      "Iteration 17, loss = 0.51609002\n",
      "Iteration 18, loss = 0.51478120\n",
      "Iteration 19, loss = 0.51323172\n",
      "Iteration 20, loss = 0.51201430\n",
      "Iteration 21, loss = 0.51086260\n",
      "Iteration 22, loss = 0.50976063\n",
      "Iteration 23, loss = 0.50847758\n",
      "Iteration 24, loss = 0.50735546\n",
      "Iteration 25, loss = 0.50630182\n",
      "Iteration 26, loss = 0.50525003\n",
      "Iteration 27, loss = 0.50422086\n",
      "Iteration 28, loss = 0.50294643\n",
      "Iteration 29, loss = 0.50238411\n",
      "Iteration 30, loss = 0.50153062\n",
      "Iteration 31, loss = 0.50044471\n",
      "Iteration 32, loss = 0.49938477\n",
      "Iteration 33, loss = 0.49879096\n",
      "Iteration 34, loss = 0.49767250\n",
      "Iteration 35, loss = 0.49701903\n",
      "Iteration 36, loss = 0.49585972\n",
      "Iteration 37, loss = 0.49519082\n",
      "Iteration 38, loss = 0.49452441\n",
      "Iteration 39, loss = 0.49382069\n",
      "Iteration 40, loss = 0.49312759\n",
      "Iteration 41, loss = 0.49244606\n",
      "Iteration 42, loss = 0.49142196\n",
      "Iteration 43, loss = 0.49108667\n",
      "Iteration 44, loss = 0.49014773\n",
      "Iteration 45, loss = 0.48980322\n",
      "Iteration 46, loss = 0.48882883\n",
      "Iteration 47, loss = 0.48842520\n",
      "Iteration 48, loss = 0.48761621\n",
      "Iteration 49, loss = 0.48699279\n",
      "Iteration 50, loss = 0.48654010\n",
      "Iteration 51, loss = 0.48560845\n",
      "Iteration 52, loss = 0.48559390\n",
      "Iteration 53, loss = 0.48453877\n",
      "Iteration 54, loss = 0.48424775\n",
      "Iteration 55, loss = 0.48379252\n",
      "Iteration 56, loss = 0.48298674\n",
      "Iteration 57, loss = 0.48235885\n",
      "Iteration 58, loss = 0.48192274\n",
      "Iteration 59, loss = 0.48155184\n",
      "Iteration 60, loss = 0.48112661\n",
      "Iteration 61, loss = 0.48061861\n",
      "Iteration 62, loss = 0.48009012\n",
      "Iteration 63, loss = 0.47979755\n",
      "Iteration 64, loss = 0.47944966\n",
      "Iteration 65, loss = 0.47863031\n",
      "Iteration 66, loss = 0.47858510\n",
      "Iteration 67, loss = 0.47784023\n",
      "Iteration 68, loss = 0.47747012\n",
      "Iteration 69, loss = 0.47694237\n",
      "Iteration 70, loss = 0.47653582\n",
      "Iteration 71, loss = 0.47649866\n",
      "Iteration 72, loss = 0.47573293\n",
      "Iteration 73, loss = 0.47565852\n",
      "Iteration 74, loss = 0.47520845\n",
      "Iteration 75, loss = 0.47476361\n",
      "Iteration 76, loss = 0.47429626\n",
      "Iteration 77, loss = 0.47398380\n",
      "Iteration 78, loss = 0.47352383\n",
      "Iteration 79, loss = 0.47279045\n",
      "Iteration 80, loss = 0.47331499\n",
      "Iteration 81, loss = 0.47226674\n",
      "Iteration 82, loss = 0.47224006\n",
      "Iteration 83, loss = 0.47200141\n",
      "Iteration 84, loss = 0.47149162\n",
      "Iteration 85, loss = 0.47101661\n",
      "Iteration 86, loss = 0.47072780\n",
      "Iteration 87, loss = 0.47030639\n",
      "Iteration 88, loss = 0.46993956\n",
      "Iteration 89, loss = 0.46996932\n",
      "Iteration 90, loss = 0.46936685\n",
      "Iteration 91, loss = 0.46885521\n",
      "Iteration 92, loss = 0.46876859\n",
      "Iteration 93, loss = 0.46818517\n",
      "Iteration 94, loss = 0.46787074\n",
      "Iteration 95, loss = 0.46757148\n",
      "Iteration 96, loss = 0.46733507\n",
      "Iteration 97, loss = 0.46732873\n",
      "Iteration 98, loss = 0.46712872\n",
      "Iteration 99, loss = 0.46697226\n",
      "Iteration 100, loss = 0.46602309\n",
      "Iteration 101, loss = 0.46606796\n",
      "Iteration 102, loss = 0.46578815\n",
      "Iteration 103, loss = 0.46517839\n",
      "Iteration 104, loss = 0.46528406\n",
      "Iteration 105, loss = 0.46474402\n",
      "Iteration 106, loss = 0.46449160\n",
      "Iteration 107, loss = 0.46438717\n",
      "Iteration 108, loss = 0.46391130\n",
      "Iteration 109, loss = 0.46381181\n",
      "Iteration 110, loss = 0.46358000\n",
      "Iteration 111, loss = 0.46337176\n",
      "Iteration 112, loss = 0.46285809\n",
      "Iteration 113, loss = 0.46272726\n",
      "Iteration 114, loss = 0.46257770\n",
      "Iteration 115, loss = 0.46224303\n",
      "Iteration 116, loss = 0.46195240\n",
      "Iteration 117, loss = 0.46152958\n",
      "Iteration 118, loss = 0.46168519\n",
      "Iteration 119, loss = 0.46127588\n",
      "Iteration 120, loss = 0.46063672\n",
      "Iteration 121, loss = 0.46094905\n",
      "Iteration 122, loss = 0.46055565\n",
      "Iteration 123, loss = 0.46027038\n",
      "Iteration 124, loss = 0.46048106\n",
      "Iteration 125, loss = 0.45997664\n",
      "Iteration 126, loss = 0.45987514\n",
      "Iteration 127, loss = 0.45944404\n",
      "Iteration 128, loss = 0.45952274\n",
      "Iteration 129, loss = 0.45893698\n",
      "Iteration 130, loss = 0.45858355\n",
      "Iteration 131, loss = 0.45841960\n",
      "Iteration 132, loss = 0.45833919\n",
      "Iteration 133, loss = 0.45841787\n",
      "Iteration 134, loss = 0.45760733\n",
      "Iteration 135, loss = 0.45817084\n",
      "Iteration 136, loss = 0.45757345\n",
      "Iteration 137, loss = 0.45736094\n",
      "Iteration 138, loss = 0.45687218\n",
      "Iteration 139, loss = 0.45675702\n",
      "Iteration 140, loss = 0.45663665\n",
      "Iteration 141, loss = 0.45664061\n",
      "Iteration 142, loss = 0.45638404\n",
      "Iteration 143, loss = 0.45593211\n",
      "Iteration 144, loss = 0.45601731\n",
      "Iteration 145, loss = 0.45564192\n",
      "Iteration 146, loss = 0.45548600\n",
      "Iteration 147, loss = 0.45546322\n",
      "Iteration 148, loss = 0.45545347\n",
      "Iteration 149, loss = 0.45502433\n",
      "Iteration 150, loss = 0.45512680\n",
      "Iteration 151, loss = 0.45470259\n",
      "Iteration 152, loss = 0.45451676\n",
      "Iteration 153, loss = 0.45428202\n",
      "Iteration 154, loss = 0.45434669\n",
      "Iteration 155, loss = 0.45388788\n",
      "Iteration 156, loss = 0.45384661\n",
      "Iteration 157, loss = 0.45405009\n",
      "Iteration 158, loss = 0.45345322\n",
      "Iteration 159, loss = 0.45350104\n",
      "Iteration 160, loss = 0.45330323\n",
      "Iteration 161, loss = 0.45306749\n",
      "Iteration 162, loss = 0.45320124\n",
      "Iteration 163, loss = 0.45250851\n",
      "Iteration 164, loss = 0.45263893\n",
      "Iteration 165, loss = 0.45230072\n",
      "Iteration 166, loss = 0.45228902\n",
      "Iteration 167, loss = 0.45221686\n",
      "Iteration 168, loss = 0.45201795\n",
      "Iteration 169, loss = 0.45171477\n",
      "Iteration 170, loss = 0.45163832\n",
      "Iteration 171, loss = 0.45134199\n",
      "Iteration 172, loss = 0.45131131\n",
      "Iteration 173, loss = 0.45137630\n",
      "Iteration 174, loss = 0.45123528\n",
      "Training loss did not improve more than tol=0.000100 for two consecutive epochs. Stopping.\n"
     ]
    },
    {
     "data": {
      "image/png": "[encoded data removed]",
      "text/plain": [
       "<matplotlib.figure.Figure at 0x1a2a89b160>"
      ]
     },
     "metadata": {},
     "output_type": "display_data"
    }
   ],
   "source": [
    "# MLP for fastText\n",
    "mlp_clf = MLPClassifier(verbose=True, hidden_layer_sizes=(64))\n",
    "clf = sentence_features.SentenceBasedClassifier(mlp_clf, use_prob_func=True)\n",
    "clf.fit(trainingX, trainingY)\n",
    "\n",
    "y_score = clf.decision_function(testingX)\n",
    "fpr, tpr, thresholds = roc_curve(testingY, y_score, pos_label=1)\n",
    "roc_auc = auc(fpr, tpr)\n",
    "\n",
    "plt.figure()\n",
    "lw = 2\n",
    "plt.plot(fpr, tpr, color='darkorange',\n",
    "         lw=lw, label='ROC curve (area = %0.2f)' % roc_auc)\n",
    "plt.plot([0, 1], [0, 1], color='navy', lw=lw, linestyle='--')\n",
    "plt.xlim([0.0, 1.0])\n",
    "plt.ylim([0.0, 1.0])\n",
    "plt.xlabel('False Positive Rate')\n",
    "plt.ylabel('True Positive Rate')\n",
    "plt.title('Receiver Operating Characteristic')\n",
    "plt.legend(loc=\"lower right\")\n",
    "plt.show()"
   ]
  },
  {
   "cell_type": "code",
   "execution_count": 12,
   "metadata": {},
   "outputs": [
    {
     "name": "stdout",
     "output_type": "stream",
     "text": [
      "(array([0, 1]), array([27770, 17179]))\n",
      "(array([0, 1]), array([6993, 4245]))\n"
     ]
    }
   ],
   "source": [
    "# Random Forests with Findings and Impressions\n",
    "mapped_reports_path = \"../data/processed/processed_reports/preprocessed_findings_replace_sw\"\n",
    "mapped_reports = pickle.load(open(mapped_reports_path, 'rb'))\n",
    "\n",
    "pipeline = make_pipeline(train_embeddings.FastTextReportVectorizer(ft, granularity=\"sentence\"), sentence_features.LabelSeparator(), None)\n",
    "data, labels = pipeline.transform(mapped_reports)\n",
    "\n",
    "split_point = int(0.8 * len(data))\n",
    "\n",
    "trainingX = data[:split_point]\n",
    "trainingY = labels[:split_point]\n",
    "print(np.unique(trainingY, return_counts=True))\n",
    "\n",
    "testingX = data[split_point:]\n",
    "testingY = labels[split_point:]\n",
    "print(np.unique(testingY, return_counts=True))"
   ]
  },
  {
   "cell_type": "code",
   "execution_count": 13,
   "metadata": {},
   "outputs": [
    {
     "data": {
      "image/png": "[encoded data removed]",
      "text/plain": [
       "<matplotlib.figure.Figure at 0x1a2ea15fd0>"
      ]
     },
     "metadata": {},
     "output_type": "display_data"
    }
   ],
   "source": [
    "rf_clf = RandomForestClassifier(n_estimators=16)\n",
    "clf = sentence_features.SentenceBasedClassifier(rf_clf, use_prob_func=True)\n",
    "clf.fit(trainingX, trainingY)\n",
    "\n",
    "y_score = clf.decision_function(testingX)\n",
    "fpr, tpr, thresholds = roc_curve(testingY, y_score, pos_label=1)\n",
    "roc_auc = auc(fpr, tpr)\n",
    "\n",
    "plt.figure()\n",
    "lw = 2\n",
    "plt.plot(fpr, tpr, color='darkorange',\n",
    "         lw=lw, label='ROC curve (area = %0.2f)' % roc_auc)\n",
    "plt.plot([0, 1], [0, 1], color='navy', lw=lw, linestyle='--')\n",
    "plt.xlim([0.0, 1.0])\n",
    "plt.ylim([0.0, 1.0])\n",
    "plt.xlabel('False Positive Rate')\n",
    "plt.ylabel('True Positive Rate')\n",
    "plt.title('Receiver Operating Characteristic')\n",
    "plt.legend(loc=\"lower right\")\n",
    "plt.show()"
   ]
  },
  {
   "cell_type": "code",
   "execution_count": 14,
   "metadata": {},
   "outputs": [
    {
     "name": "stdout",
     "output_type": "stream",
     "text": [
      "Iteration 1, loss = 0.62933686\n",
      "Iteration 2, loss = 0.61285011\n",
      "Iteration 3, loss = 0.60616407\n",
      "Iteration 4, loss = 0.60195403\n",
      "Iteration 5, loss = 0.59835958\n",
      "Iteration 6, loss = 0.59574655\n",
      "Iteration 7, loss = 0.59337032\n",
      "Iteration 8, loss = 0.59140908\n",
      "Iteration 9, loss = 0.58960820\n",
      "Iteration 10, loss = 0.58798669\n",
      "Iteration 11, loss = 0.58655923\n",
      "Iteration 12, loss = 0.58527087\n",
      "Iteration 13, loss = 0.58413693\n",
      "Iteration 14, loss = 0.58285652\n",
      "Iteration 15, loss = 0.58184377\n",
      "Iteration 16, loss = 0.58087502\n",
      "Iteration 17, loss = 0.58007482\n",
      "Iteration 18, loss = 0.57931250\n",
      "Iteration 19, loss = 0.57842710\n",
      "Iteration 20, loss = 0.57777913\n",
      "Iteration 21, loss = 0.57701556\n",
      "Iteration 22, loss = 0.57626161\n",
      "Iteration 23, loss = 0.57583260\n",
      "Iteration 24, loss = 0.57518626\n",
      "Iteration 25, loss = 0.57441450\n",
      "Iteration 26, loss = 0.57392875\n",
      "Iteration 27, loss = 0.57329934\n",
      "Iteration 28, loss = 0.57291350\n",
      "Iteration 29, loss = 0.57240852\n",
      "Iteration 30, loss = 0.57175414\n",
      "Iteration 31, loss = 0.57140833\n",
      "Iteration 32, loss = 0.57089095\n",
      "Iteration 33, loss = 0.57044146\n",
      "Iteration 34, loss = 0.57011018\n",
      "Iteration 35, loss = 0.56963693\n",
      "Iteration 36, loss = 0.56927647\n",
      "Iteration 37, loss = 0.56893245\n",
      "Iteration 38, loss = 0.56847596\n",
      "Iteration 39, loss = 0.56819884\n",
      "Iteration 40, loss = 0.56810761\n",
      "Iteration 41, loss = 0.56770901\n",
      "Iteration 42, loss = 0.56715717\n",
      "Iteration 43, loss = 0.56700281\n",
      "Iteration 44, loss = 0.56666042\n",
      "Iteration 45, loss = 0.56641347\n"
     ]
    },
    {
     "name": "stderr",
     "output_type": "stream",
     "text": [
      "/Users/scott/anaconda3/lib/python3.6/site-packages/sklearn/neural_network/multilayer_perceptron.py:566: UserWarning: Training interrupted by user.\n",
      "  warnings.warn(\"Training interrupted by user.\")\n",
      "ERROR:root:Internal Python error in the inspect module.\n",
      "Below is the traceback from this internal error.\n",
      "\n"
     ]
    },
    {
     "name": "stdout",
     "output_type": "stream",
     "text": [
      "Traceback (most recent call last):\n",
      "  File \"/Users/scott/anaconda3/lib/python3.6/site-packages/IPython/core/interactiveshell.py\", line 2862, in run_code\n",
      "    exec(code_obj, self.user_global_ns, self.user_ns)\n",
      "  File \"<ipython-input-14-b75a3b578bfb>\", line 6, in <module>\n",
      "    y_score = clf.decision_function(testingX)\n",
      "  File \"/Users/scott/Documents/ucsf/report_categorization/src/sentence_features.py\", line 36, in decision_function\n",
      "    class_probs = self.model.predict_proba(report)\n",
      "  File \"/Users/scott/anaconda3/lib/python3.6/site-packages/sklearn/neural_network/multilayer_perceptron.py\", line 1050, in predict_proba\n",
      "    y_pred = self._predict(X)\n",
      "  File \"/Users/scott/anaconda3/lib/python3.6/site-packages/sklearn/neural_network/multilayer_perceptron.py\", line 678, in _predict\n",
      "    self._forward_pass(activations)\n",
      "  File \"/Users/scott/anaconda3/lib/python3.6/site-packages/sklearn/neural_network/multilayer_perceptron.py\", line 105, in _forward_pass\n",
      "    self.coefs_[i])\n",
      "  File \"/Users/scott/anaconda3/lib/python3.6/site-packages/sklearn/utils/extmath.py\", line 140, in safe_sparse_dot\n",
      "    return np.dot(a, b)\n",
      "KeyboardInterrupt\n",
      "\n",
      "During handling of the above exception, another exception occurred:\n",
      "\n",
      "Traceback (most recent call last):\n",
      "  File \"/Users/scott/anaconda3/lib/python3.6/site-packages/IPython/core/interactiveshell.py\", line 1806, in showtraceback\n",
      "    stb = value._render_traceback_()\n",
      "AttributeError: 'KeyboardInterrupt' object has no attribute '_render_traceback_'\n",
      "\n",
      "During handling of the above exception, another exception occurred:\n",
      "\n",
      "Traceback (most recent call last):\n",
      "  File \"/Users/scott/anaconda3/lib/python3.6/site-packages/IPython/core/ultratb.py\", line 1090, in get_records\n",
      "    return _fixed_getinnerframes(etb, number_of_lines_of_context, tb_offset)\n",
      "  File \"/Users/scott/anaconda3/lib/python3.6/site-packages/IPython/core/ultratb.py\", line 311, in wrapped\n",
      "    return f(*args, **kwargs)\n",
      "  File \"/Users/scott/anaconda3/lib/python3.6/site-packages/IPython/core/ultratb.py\", line 345, in _fixed_getinnerframes\n",
      "    records = fix_frame_records_filenames(inspect.getinnerframes(etb, context))\n",
      "  File \"/Users/scott/anaconda3/lib/python3.6/inspect.py\", line 1480, in getinnerframes\n",
      "    frameinfo = (tb.tb_frame,) + getframeinfo(tb, context)\n",
      "  File \"/Users/scott/anaconda3/lib/python3.6/inspect.py\", line 1438, in getframeinfo\n",
      "    filename = getsourcefile(frame) or getfile(frame)\n",
      "  File \"/Users/scott/anaconda3/lib/python3.6/inspect.py\", line 693, in getsourcefile\n",
      "    if getattr(getmodule(object, filename), '__loader__', None) is not None:\n",
      "  File \"/Users/scott/anaconda3/lib/python3.6/inspect.py\", line 736, in getmodule\n",
      "    f = getabsfile(module)\n",
      "  File \"/Users/scott/anaconda3/lib/python3.6/inspect.py\", line 705, in getabsfile\n",
      "    _filename = getsourcefile(object) or getfile(object)\n",
      "  File \"/Users/scott/anaconda3/lib/python3.6/inspect.py\", line 690, in getsourcefile\n",
      "    if os.path.exists(filename):\n",
      "  File \"/Users/scott/anaconda3/lib/python3.6/genericpath.py\", line 19, in exists\n",
      "    os.stat(path)\n",
      "KeyboardInterrupt\n"
     ]
    },
    {
     "ename": "KeyboardInterrupt",
     "evalue": "",
     "output_type": "error",
     "traceback": [
      "\u001b[0;31m---------------------------------------------------------------------------\u001b[0m"
     ]
    }
   ],
   "source": [
    "# MLP for fastText with Findings and Impressions\n",
    "mlp_clf = MLPClassifier(verbose=True, hidden_layer_sizes=(64), alpha=0.0005)\n",
    "clf = sentence_features.SentenceBasedClassifier(mlp_clf, use_prob_func=True)\n",
    "clf.fit(trainingX, trainingY)\n",
    "\n",
    "y_score = clf.decision_function(testingX)\n",
    "fpr, tpr, thresholds = roc_curve(testingY, y_score, pos_label=1)\n",
    "roc_auc = auc(fpr, tpr)\n",
    "\n",
    "plt.figure()\n",
    "lw = 2\n",
    "plt.plot(fpr, tpr, color='darkorange',\n",
    "         lw=lw, label='ROC curve (area = %0.2f)' % roc_auc)\n",
    "plt.plot([0, 1], [0, 1], color='navy', lw=lw, linestyle='--')\n",
    "plt.xlim([0.0, 1.0])\n",
    "plt.ylim([0.0, 1.0])\n",
    "plt.xlabel('False Positive Rate')\n",
    "plt.ylabel('True Positive Rate')\n",
    "plt.title('Receiver Operating Characteristic')\n",
    "plt.legend(loc=\"lower right\")\n",
    "plt.show()"
   ]
  },
  {
   "cell_type": "code",
   "execution_count": null,
   "metadata": {},
   "outputs": [],
   "source": []
  }
 ],
 "metadata": {
  "kernelspec": {
   "display_name": "Python 3",
   "language": "python",
   "name": "python3"
  },
  "language_info": {
   "codemirror_mode": {
    "name": "ipython",
    "version": 3
   },
   "file_extension": ".py",
   "mimetype": "text/x-python",
   "name": "python",
   "nbconvert_exporter": "python",
   "pygments_lexer": "ipython3",
   "version": "3.6.3"
  }
 },
 "nbformat": 4,
 "nbformat_minor": 2
}
