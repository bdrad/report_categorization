{
 "cells": [
  {
   "cell_type": "code",
   "execution_count": 21,
   "metadata": {},
   "outputs": [],
   "source": [
    "import fastText\n",
    "import train_embeddings\n",
    "import sentence_features\n",
    "import pickle\n",
    "from random import shuffle\n",
    "from sklearn.metrics import precision_recall_fscore_support, roc_curve, auc, precision_recall_curve, f1_score, average_precision_score\n",
    "import matplotlib.pyplot as plt\n",
    "import numpy as np"
   ]
  },
  {
   "cell_type": "code",
   "execution_count": 29,
   "metadata": {},
   "outputs": [],
   "source": [
    "# Load mapped reports\n",
    "#labeled_reports_path = \"../data/processed/processed_reports/preprocessed_all_replace_sw\"\n",
    "labeled_reports_path = \"../data/processed/processed_reports/ucsf_all\"\n",
    "mapped_reports = pickle.load(open(labeled_reports_path, 'rb'))"
   ]
  },
  {
   "cell_type": "code",
   "execution_count": 36,
   "metadata": {},
   "outputs": [],
   "source": [
    "# Convert mapped reports to correct format\n",
    "mapped_report_strs = []\n",
    "for mr in mapped_reports:\n",
    "    report_string = \" \".join(mr[0]).replace(\"\\n\", \" \")\n",
    "    label = \" __label__\" + str(mr[1])\n",
    "    mapped_report_strs.append(report_string + label)\n",
    "shuffle(mapped_report_strs)"
   ]
  },
  {
   "cell_type": "code",
   "execution_count": 37,
   "metadata": {},
   "outputs": [
    {
     "name": "stdout",
     "output_type": "stream",
     "text": [
      "53160\n",
      "(array([0, 1]), array([2521, 1481]))\n"
     ]
    }
   ],
   "source": [
    "split_point = int(0.93 * len(mapped_report_strs))\n",
    "train = mapped_report_strs[:split_point]\n",
    "test = mapped_report_strs[split_point:]\n",
    "\n",
    "test_data = [t.split(\"__label__\")[0] for t in test]\n",
    "test_labels = [int(t.split(\"__label__\")[1]) for t in test]\n",
    "\n",
    "train_path = \"../data/processed/processed_reports/ftTRAIN\"\n",
    "with open(train_path, 'w') as outfile:\n",
    "    for mrs in train:\n",
    "        outfile.write(mrs)\n",
    "        outfile.write(\"\\n\")\n",
    "        \n",
    "print(len(train))\n",
    "print(np.unique(test_labels, return_counts=True))"
   ]
  },
  {
   "cell_type": "code",
   "execution_count": null,
   "metadata": {},
   "outputs": [],
   "source": [
    "# Train classifier\n",
    "dim = 100\n",
    "ng = 3\n",
    "model = fastText.train_supervised(train_path, dim=dim, epoch=22, thread=4, lr=0.05, wordNgrams=ng)"
   ]
  },
  {
   "cell_type": "code",
   "execution_count": null,
   "metadata": {},
   "outputs": [],
   "source": [
    "model.get_words()"
   ]
  },
  {
   "cell_type": "code",
   "execution_count": null,
   "metadata": {},
   "outputs": [],
   "source": [
    "# Make predictions\n",
    "predictions = [model.predict(s) for s in test_data]\n",
    "confs = [0.5 - (p[1][0] / 2) if p[0][0] == '__label__0' else 0.5 + (p[1][0] / 2) for p in predictions]"
   ]
  },
  {
   "cell_type": "code",
   "execution_count": null,
   "metadata": {},
   "outputs": [],
   "source": [
    "test_fpr, test_tpr, test_thresholds = roc_curve(test_labels, confs, pos_label=1)\n",
    "test_roc_auc = auc(test_fpr, test_tpr)\n",
    "\n",
    "plt.figure()\n",
    "lw = 2\n",
    "plt.plot(test_fpr, test_tpr, color='darkorange',\n",
    "         lw=lw, label='Testing ROC curve (area = %0.3f)' % test_roc_auc)\n",
    "plt.plot([0, 1], [0, 1], color='navy', lw=lw, linestyle='--')\n",
    "plt.xlim([0.0, 1.0])\n",
    "plt.ylim([0.0, 1.0])\n",
    "plt.xlabel('False Positive Rate')\n",
    "plt.ylabel('True Positive Rate')\n",
    "plt.title('Receiver Operating Characteristic')\n",
    "plt.legend(loc=\"lower right\")\n",
    "plt.show()\n",
    "\n",
    "precision, recall, thresholds = precision_recall_curve(test_labels, confs)\n",
    "avg_prec = average_precision_score(test_labels, confs)\n",
    "\n",
    "plt.figure()\n",
    "lw = 2\n",
    "plt.plot(recall, precision, color='darkorange',\n",
    "         lw=lw, label='Testing P/R curve (avg precision = %0.3f)' % avg_prec)\n",
    "plt.xlim([0.0, 1.0])\n",
    "plt.ylim([0.0, 1.0])\n",
    "plt.xlabel('Recall')\n",
    "plt.ylabel('Precision')\n",
    "plt.title('Precision/Recall Curve')\n",
    "plt.legend(loc=\"lower right\")\n",
    "plt.show()\n",
    "\n",
    "r90_index = [i for i, r in enumerate(recall) if r > .9][-1]\n",
    "p_at_r90 = precision[r90_index]\n",
    "print('Precision at .9 recall: %0.3f' % p_at_r90)\n",
    "f1 = [(2 * recall[i] * precision[i]) / (precision[i] + recall[i]) for i in range(len(recall))]\n",
    "f1 = max(f1)\n",
    "print('F1 score:  %0.2f' % f1)"
   ]
  },
  {
   "cell_type": "code",
   "execution_count": 12,
   "metadata": {},
   "outputs": [],
   "source": [
    "model_name = \"ft\" + str(dim) + \"_\" + str(ng) + (\"_%0.3f\" % test_roc_auc) + \"all.bin\"\n",
    "model.save_model(\"../data/models/fastText/classify/\" + model_name)"
   ]
  },
  {
   "cell_type": "code",
   "execution_count": null,
   "metadata": {},
   "outputs": [],
   "source": [
    "epochs = [1, 2, 3] + list(range(5, 30, 5))"
   ]
  },
  {
   "cell_type": "markdown",
   "metadata": {},
   "source": [
    "for e in epochs:\n",
    "    model = fastText.train_supervised(train_path, dim=300, epoch=e, thread=4, neg=8, lr=0.05, wordNgrams=3)\n",
    "    predictions = [model.predict(s) for s in test_data]\n",
    "    confs = [1 - p[1][0] if p[0][0] == '__label__0' else p[1][0] for p in predictions]\n",
    "    \n",
    "    fpr, tpr, thresholds = roc_curve(test_labels, confs, pos_label=1)\n",
    "    roc_auc = auc(fpr, tpr)\n",
    "\n",
    "    plt.figure()\n",
    "    lw = 2\n",
    "    plt.plot(fpr, tpr, color='darkorange', lw=lw, label='Testing ROC curve after ' + str(e) + ' epochs (area = %0.3f)' % roc_auc)\n",
    "    plt.plot([0, 1], [0, 1], color='navy', lw=lw, linestyle='--')\n",
    "    plt.xlim([0.0, 1.0])\n",
    "    plt.ylim([0.0, 1.0])\n",
    "    plt.xlabel('False Positive Rate')\n",
    "    plt.ylabel('True Positive Rate')\n",
    "    plt.title('Receiver Operating Characteristic')\n",
    "    plt.legend(loc=\"lower right\")\n",
    "    plt.show()"
   ]
  },
  {
   "cell_type": "code",
   "execution_count": 9,
   "metadata": {},
   "outputs": [
    {
     "name": "stdout",
     "output_type": "stream",
     "text": [
      "(array([0, 1]), array([2037,  263]))\n",
      "oval fluid collection containing embryo identified appropriately positioned within uterus consistent early intrauterine pregnancy embryonic anatomy cardiac activity within normal limits gestational age crown rump length measures 4th sonographic gestational age 9th weeks 3rd days edc 11th 5th 201this compares final_report_approved clinical age 10th weeks 2nd days clinical edc 10th NEGEX_subchorionic NEGEX_hemorrhage NEGEX_identified uterus including cervix_of_uterus otherwise normal NEGEX_evidence NEGEX_focal NEGEX_breast_mass bilateral set_of_ovaries identified normal indium appearance 2nd 8th curium unilocular cyst indium right_ovary likely corpus luteal cyst NEGEX_adnexal NEGEX_masses NEGEX_seen NEGEX_fluid NEGEX_within NEGEX_pelvic NEGEX_cul de sac \n"
     ]
    }
   ],
   "source": [
    "# Test on external test data\n",
    "test_path = \"../data/processed/processed_reports/zsfg_valid\"\n",
    "test_reports = pickle.load(open(test_path, 'rb'))\n",
    "test_report_strs = []\n",
    "for mr in test_reports:\n",
    "    report_string = \" \".join(mr[0]).replace(\"\\n\", \" \")\n",
    "    label = \" __label__\" + str(mr[1])\n",
    "    test_report_strs.append(report_string + label)\n",
    "shuffle(test_report_strs)\n",
    "\n",
    "test_data = [t.split(\"__label__\")[0] for t in test_report_strs]\n",
    "test_labels = [int(t.split(\"__label__\")[1]) for t in test_report_strs]\n",
    "print(np.unique(test_labels, return_counts=True))\n",
    "print(test_data[0])\n",
    "\n",
    "# Make predictions\n",
    "predictions = [model.predict(s) for s in test_data]\n",
    "confs = [0.5 - (p[1][0] / 2) if p[0][0] == '__label__0' else 0.5 + (p[1][0] / 2) for p in predictions]\n",
    "\n",
    "valid_fpr, valid_tpr, valid_thresholds = roc_curve(test_labels, confs, pos_label=1)\n",
    "valid_roc_auc = auc(valid_fpr, valid_tpr)"
   ]
  },
  {
   "cell_type": "code",
   "execution_count": 10,
   "metadata": {},
   "outputs": [
    {
     "name": "stdout",
     "output_type": "stream",
     "text": [
      "(array([0, 1]), array([2037,  263]))\n",
      "oval fluid collection containing embryo identified appropriately positioned within uterus consistent early intrauterine pregnancy embryonic anatomy cardiac activity within normal limits gestational age crown rump length measures 4th sonographic gestational age 9th weeks 3rd days edc 11th 5th 201this compares final_report_approved clinical age 10th weeks 2nd days clinical edc 10th NEGEX_subchorionic NEGEX_hemorrhage NEGEX_identified uterus including cervix_of_uterus otherwise normal NEGEX_evidence NEGEX_focal NEGEX_breast_mass bilateral set_of_ovaries identified normal indium appearance 2nd 8th curium unilocular cyst indium right_ovary likely corpus luteal cyst NEGEX_adnexal NEGEX_masses NEGEX_seen NEGEX_fluid NEGEX_within NEGEX_pelvic NEGEX_cul de sac \n"
     ]
    }
   ],
   "source": [
    "# Test on internal test data\n",
    "test_path = \"../data/processed/processed_reports/ucsf_imp_test\"\n",
    "test_reports = pickle.load(open(test_path, 'rb'))\n",
    "test_report_strs = []\n",
    "for mr in test_reports:\n",
    "    report_string = \" \".join(mr[0]).replace(\"\\n\", \" \")\n",
    "    label = \" __label__\" + str(mr[1])\n",
    "    test_report_strs.append(report_string + label)\n",
    "shuffle(test_report_strs)\n",
    "\n",
    "ucsftest_data = [t.split(\"__label__\")[0] for t in test_report_strs]\n",
    "ucsftest_labels = [int(t.split(\"__label__\")[1]) for t in test_report_strs]\n",
    "print(np.unique(test_labels, return_counts=True))\n",
    "print(test_data[0])\n",
    "\n",
    "# Make predictions\n",
    "ucsfpredictions = [model.predict(s) for s in ucsftest_data]\n",
    "ucsfconfs = [0.5 - (p[1][0] / 2) if p[0][0] == '__label__0' else 0.5 + (p[1][0] / 2) for p in ucsfpredictions]\n",
    "\n",
    "ucsf_fpr, ucsf_tpr, ucsf_thresholds = roc_curve(ucsftest_labels, ucsfconfs, pos_label=1)\n",
    "ucsf_roc_auc = auc(ucsf_fpr, ucsf_tpr)"
   ]
  },
  {
   "cell_type": "code",
   "execution_count": 11,
   "metadata": {},
   "outputs": [
    {
     "name": "stderr",
     "output_type": "stream",
     "text": [
      "/Users/scott/anaconda3/lib/python3.6/site-packages/matplotlib/cbook/__init__.py:2401: UserWarning: Saw kwargs ['lw', 'linewidth'] which are all aliases for 'linewidth'.  Kept value from 'linewidth'\n",
      "  seen=seen, canon=canonical, used=seen[-1]))\n"
     ]
    },
    {
     "data": {
      "image/png": "[encoded data removed]",
      "text/plain": [
       "<matplotlib.figure.Figure at 0x1a5921fc50>"
      ]
     },
     "metadata": {},
     "output_type": "display_data"
    },
    {
     "data": {
      "image/png": "[encoded data removed]",
      "text/plain": [
       "<matplotlib.figure.Figure at 0x1a59233a58>"
      ]
     },
     "metadata": {},
     "output_type": "display_data"
    },
    {
     "name": "stdout",
     "output_type": "stream",
     "text": [
      "Precision at .9 recall: 0.785\n",
      "F1 score:  0.84\n"
     ]
    }
   ],
   "source": [
    "plt.figure()\n",
    "lw = 4\n",
    "plt.plot(test_fpr, test_tpr, color='green', linewidth=2,\n",
    "         lw=lw, label='Validation ROC curve (area = %0.2f)' % test_roc_auc)\n",
    "plt.plot(ucsf_fpr, ucsf_tpr, color='red', linewidth=2,\n",
    "         lw=lw, label='Internal testing ROC curve (area = %0.2f)' % ucsf_roc_auc)\n",
    "plt.plot(valid_fpr, valid_tpr, color='darkorange', linewidth=2,\n",
    "         lw=lw, label='External testing ROC curve (area = %0.2f)' % valid_roc_auc)\n",
    "plt.plot([0, 1], [0, 1], color='navy', lw=lw, linestyle='--')\n",
    "plt.xlim([0.0, 1.0])\n",
    "plt.ylim([0.0, 1.0])\n",
    "plt.xlabel('False Positive Rate')\n",
    "plt.ylabel('True Positive Rate')\n",
    "plt.title('Receiver Operating Characteristic')\n",
    "plt.legend(loc=\"lower right\")\n",
    "plt.savefig(\"../data/figures/roc%0.3f.png\" % test_roc_auc)\n",
    "plt.show()\n",
    "\n",
    "eprecision, erecall, ethresholds = precision_recall_curve(test_labels, confs)\n",
    "eavg_prec = average_precision_score(test_labels, confs)\n",
    "\n",
    "iprecision, irecall, ithresholds = precision_recall_curve(ucsftest_labels, ucsfconfs)\n",
    "iavg_prec = average_precision_score(ucsftest_labels, ucsfconfs)\n",
    "\n",
    "plt.figure()\n",
    "lw = 3\n",
    "plt.plot(irecall, iprecision, color='green',\n",
    "         lw=lw, label='Internal Testing P/R curve (avg precision = %0.3f)' % iavg_prec)\n",
    "plt.plot(erecall, eprecision, color='darkorange',\n",
    "         lw=lw, label='External Testing P/R curve (avg precision = %0.3f)' % eavg_prec)\n",
    "plt.xlim([0.0, 1.0])\n",
    "plt.ylim([0.0, 1.0])\n",
    "plt.xlabel('Recall')\n",
    "plt.ylabel('Precision')\n",
    "plt.title('Precision/Recall Curve')\n",
    "plt.legend(loc=\"lower right\")\n",
    "plt.show()\n",
    "\n",
    "r90_index = [i for i, r in enumerate(recall) if r > .9][-1]\n",
    "p_at_r90 = precision[r90_index]\n",
    "print('Precision at .9 recall: %0.3f' % p_at_r90)\n",
    "f1 = [(2 * recall[i] * precision[i]) / (precision[i] + recall[i]) for i in range(len(recall))]\n",
    "f1 = max(f1)\n",
    "print('F1 score:  %0.2f' % f1)"
   ]
  },
  {
   "cell_type": "code",
   "execution_count": null,
   "metadata": {},
   "outputs": [],
   "source": [
    "from end2end_process import EndToEndProcessor\n",
    "from process_zsfg import get_reports_from_zsfg_csv\n",
    "import itertools\n",
    "\n",
    "corpora = [\"../../Rnet_files/out_zsfg.csv\"]\n",
    "radlex_path = \"../data/processed/radlex_replacements\"\n",
    "data = [get_reports_from_zsfg_csv(ip) for ip in corpora]\n",
    "merged_data = list(set(list(itertools.chain.from_iterable(data))))\n",
    "shuffle(merged_data)\n",
    "merged_data = merged_data\n",
    "\n",
    "e2e = EndToEndProcessor(\"../data/processed/clever_replacements\", radlex=\"../data/processed/radlex_replacements\")\n",
    "\n",
    "report_pairs = []\n",
    "while len(merged_data) > 0:\n",
    "    labeled_proced = e2e.transform([merged_data[-1]])\n",
    "    if len(labeled_proced) == 1:\n",
    "        report_pairs.append((merged_data[-1], labeled_proced[0]))\n",
    "    merged_data = merged_data[:-1]\n",
    "shuffle(report_pairs)\n",
    "\n",
    "mapped_report_strs = []\n",
    "for mr in report_pairs:\n",
    "    report_string = \" \".join(mr[1][0]).replace(\"\\n\", \" \")\n",
    "    label = \" __label__\" + str(mr[1][1])\n",
    "    mapped_report_strs.append((mr[0], report_string + label))\n",
    "\n",
    "test = mapped_report_strs\n",
    "\n",
    "test_og = [t[0] for t in test]\n",
    "test_data = [t[1].split(\"__label__\")[0] for t in test]\n",
    "test_labels = [int(t[1].split(\"__label__\")[1]) for t in test]\n",
    "\n",
    "class Report():\n",
    "    def __init__(self, original, data, label):\n",
    "        self.original = original\n",
    "        self.data = data\n",
    "        self.label = label\n",
    "        prediction = model.predict(data)\n",
    "        self.conf = 1 - prediction[1][0] if prediction[0][0] == '__label__0' else prediction[1][0]\n",
    "        self.confusion = (self.label - self.conf) ** 2\n",
    "\n",
    "report_objs = []\n",
    "for i in range(len(test)):\n",
    "    report_objs.append(Report(test_og[i], test_data[i], test_labels[i]))\n",
    "print(len(report_objs))"
   ]
  },
  {
   "cell_type": "code",
   "execution_count": null,
   "metadata": {},
   "outputs": [],
   "source": [
    "pos_reps = [r for r in report_objs if r.label == 1 and r.conf < 0.8]\n",
    "neg_reps = [r for r in report_objs if r.label == 0 and r.conf > 0.5]\n",
    "sorted_pos = sorted(pos_reps, key=lambda x : x.confusion * -1)\n",
    "sorted_neg = sorted(neg_reps, key=lambda x : x.confusion * -1)"
   ]
  },
  {
   "cell_type": "code",
   "execution_count": null,
   "metadata": {},
   "outputs": [],
   "source": [
    "import csv\n",
    "\n",
    "with open('../data/zsfg_false_pos.csv', 'w') as csvfile:\n",
    "    field_names = [\"Original Report\", \"Processed Report\", \"Ground Truth Label\", \"Predicted Label\"]\n",
    "    writer = csv.DictWriter(csvfile, fieldnames=field_names)\n",
    "    writer.writeheader()\n",
    "    \n",
    "    for ro in sorted_neg:\n",
    "        to_write = {}\n",
    "        to_write[\"Original Report\"] = ro.original\n",
    "        to_write[\"Processed Report\"] = ro.data\n",
    "        to_write[\"Ground Truth Label\"] = ro.label\n",
    "        to_write[\"Predicted Label\"] = ro.conf\n",
    "        writer.writerow(to_write)\n",
    "\n",
    "with open('../data/zsfg_false_neg.csv', 'w') as csvfile:\n",
    "    field_names = [\"Original Report\", \"Processed Report\", \"Ground Truth Label\", \"Predicted Label\"]\n",
    "    writer = csv.DictWriter(csvfile, fieldnames=field_names)\n",
    "    writer.writeheader()\n",
    "    \n",
    "    for ro in sorted_pos:\n",
    "        to_write = {}\n",
    "        to_write[\"Original Report\"] = ro.original\n",
    "        to_write[\"Processed Report\"] = ro.data\n",
    "        to_write[\"Ground Truth Label\"] = ro.label\n",
    "        to_write[\"Predicted Label\"] = ro.conf\n",
    "        writer.writerow(to_write)\n",
    "        \n",
    "with open('../data/zsfg_all.csv', 'w') as csvfile:\n",
    "    field_names = [\"Original Report\", \"Processed Report\", \"Ground Truth Label\", \"Predicted Label\"]\n",
    "    writer = csv.DictWriter(csvfile, fieldnames=field_names)\n",
    "    writer.writeheader()\n",
    "    \n",
    "    for ro in report_objs:\n",
    "        to_write = {}\n",
    "        to_write[\"Original Report\"] = ro.original\n",
    "        to_write[\"Processed Report\"] = ro.data\n",
    "        to_write[\"Ground Truth Label\"] = ro.label\n",
    "        to_write[\"Predicted Label\"] = ro.conf\n",
    "        writer.writerow(to_write)"
   ]
  },
  {
   "cell_type": "code",
   "execution_count": null,
   "metadata": {},
   "outputs": [],
   "source": [
    "# Write test UCSF examples\n",
    "from preprocessing import get_reports_from_csv\n",
    "\n",
    "\n",
    "corpora = [\"../../report_csvs/ucsf_test.csv\"]\n",
    "radlex_path = \"../data/processed/radlex_replacements\"\n",
    "data = [get_reports_from_csv(ip) for ip in corpora]\n",
    "merged_data = list(set(list(itertools.chain.from_iterable(data))))\n",
    "shuffle(merged_data)\n",
    "merged_data = merged_data\n",
    "\n",
    "e2e = EndToEndProcessor(\"../data/processed/clever_replacements\", radlex=\"../data/processed/radlex_replacements\")\n",
    "\n",
    "report_pairs = []\n",
    "while len(merged_data) > 0:\n",
    "    labeled_proced = e2e.transform([merged_data[-1]])\n",
    "    if len(labeled_proced) == 1:\n",
    "        report_pairs.append((merged_data[-1], labeled_proced[0]))\n",
    "    merged_data = merged_data[:-1]\n",
    "shuffle(report_pairs)\n",
    "\n",
    "mapped_report_strs = []\n",
    "for mr in report_pairs:\n",
    "    report_string = \" \".join(mr[1][0]).replace(\"\\n\", \" \")\n",
    "    label = \" __label__\" + str(mr[1][1])\n",
    "    mapped_report_strs.append((mr[0], report_string + label))\n",
    "\n",
    "test = mapped_report_strs\n",
    "\n",
    "test_og = [t[0] for t in test]\n",
    "test_data = [t[1].split(\"__label__\")[0] for t in test]\n",
    "test_labels = [int(t[1].split(\"__label__\")[1]) for t in test]\n",
    "\n",
    "report_objs = []\n",
    "for i in range(len(test)):\n",
    "    report_objs.append(Report(test_og[i], test_data[i], test_labels[i]))\n",
    "print(len(report_objs))"
   ]
  },
  {
   "cell_type": "code",
   "execution_count": null,
   "metadata": {},
   "outputs": [],
   "source": [
    "import csv\n",
    "\n",
    "with open('../data/ucsf_test.csv', 'w') as csvfile:\n",
    "    field_names = [\"Original Report\", \"Processed Report\", \"Ground Truth Label\", \"Predicted Label\"]\n",
    "    writer = csv.DictWriter(csvfile, fieldnames=field_names)\n",
    "    writer.writeheader()\n",
    "    \n",
    "    for ro in report_objs:\n",
    "        to_write = {}\n",
    "        to_write[\"Original Report\"] = ro.original\n",
    "        to_write[\"Processed Report\"] = ro.data\n",
    "        to_write[\"Ground Truth Label\"] = ro.label\n",
    "        to_write[\"Predicted Label\"] = '%0.3f' % ro.conf\n",
    "        writer.writerow(to_write)"
   ]
  },
  {
   "cell_type": "code",
   "execution_count": null,
   "metadata": {},
   "outputs": [],
   "source": [
    "# Write all UCSF examples\n",
    "from preprocessing import get_reports_from_csv\n",
    "\n",
    "\n",
    "corpora = [\"../../Rnet_files/positive_examples.csv\", \"../../Rnet_files/random_examples.csv\", \"../../Rnet_files/20170305-20170311RadReport.csv\"]\n",
    "radlex_path = \"../data/processed/radlex_replacements\"\n",
    "data = [get_reports_from_csv(ip) for ip in corpora]\n",
    "merged_data = list(set(list(itertools.chain.from_iterable(data))))\n",
    "shuffle(merged_data)\n",
    "merged_data = merged_data\n",
    "\n",
    "e2e = EndToEndProcessor(\"../data/processed/clever_replacements\", radlex=\"../data/processed/radlex_replacements\")\n",
    "\n",
    "report_pairs = []\n",
    "while len(merged_data) > 0:\n",
    "    labeled_proced = e2e.transform([merged_data[-1]])\n",
    "    if len(labeled_proced) == 1:\n",
    "        report_pairs.append((merged_data[-1], labeled_proced[0]))\n",
    "    merged_data = merged_data[:-1]\n",
    "shuffle(report_pairs)\n",
    "\n",
    "mapped_report_strs = []\n",
    "for mr in report_pairs:\n",
    "    report_string = \" \".join(mr[1][0]).replace(\"\\n\", \" \")\n",
    "    label = \" __label__\" + str(mr[1][1])\n",
    "    mapped_report_strs.append((mr[0], report_string + label))\n",
    "\n",
    "test = mapped_report_strs\n",
    "\n",
    "test_og = [t[0] for t in test]\n",
    "test_data = [t[1].split(\"__label__\")[0] for t in test]\n",
    "test_labels = [int(t[1].split(\"__label__\")[1]) for t in test]\n",
    "\n",
    "report_objs = []\n",
    "for i in range(len(test)):\n",
    "    report_objs.append(Report(test_og[i], test_data[i], test_labels[i]))\n",
    "print(len(report_objs))"
   ]
  },
  {
   "cell_type": "code",
   "execution_count": null,
   "metadata": {},
   "outputs": [],
   "source": []
  },
  {
   "cell_type": "code",
   "execution_count": null,
   "metadata": {},
   "outputs": [],
   "source": [
    "with open('../data/ucsf_all.csv', 'w') as csvfile:\n",
    "    field_names = [\"Original Report\", \"Processed Report\", \"Ground Truth Label\", \"Predicted Label\"]\n",
    "    writer = csv.DictWriter(csvfile, fieldnames=field_names)\n",
    "    writer.writeheader()\n",
    "    \n",
    "    for ro in report_objs:\n",
    "        to_write = {}\n",
    "        to_write[\"Original Report\"] = ro.original\n",
    "        to_write[\"Processed Report\"] = ro.data\n",
    "        to_write[\"Ground Truth Label\"] = ro.label\n",
    "        to_write[\"Predicted Label\"] = '%0.3f' % ro.conf\n",
    "        writer.writerow(to_write)"
   ]
  },
  {
   "cell_type": "code",
   "execution_count": null,
   "metadata": {},
   "outputs": [],
   "source": []
  },
  {
   "cell_type": "code",
   "execution_count": null,
   "metadata": {},
   "outputs": [],
   "source": []
  },
  {
   "cell_type": "code",
   "execution_count": null,
   "metadata": {},
   "outputs": [],
   "source": []
  }
 ],
 "metadata": {
  "kernelspec": {
   "display_name": "Python 3",
   "language": "python",
   "name": "python3"
  },
  "language_info": {
   "codemirror_mode": {
    "name": "ipython",
    "version": 3
   },
   "file_extension": ".py",
   "mimetype": "text/x-python",
   "name": "python",
   "nbconvert_exporter": "python",
   "pygments_lexer": "ipython3",
   "version": "3.6.3"
  }
 },
 "nbformat": 4,
 "nbformat_minor": 2
}
