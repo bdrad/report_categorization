{
 "cells": [
  {
   "cell_type": "code",
   "execution_count": 15,
   "metadata": {},
   "outputs": [],
   "source": [
    "import train_embeddings\n",
    "import matplotlib.pyplot as plt\n",
    "import sentence_features\n",
    "import pickle\n",
    "import numpy as np\n",
    "from sklearn.pipeline import Pipeline, FeatureUnion, make_pipeline\n",
    "from sklearn.linear_model import SGDClassifier\n",
    "from sklearn.metrics import precision_recall_fscore_support, roc_curve, auc, precision_recall_curve, average_precision_score\n",
    "from sklearn.svm import SVC\n",
    "from sklearn.neighbors import KNeighborsClassifier\n",
    "from sklearn.ensemble import RandomForestClassifier\n",
    "from sklearn.neural_network import MLPClassifier"
   ]
  },
  {
   "cell_type": "code",
   "execution_count": 2,
   "metadata": {},
   "outputs": [],
   "source": [
    "word2vec_path = \"../data/models/word2vec/word2vecGensim_sw_cbow.bin\"\n",
    "word2vec = train_embeddings.load_word2vec_model(word2vec_path)\n",
    "mapped_reports_path = \"../data/processed/processed_reports/preprocessed_replace_sw\"\n",
    "# mapped_reports_path = \"../data/processed/preprocessed_findings_replace_sw\"\n",
    "mapped_reports = pickle.load(open(mapped_reports_path, 'rb'))"
   ]
  },
  {
   "cell_type": "code",
   "execution_count": 3,
   "metadata": {},
   "outputs": [
    {
     "name": "stderr",
     "output_type": "stream",
     "text": [
      "/Users/scott/anaconda3/lib/python3.6/site-packages/numpy/core/fromnumeric.py:2957: RuntimeWarning: Mean of empty slice.\n",
      "  out=out, **kwargs)\n",
      "/Users/scott/anaconda3/lib/python3.6/site-packages/numpy/core/_methods.py:80: RuntimeWarning: invalid value encountered in double_scalars\n",
      "  ret = ret.dtype.type(ret / rcount)\n"
     ]
    }
   ],
   "source": [
    "pipeline = make_pipeline(train_embeddings.WordVectorizer(word2vec), sentence_features.ReportVectorAverager(), sentence_features.LabelSeparator(), None)\n",
    "data, labels = pipeline.transform(mapped_reports)"
   ]
  },
  {
   "cell_type": "code",
   "execution_count": 4,
   "metadata": {},
   "outputs": [
    {
     "name": "stdout",
     "output_type": "stream",
     "text": [
      "(array([0, 1]), array([27824, 16976]))\n",
      "(array([0, 1]), array([6921, 4279]))\n"
     ]
    }
   ],
   "source": [
    "split_point = int(0.8 * len(data))\n",
    "\n",
    "trainingX = data[:split_point]\n",
    "trainingY = labels[:split_point]\n",
    "print(np.unique(trainingY, return_counts=True))\n",
    "\n",
    "testingX = data[split_point:]\n",
    "testingY = labels[split_point:]\n",
    "print(np.unique(testingY, return_counts=True))"
   ]
  },
  {
   "cell_type": "code",
   "execution_count": 5,
   "metadata": {},
   "outputs": [
    {
     "name": "stderr",
     "output_type": "stream",
     "text": [
      "/Users/scott/anaconda3/lib/python3.6/site-packages/sklearn/linear_model/stochastic_gradient.py:128: FutureWarning: max_iter and tol parameters have been added in <class 'sklearn.linear_model.stochastic_gradient.SGDClassifier'> in 0.19. If both are left unset, they default to max_iter=5 and tol=None. If tol is not None, max_iter defaults to max_iter=1000. From 0.21, default max_iter will be 1000, and default tol will be 1e-3.\n",
      "  \"and default tol will be 1e-3.\" % type(self), FutureWarning)\n"
     ]
    },
    {
     "data": {
      "text/plain": [
       "SGDClassifier(alpha=0.0001, average=False, class_weight=None, epsilon=0.1,\n",
       "       eta0=0.0, fit_intercept=True, l1_ratio=0.15,\n",
       "       learning_rate='optimal', loss='hinge', max_iter=None, n_iter=None,\n",
       "       n_jobs=1, penalty='l2', power_t=0.5, random_state=None,\n",
       "       shuffle=True, tol=None, verbose=0, warm_start=False)"
      ]
     },
     "execution_count": 5,
     "metadata": {},
     "output_type": "execute_result"
    }
   ],
   "source": [
    "clf = SGDClassifier()\n",
    "clf.fit(trainingX, trainingY)"
   ]
  },
  {
   "cell_type": "code",
   "execution_count": 6,
   "metadata": {},
   "outputs": [
    {
     "name": "stdout",
     "output_type": "stream",
     "text": [
      "(array([0, 1]), array([7465, 3735]))\n"
     ]
    }
   ],
   "source": [
    "predictions = clf.predict(testingX)\n",
    "print(np.unique(predictions, return_counts=True))"
   ]
  },
  {
   "cell_type": "code",
   "execution_count": 7,
   "metadata": {},
   "outputs": [
    {
     "name": "stdout",
     "output_type": "stream",
     "text": [
      "0.7269076305220884\n",
      "0.6344940406637065\n"
     ]
    }
   ],
   "source": [
    "precision, recall, _, _ = precision_recall_fscore_support(testingY, predictions, average = \"binary\")\n",
    "print(precision)\n",
    "print(recall)"
   ]
  },
  {
   "cell_type": "code",
   "execution_count": 8,
   "metadata": {},
   "outputs": [
    {
     "data": {
      "image/png": "[encoded data removed]",
      "text/plain": [
       "<matplotlib.figure.Figure at 0x1a2fb4e518>"
      ]
     },
     "metadata": {},
     "output_type": "display_data"
    }
   ],
   "source": [
    "y_score = clf.decision_function(testingX)\n",
    "fpr, tpr, thresholds = roc_curve(testingY, y_score, pos_label=1)\n",
    "roc_auc = auc(fpr, tpr)\n",
    "\n",
    "plt.figure()\n",
    "lw = 2\n",
    "plt.plot(fpr, tpr, color='darkorange',\n",
    "         lw=lw, label='ROC curve (area = %0.2f)' % roc_auc)\n",
    "plt.plot([0, 1], [0, 1], color='navy', lw=lw, linestyle='--')\n",
    "plt.xlim([0.0, 1.0])\n",
    "plt.ylim([0.0, 1.0])\n",
    "plt.xlabel('False Positive Rate')\n",
    "plt.ylabel('True Positive Rate')\n",
    "plt.title('Receiver Operating Characteristic')\n",
    "plt.legend(loc=\"lower right\")\n",
    "plt.show()"
   ]
  },
  {
   "cell_type": "code",
   "execution_count": null,
   "metadata": {},
   "outputs": [],
   "source": [
    "# kNN Classification for word2vec\n",
    "clf = KNeighborsClassifier(n_neighbors=10)\n",
    "clf.fit(trainingX, trainingY)\n",
    "\n",
    "predictions = clf.predict(testingX)\n",
    "print(np.unique(predictions, return_counts=True))\n",
    "precision, recall, _, _ = precision_recall_fscore_support(testingY, predictions, average = \"binary\")\n",
    "print(precision)\n",
    "print(recall)"
   ]
  },
  {
   "cell_type": "code",
   "execution_count": null,
   "metadata": {},
   "outputs": [],
   "source": [
    "class_probs = clf.predict_proba(testingX)\n",
    "conf = [c[1] for c in class_probs]\n",
    "\n",
    "fpr, tpr, thresholds = roc_curve(testingY, conf, pos_label=1)\n",
    "roc_auc = auc(fpr, tpr)\n",
    "\n",
    "plt.figure()\n",
    "lw = 2\n",
    "plt.plot(fpr, tpr, color='darkorange',\n",
    "         lw=lw, label='ROC curve (area = %0.2f)' % roc_auc)\n",
    "plt.plot([0, 1], [0, 1], color='navy', lw=lw, linestyle='--')\n",
    "plt.xlim([0.0, 1.0])\n",
    "plt.ylim([0.0, 1.0])\n",
    "plt.xlabel('False Positive Rate')\n",
    "plt.ylabel('True Positive Rate')\n",
    "plt.title('Receiver Operating Characteristic')\n",
    "plt.legend(loc=\"lower right\")\n",
    "plt.show()"
   ]
  },
  {
   "cell_type": "code",
   "execution_count": 9,
   "metadata": {},
   "outputs": [],
   "source": [
    "# Now try FastText\n",
    "fastText_path = \"../data/models/fastText/fastText_sw_cbow.bin\"\n",
    "ft = train_embeddings.load_fastText_model(fastText_path)"
   ]
  },
  {
   "cell_type": "code",
   "execution_count": 27,
   "metadata": {},
   "outputs": [
    {
     "name": "stdout",
     "output_type": "stream",
     "text": [
      "(array([0, 1]), array([32434, 18084]))\n",
      "(array([0, 1]), array([5691, 3225]))\n"
     ]
    }
   ],
   "source": [
    "pipeline = make_pipeline(train_embeddings.FastTextReportVectorizer(ft), sentence_features.LabelSeparator(), None)\n",
    "data, labels = pipeline.transform(mapped_reports)\n",
    "\n",
    "split_point = int(0.85 * len(data))\n",
    "\n",
    "trainingX = data[:split_point]\n",
    "trainingY = labels[:split_point]\n",
    "print(np.unique(trainingY, return_counts=True))\n",
    "\n",
    "testingX = data[split_point:]\n",
    "testingY = labels[split_point:]\n",
    "print(np.unique(testingY, return_counts=True))"
   ]
  },
  {
   "cell_type": "code",
   "execution_count": 28,
   "metadata": {},
   "outputs": [
    {
     "name": "stderr",
     "output_type": "stream",
     "text": [
      "/Users/scott/anaconda3/lib/python3.6/site-packages/sklearn/linear_model/stochastic_gradient.py:128: FutureWarning: max_iter and tol parameters have been added in <class 'sklearn.linear_model.stochastic_gradient.SGDClassifier'> in 0.19. If both are left unset, they default to max_iter=5 and tol=None. If tol is not None, max_iter defaults to max_iter=1000. From 0.21, default max_iter will be 1000, and default tol will be 1e-3.\n",
      "  \"and default tol will be 1e-3.\" % type(self), FutureWarning)\n"
     ]
    },
    {
     "name": "stdout",
     "output_type": "stream",
     "text": [
      "(array([0, 1]), array([5560, 3356]))\n",
      "0.6862336114421931\n",
      "0.714108527131783\n"
     ]
    }
   ],
   "source": [
    "clf = SGDClassifier()\n",
    "clf.fit(trainingX, trainingY)\n",
    "predictions = clf.predict(testingX)\n",
    "print(np.unique(predictions, return_counts=True))\n",
    "precision, recall, _, _ = precision_recall_fscore_support(testingY, predictions, average = \"binary\")\n",
    "print(precision)\n",
    "print(recall)"
   ]
  },
  {
   "cell_type": "code",
   "execution_count": 29,
   "metadata": {},
   "outputs": [
    {
     "data": {
      "image/png": "[encoded data removed]",
      "text/plain": [
       "<matplotlib.figure.Figure at 0x1a2fecaa20>"
      ]
     },
     "metadata": {},
     "output_type": "display_data"
    }
   ],
   "source": [
    "y_score = clf.decision_function(testingX)\n",
    "fpr, tpr, thresholds = roc_curve(testingY, y_score, pos_label=1)\n",
    "roc_auc = auc(fpr, tpr)\n",
    "\n",
    "plt.figure()\n",
    "lw = 2\n",
    "plt.plot(fpr, tpr, color='darkorange',\n",
    "         lw=lw, label='ROC curve (area = %0.2f)' % roc_auc)\n",
    "plt.plot([0, 1], [0, 1], color='navy', lw=lw, linestyle='--')\n",
    "plt.xlim([0.0, 1.0])\n",
    "plt.ylim([0.0, 1.0])\n",
    "plt.xlabel('False Positive Rate')\n",
    "plt.ylabel('True Positive Rate')\n",
    "plt.title('Receiver Operating Characteristic')\n",
    "plt.legend(loc=\"lower right\")\n",
    "plt.show()"
   ]
  },
  {
   "cell_type": "code",
   "execution_count": null,
   "metadata": {},
   "outputs": [],
   "source": [
    "# kNN Classification for fastText\n",
    "clf = KNeighborsClassifier(n_neighbors=10)\n",
    "clf.fit(trainingX, trainingY)\n",
    "\n",
    "predictions = clf.predict(testingX)\n",
    "print(np.unique(predictions, return_counts=True))\n",
    "precision, recall, _, _ = precision_recall_fscore_support(testingY, predictions, average = \"binary\")\n",
    "print(precision)\n",
    "print(recall)"
   ]
  },
  {
   "cell_type": "code",
   "execution_count": null,
   "metadata": {},
   "outputs": [],
   "source": [
    "class_probs = clf.predict_proba(testingX)\n",
    "conf = [c[1] for c in class_probs]\n",
    "\n",
    "fpr, tpr, thresholds = roc_curve(testingY, conf, pos_label=1)\n",
    "roc_auc = auc(fpr, tpr)\n",
    "\n",
    "plt.figure()\n",
    "lw = 2\n",
    "plt.plot(fpr, tpr, color='darkorange',\n",
    "         lw=lw, label='ROC curve (area = %0.2f)' % roc_auc)\n",
    "plt.plot([0, 1], [0, 1], color='navy', lw=lw, linestyle='--')\n",
    "plt.xlim([0.0, 1.0])\n",
    "plt.ylim([0.0, 1.0])\n",
    "plt.xlabel('False Positive Rate')\n",
    "plt.ylabel('True Positive Rate')\n",
    "plt.title('Receiver Operating Characteristic')\n",
    "plt.legend(loc=\"lower right\")\n",
    "plt.show()"
   ]
  },
  {
   "cell_type": "code",
   "execution_count": 30,
   "metadata": {},
   "outputs": [
    {
     "name": "stdout",
     "output_type": "stream",
     "text": [
      "(array([0, 1]), array([6224, 2692]))\n",
      "0.7979197622585439\n",
      "0.666046511627907\n"
     ]
    }
   ],
   "source": [
    "# Random Forests for FastText\n",
    "clf = RandomForestClassifier(n_estimators=16)\n",
    "clf.fit(trainingX, trainingY)\n",
    "\n",
    "predictions = clf.predict(testingX)\n",
    "print(np.unique(predictions, return_counts=True))\n",
    "precision, recall, _, _ = precision_recall_fscore_support(testingY, predictions, average = \"binary\")\n",
    "print(precision)\n",
    "print(recall)"
   ]
  },
  {
   "cell_type": "code",
   "execution_count": 31,
   "metadata": {},
   "outputs": [
    {
     "data": {
      "image/png": "[encoded data removed]",
      "text/plain": [
       "<matplotlib.figure.Figure at 0x1a30015da0>"
      ]
     },
     "metadata": {},
     "output_type": "display_data"
    },
    {
     "data": {
      "image/png": "[encoded data removed]",
      "text/plain": [
       "<matplotlib.figure.Figure at 0x1a300a04a8>"
      ]
     },
     "metadata": {},
     "output_type": "display_data"
    }
   ],
   "source": [
    "class_probs = clf.predict_proba(testingX)\n",
    "conf = [c[1] for c in class_probs]\n",
    "\n",
    "fpr, tpr, thresholds = roc_curve(testingY, conf, pos_label=1)\n",
    "roc_auc = auc(fpr, tpr)\n",
    "\n",
    "plt.figure()\n",
    "lw = 2\n",
    "plt.plot(fpr, tpr, color='darkorange',\n",
    "         lw=lw, label='Testing ROC curve (area = %0.2f)' % roc_auc)\n",
    "plt.plot([0, 1], [0, 1], color='navy', lw=lw, linestyle='--')\n",
    "plt.xlim([0.0, 1.0])\n",
    "plt.ylim([0.0, 1.0])\n",
    "plt.xlabel('False Positive Rate')\n",
    "plt.ylabel('True Positive Rate')\n",
    "plt.title('Receiver Operating Characteristic')\n",
    "plt.legend(loc=\"lower right\")\n",
    "plt.show()\n",
    "\n",
    "precision, recall, thresholds = precision_recall_curve(testingY, conf)\n",
    "avg_prec = average_precision_score(testingY, conf)\n",
    "\n",
    "plt.figure()\n",
    "lw = 2\n",
    "plt.plot(recall, precision, color='darkorange',\n",
    "         lw=lw, label='Testing P/R curve (avg precision = %0.2f)' % avg_prec)\n",
    "plt.xlim([0.0, 1.0])\n",
    "plt.ylim([0.0, 1.0])\n",
    "plt.xlabel('Recall')\n",
    "plt.ylabel('Precision')\n",
    "plt.title('Precision/Recall Curve')\n",
    "plt.legend(loc=\"lower right\")\n",
    "plt.show()"
   ]
  },
  {
   "cell_type": "code",
   "execution_count": null,
   "metadata": {},
   "outputs": [
    {
     "name": "stdout",
     "output_type": "stream",
     "text": [
      "Iteration 1, loss = 0.55808212\n",
      "Iteration 2, loss = 0.46177236\n",
      "Iteration 3, loss = 0.44434973\n",
      "Iteration 4, loss = 0.43495453\n",
      "Iteration 5, loss = 0.42822496\n",
      "Iteration 6, loss = 0.42321926\n",
      "Iteration 7, loss = 0.41883867\n",
      "Iteration 8, loss = 0.41512855\n",
      "Iteration 9, loss = 0.41170608\n",
      "Iteration 10, loss = 0.40900893\n",
      "Iteration 11, loss = 0.40629002\n",
      "Iteration 12, loss = 0.40400295\n",
      "Iteration 13, loss = 0.40097760\n",
      "Iteration 14, loss = 0.39924964\n",
      "Iteration 15, loss = 0.39686565\n",
      "Iteration 16, loss = 0.39498382\n",
      "Iteration 17, loss = 0.39342130\n",
      "Iteration 18, loss = 0.39121195\n",
      "Iteration 19, loss = 0.38955106\n",
      "Iteration 20, loss = 0.38804431\n",
      "Iteration 21, loss = 0.38654692\n",
      "Iteration 22, loss = 0.38468845\n",
      "Iteration 23, loss = 0.38301986\n",
      "Iteration 24, loss = 0.38156010\n",
      "Iteration 25, loss = 0.38020925\n",
      "Iteration 26, loss = 0.37838663\n",
      "Iteration 27, loss = 0.37711595\n",
      "Iteration 28, loss = 0.37577741\n",
      "Iteration 29, loss = 0.37420898\n",
      "Iteration 30, loss = 0.37321000\n",
      "Iteration 31, loss = 0.37196609\n",
      "Iteration 32, loss = 0.37030466\n",
      "Iteration 33, loss = 0.36940107\n",
      "Iteration 34, loss = 0.36815454\n",
      "Iteration 35, loss = 0.36675924\n",
      "Iteration 36, loss = 0.36494898\n",
      "Iteration 37, loss = 0.36390189\n",
      "Iteration 38, loss = 0.36291921\n",
      "Iteration 39, loss = 0.36175722\n",
      "Iteration 40, loss = 0.36026922\n",
      "Iteration 41, loss = 0.35908534\n",
      "Iteration 42, loss = 0.35819781\n",
      "Iteration 43, loss = 0.35729553\n",
      "Iteration 44, loss = 0.35565985\n",
      "Iteration 45, loss = 0.35498903\n",
      "Iteration 46, loss = 0.35398950\n",
      "Iteration 47, loss = 0.35348847\n",
      "Iteration 48, loss = 0.35190821\n",
      "Iteration 49, loss = 0.35057431\n",
      "Iteration 50, loss = 0.34977523\n",
      "Iteration 51, loss = 0.34892364\n",
      "Iteration 52, loss = 0.34752752\n",
      "Iteration 53, loss = 0.34695334\n",
      "Iteration 54, loss = 0.34617605\n",
      "Iteration 55, loss = 0.34510878\n",
      "Iteration 56, loss = 0.34413711\n",
      "Iteration 57, loss = 0.34299822\n",
      "Iteration 58, loss = 0.34203177\n",
      "Iteration 59, loss = 0.34124054\n",
      "Iteration 60, loss = 0.34028116\n",
      "Iteration 61, loss = 0.33947915\n",
      "Iteration 62, loss = 0.33855336\n",
      "Iteration 63, loss = 0.33767885\n",
      "Iteration 64, loss = 0.33651633\n",
      "Iteration 65, loss = 0.33670998\n",
      "Iteration 66, loss = 0.33475601\n",
      "Iteration 67, loss = 0.33440712\n",
      "Iteration 68, loss = 0.33348715\n",
      "Iteration 69, loss = 0.33277589\n",
      "Iteration 70, loss = 0.33214483\n",
      "Iteration 71, loss = 0.33066340\n",
      "Iteration 72, loss = 0.33016717\n",
      "Iteration 73, loss = 0.32927222\n",
      "Iteration 74, loss = 0.32896518\n",
      "Iteration 75, loss = 0.32797866\n",
      "Iteration 76, loss = 0.32767656\n",
      "Iteration 77, loss = 0.32612531\n",
      "Iteration 78, loss = 0.32523215\n",
      "Iteration 79, loss = 0.32466682\n",
      "Iteration 80, loss = 0.32410921\n",
      "Iteration 81, loss = 0.32355608\n",
      "Iteration 82, loss = 0.32283095\n",
      "Iteration 83, loss = 0.32194624\n",
      "Iteration 84, loss = 0.32195901\n",
      "Iteration 85, loss = 0.32032892\n",
      "Iteration 86, loss = 0.31949998\n",
      "Iteration 87, loss = 0.31973995\n",
      "Iteration 88, loss = 0.31826428\n",
      "Iteration 89, loss = 0.31778415\n",
      "Iteration 90, loss = 0.31671378\n",
      "Iteration 91, loss = 0.31626177\n",
      "Iteration 92, loss = 0.31552603\n",
      "Iteration 93, loss = 0.31501568\n",
      "Iteration 94, loss = 0.31447530\n",
      "Iteration 95, loss = 0.31316122\n",
      "Iteration 96, loss = 0.31281048\n",
      "Iteration 97, loss = 0.31213198\n",
      "Iteration 98, loss = 0.31195622\n",
      "Iteration 99, loss = 0.31109659\n",
      "Iteration 100, loss = 0.31043105\n",
      "Iteration 101, loss = 0.30959727\n",
      "Iteration 102, loss = 0.30936579\n",
      "Iteration 103, loss = 0.30765929\n",
      "Iteration 104, loss = 0.30735152\n",
      "Iteration 105, loss = 0.30665678\n",
      "Iteration 106, loss = 0.30616009\n",
      "Iteration 107, loss = 0.30578373\n",
      "Iteration 108, loss = 0.30557398\n",
      "Iteration 109, loss = 0.30462641\n",
      "Iteration 110, loss = 0.30361841\n",
      "Iteration 111, loss = 0.30368932\n",
      "Iteration 112, loss = 0.30297017\n",
      "Iteration 113, loss = 0.30153389\n",
      "Iteration 114, loss = 0.30261923\n",
      "Iteration 115, loss = 0.30095094\n",
      "Iteration 116, loss = 0.30015524\n",
      "Iteration 117, loss = 0.30007587\n",
      "Iteration 118, loss = 0.29921540\n",
      "Iteration 119, loss = 0.29852009\n",
      "Iteration 120, loss = 0.29801749\n",
      "Iteration 121, loss = 0.29799728\n",
      "Iteration 122, loss = 0.29726359\n",
      "Iteration 123, loss = 0.29673815\n",
      "Iteration 124, loss = 0.29569695\n",
      "Iteration 125, loss = 0.29550610\n",
      "Iteration 126, loss = 0.29468358\n",
      "Iteration 127, loss = 0.29466884\n",
      "Iteration 128, loss = 0.29460539\n",
      "Iteration 129, loss = 0.29278723\n",
      "Iteration 130, loss = 0.29254163\n",
      "Iteration 131, loss = 0.29189839\n",
      "Iteration 132, loss = 0.29135723\n",
      "Iteration 133, loss = 0.29122143\n",
      "Iteration 134, loss = 0.28983995\n",
      "Iteration 135, loss = 0.28953143\n",
      "Iteration 136, loss = 0.28874570\n",
      "Iteration 137, loss = 0.28844939\n",
      "Iteration 138, loss = 0.28856454\n",
      "Iteration 139, loss = 0.28763537\n",
      "Iteration 140, loss = 0.28742019\n",
      "Iteration 141, loss = 0.28670338\n",
      "Iteration 142, loss = 0.28574263\n",
      "Iteration 143, loss = 0.28560011\n",
      "Iteration 144, loss = 0.28550891\n",
      "Iteration 145, loss = 0.28410468\n",
      "Iteration 146, loss = 0.28405817\n",
      "Iteration 147, loss = 0.28394126\n",
      "Iteration 148, loss = 0.28353921\n",
      "Iteration 149, loss = 0.28238906\n",
      "Iteration 150, loss = 0.28201497\n",
      "Iteration 151, loss = 0.28219672\n",
      "Iteration 152, loss = 0.28083349\n",
      "Iteration 153, loss = 0.28131504\n",
      "Iteration 154, loss = 0.28104511\n",
      "Iteration 155, loss = 0.27988043\n",
      "Iteration 156, loss = 0.27861795\n",
      "Iteration 157, loss = 0.27899778\n",
      "Iteration 158, loss = 0.27835914\n",
      "Iteration 159, loss = 0.27850892\n",
      "Iteration 160, loss = 0.27748265\n",
      "Iteration 161, loss = 0.27750072\n",
      "Iteration 162, loss = 0.27659646\n",
      "Iteration 163, loss = 0.27632134\n",
      "Iteration 164, loss = 0.27536410\n",
      "Iteration 165, loss = 0.27556930\n",
      "Iteration 166, loss = 0.27477455\n",
      "Iteration 167, loss = 0.27482836\n",
      "Iteration 168, loss = 0.27496166\n",
      "Iteration 169, loss = 0.27296127\n",
      "Iteration 170, loss = 0.27291155\n",
      "Iteration 171, loss = 0.27262393\n",
      "Iteration 172, loss = 0.27282583\n",
      "Iteration 173, loss = 0.27190098\n",
      "Iteration 174, loss = 0.27085873\n",
      "Iteration 175, loss = 0.27054837\n",
      "Iteration 176, loss = 0.27057315\n",
      "Iteration 177, loss = 0.26973623\n"
     ]
    }
   ],
   "source": [
    "# fastText MLP\n",
    "clf = MLPClassifier(verbose=True, hidden_layer_sizes=(100), alpha=0.001)\n",
    "clf.fit(trainingX, trainingY)\n",
    "\n",
    "predictions = clf.predict(testingX)\n",
    "print(np.unique(predictions, return_counts=True))\n",
    "precision, recall, _, _ = precision_recall_fscore_support(testingY, predictions, average = \"binary\")\n",
    "print(precision)\n",
    "print(recall)"
   ]
  },
  {
   "cell_type": "code",
   "execution_count": null,
   "metadata": {},
   "outputs": [],
   "source": [
    "predictions = clf.predict(testingX)\n",
    "print(np.unique(predictions, return_counts=True))\n",
    "\n",
    "class_probs = clf.predict_proba(testingX)\n",
    "conf = [c[1] for c in class_probs]\n",
    "\n",
    "fpr, tpr, thresholds = roc_curve(testingY, conf, pos_label=1)\n",
    "roc_auc = auc(fpr, tpr)\n",
    "\n",
    "plt.figure()\n",
    "lw = 2\n",
    "plt.plot(fpr, tpr, color='darkorange',\n",
    "         lw=lw, label='Testing ROC curve (area = %0.2f)' % roc_auc)\n",
    "plt.plot([0, 1], [0, 1], color='navy', lw=lw, linestyle='--')\n",
    "plt.xlim([0.0, 1.0])\n",
    "plt.ylim([0.0, 1.0])\n",
    "plt.xlabel('False Positive Rate')\n",
    "plt.ylabel('True Positive Rate')\n",
    "plt.title('Receiver Operating Characteristic')\n",
    "plt.legend(loc=\"lower right\")\n",
    "plt.show()\n",
    "\n",
    "precision, recall, thresholds = precision_recall_curve(testingY, conf)\n",
    "avg_prec = average_precision_score(testingY, conf)\n",
    "\n",
    "plt.figure()\n",
    "lw = 2\n",
    "plt.plot(recall, precision, color='darkorange',\n",
    "         lw=lw, label='Testing P/R curve (avg precision = %0.2f)' % avg_prec)\n",
    "plt.xlim([0.0, 1.0])\n",
    "plt.ylim([0.0, 1.0])\n",
    "plt.xlabel('Recall')\n",
    "plt.ylabel('Precision')\n",
    "plt.title('Precision/Recall Curve')\n",
    "plt.legend(loc=\"lower right\")\n",
    "plt.show()"
   ]
  },
  {
   "cell_type": "code",
   "execution_count": null,
   "metadata": {},
   "outputs": [],
   "source": []
  }
 ],
 "metadata": {
  "kernelspec": {
   "display_name": "Python 3",
   "language": "python",
   "name": "python3"
  },
  "language_info": {
   "codemirror_mode": {
    "name": "ipython",
    "version": 3
   },
   "file_extension": ".py",
   "mimetype": "text/x-python",
   "name": "python",
   "nbconvert_exporter": "python",
   "pygments_lexer": "ipython3",
   "version": "3.6.3"
  }
 },
 "nbformat": 4,
 "nbformat_minor": 2
}
