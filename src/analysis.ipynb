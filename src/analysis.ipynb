{
 "cells": [
  {
   "cell_type": "code",
   "execution_count": 1,
   "metadata": {},
   "outputs": [],
   "source": [
    "import train_embeddings\n",
    "import matplotlib.pyplot as plt\n",
    "import sentence_features\n",
    "import pickle\n",
    "import numpy as np\n",
    "from sklearn.pipeline import Pipeline, FeatureUnion, make_pipeline\n",
    "from sklearn.linear_model import SGDClassifier\n",
    "from sklearn.metrics import precision_recall_fscore_support, roc_curve, auc, precision_recall_curve, average_precision_score\n",
    "from sklearn.svm import SVC\n",
    "from sklearn.neighbors import KNeighborsClassifier\n",
    "from sklearn.ensemble import RandomForestClassifier\n",
    "from sklearn.neural_network import MLPClassifier\n",
    "from sklearn.naive_bayes import MultinomialNB"
   ]
  },
  {
   "cell_type": "code",
   "execution_count": 2,
   "metadata": {},
   "outputs": [],
   "source": [
    "word2vec_path = \"../data/models/word2vec/word2vecGensim_sw_cbow.bin\"\n",
    "word2vec = train_embeddings.load_word2vec_model(word2vec_path)\n",
    "mapped_reports_path = \"../data/processed/processed_reports/preprocessed_all_replace_sw\"\n",
    "# mapped_reports_path = \"../data/processed/preprocessed_findings_replace_sw\"\n",
    "mapped_reports = pickle.load(open(mapped_reports_path, 'rb'))"
   ]
  },
  {
   "cell_type": "code",
   "execution_count": 3,
   "metadata": {},
   "outputs": [
    {
     "name": "stderr",
     "output_type": "stream",
     "text": [
      "/Users/scott/anaconda3/lib/python3.6/site-packages/numpy/core/fromnumeric.py:2957: RuntimeWarning: Mean of empty slice.\n",
      "  out=out, **kwargs)\n",
      "/Users/scott/anaconda3/lib/python3.6/site-packages/numpy/core/_methods.py:80: RuntimeWarning: invalid value encountered in double_scalars\n",
      "  ret = ret.dtype.type(ret / rcount)\n"
     ]
    }
   ],
   "source": [
    "pipeline = make_pipeline(train_embeddings.WordVectorizer(word2vec), sentence_features.ReportVectorAverager(), sentence_features.LabelSeparator(), None)\n",
    "data, labels = pipeline.transform(mapped_reports)"
   ]
  },
  {
   "cell_type": "code",
   "execution_count": 4,
   "metadata": {},
   "outputs": [
    {
     "name": "stdout",
     "output_type": "stream",
     "text": [
      "(array([0, 1]), array([26245, 19083]))\n",
      "(array([0, 1]), array([6611, 4722]))\n"
     ]
    }
   ],
   "source": [
    "split_point = int(0.8 * len(data))\n",
    "\n",
    "trainingX = data[:split_point]\n",
    "trainingY = labels[:split_point]\n",
    "print(np.unique(trainingY, return_counts=True))\n",
    "\n",
    "testingX = data[split_point:]\n",
    "testingY = labels[split_point:]\n",
    "print(np.unique(testingY, return_counts=True))"
   ]
  },
  {
   "cell_type": "code",
   "execution_count": 5,
   "metadata": {},
   "outputs": [
    {
     "name": "stderr",
     "output_type": "stream",
     "text": [
      "/Users/scott/anaconda3/lib/python3.6/site-packages/sklearn/linear_model/stochastic_gradient.py:128: FutureWarning: max_iter and tol parameters have been added in <class 'sklearn.linear_model.stochastic_gradient.SGDClassifier'> in 0.19. If both are left unset, they default to max_iter=5 and tol=None. If tol is not None, max_iter defaults to max_iter=1000. From 0.21, default max_iter will be 1000, and default tol will be 1e-3.\n",
      "  \"and default tol will be 1e-3.\" % type(self), FutureWarning)\n"
     ]
    },
    {
     "data": {
      "text/plain": [
       "SGDClassifier(alpha=0.0001, average=False, class_weight=None, epsilon=0.1,\n",
       "       eta0=0.0, fit_intercept=True, l1_ratio=0.15,\n",
       "       learning_rate='optimal', loss='hinge', max_iter=None, n_iter=None,\n",
       "       n_jobs=1, penalty='l2', power_t=0.5, random_state=None,\n",
       "       shuffle=True, tol=None, verbose=0, warm_start=False)"
      ]
     },
     "execution_count": 5,
     "metadata": {},
     "output_type": "execute_result"
    }
   ],
   "source": [
    "clf = SGDClassifier()\n",
    "clf.fit(trainingX, trainingY)"
   ]
  },
  {
   "cell_type": "code",
   "execution_count": 6,
   "metadata": {},
   "outputs": [
    {
     "name": "stdout",
     "output_type": "stream",
     "text": [
      "(array([0, 1]), array([6481, 4852]))\n"
     ]
    }
   ],
   "source": [
    "predictions = clf.predict(testingX)\n",
    "print(np.unique(predictions, return_counts=True))"
   ]
  },
  {
   "cell_type": "code",
   "execution_count": 7,
   "metadata": {},
   "outputs": [
    {
     "name": "stdout",
     "output_type": "stream",
     "text": [
      "0.7277411376751854\n",
      "0.7477763659466328\n"
     ]
    }
   ],
   "source": [
    "precision, recall, _, _ = precision_recall_fscore_support(testingY, predictions, average = \"binary\")\n",
    "print(precision)\n",
    "print(recall)"
   ]
  },
  {
   "cell_type": "code",
   "execution_count": 8,
   "metadata": {},
   "outputs": [
    {
     "data": {
      "image/png": "[encoded data removed]",
      "text/plain": [
       "<matplotlib.figure.Figure at 0x10cf50748>"
      ]
     },
     "metadata": {},
     "output_type": "display_data"
    }
   ],
   "source": [
    "y_score = clf.decision_function(testingX)\n",
    "fpr, tpr, thresholds = roc_curve(testingY, y_score, pos_label=1)\n",
    "roc_auc = auc(fpr, tpr)\n",
    "\n",
    "plt.figure()\n",
    "lw = 2\n",
    "plt.plot(fpr, tpr, color='darkorange',\n",
    "         lw=lw, label='ROC curve (area = %0.2f)' % roc_auc)\n",
    "plt.plot([0, 1], [0, 1], color='navy', lw=lw, linestyle='--')\n",
    "plt.xlim([0.0, 1.0])\n",
    "plt.ylim([0.0, 1.0])\n",
    "plt.xlabel('False Positive Rate')\n",
    "plt.ylabel('True Positive Rate')\n",
    "plt.title('Receiver Operating Characteristic')\n",
    "plt.legend(loc=\"lower right\")\n",
    "plt.show()"
   ]
  },
  {
   "cell_type": "code",
   "execution_count": null,
   "metadata": {},
   "outputs": [],
   "source": [
    "# kNN Classification for word2vec\n",
    "clf = KNeighborsClassifier(n_neighbors=10)\n",
    "clf.fit(trainingX, trainingY)\n",
    "\n",
    "predictions = clf.predict(testingX)\n",
    "print(np.unique(predictions, return_counts=True))\n",
    "precision, recall, _, _ = precision_recall_fscore_support(testingY, predictions, average = \"binary\")\n",
    "print(precision)\n",
    "print(recall)"
   ]
  },
  {
   "cell_type": "code",
   "execution_count": null,
   "metadata": {},
   "outputs": [],
   "source": [
    "class_probs = clf.predict_proba(testingX)\n",
    "conf = [c[1] for c in class_probs]\n",
    "\n",
    "fpr, tpr, thresholds = roc_curve(testingY, conf, pos_label=1)\n",
    "roc_auc = auc(fpr, tpr)\n",
    "\n",
    "plt.figure()\n",
    "lw = 2\n",
    "plt.plot(fpr, tpr, color='darkorange',\n",
    "         lw=lw, label='ROC curve (area = %0.2f)' % roc_auc)\n",
    "plt.plot([0, 1], [0, 1], color='navy', lw=lw, linestyle='--')\n",
    "plt.xlim([0.0, 1.0])\n",
    "plt.ylim([0.0, 1.0])\n",
    "plt.xlabel('False Positive Rate')\n",
    "plt.ylabel('True Positive Rate')\n",
    "plt.title('Receiver Operating Characteristic')\n",
    "plt.legend(loc=\"lower right\")\n",
    "plt.show()"
   ]
  },
  {
   "cell_type": "code",
   "execution_count": 4,
   "metadata": {},
   "outputs": [],
   "source": [
    "# Now try FastText\n",
    "fastText_path = \"../data/models/fastText/fastText_sw_cbow500.bin\"\n",
    "ft = train_embeddings.load_fastText_model(fastText_path)"
   ]
  },
  {
   "cell_type": "code",
   "execution_count": 5,
   "metadata": {},
   "outputs": [
    {
     "name": "stdout",
     "output_type": "stream",
     "text": [
      "(array([0, 1]), array([29760, 21382]))\n",
      "(array([0, 1]), array([3246, 2437]))\n"
     ]
    }
   ],
   "source": [
    "pipeline = make_pipeline(train_embeddings.FastTextReportVectorizer(ft), sentence_features.LabelSeparator(), None)\n",
    "data, labels = pipeline.transform(mapped_reports)\n",
    "\n",
    "split_point = int(0.9 * len(data))\n",
    "\n",
    "trainingX = data[:split_point]\n",
    "trainingY = labels[:split_point]\n",
    "print(np.unique(trainingY, return_counts=True))\n",
    "\n",
    "testingX = data[split_point:]\n",
    "testingY = labels[split_point:]\n",
    "print(np.unique(testingY, return_counts=True))\n",
    "\n"
   ]
  },
  {
   "cell_type": "code",
   "execution_count": 6,
   "metadata": {},
   "outputs": [
    {
     "name": "stderr",
     "output_type": "stream",
     "text": [
      "/Users/scott/anaconda3/lib/python3.6/site-packages/sklearn/linear_model/stochastic_gradient.py:128: FutureWarning: max_iter and tol parameters have been added in <class 'sklearn.linear_model.stochastic_gradient.SGDClassifier'> in 0.19. If both are left unset, they default to max_iter=5 and tol=None. If tol is not None, max_iter defaults to max_iter=1000. From 0.21, default max_iter will be 1000, and default tol will be 1e-3.\n",
      "  \"and default tol will be 1e-3.\" % type(self), FutureWarning)\n"
     ]
    },
    {
     "name": "stdout",
     "output_type": "stream",
     "text": [
      "(array([0, 1]), array([3263, 2420]))\n",
      "0.7479338842975206\n",
      "0.7427164546573656\n"
     ]
    }
   ],
   "source": [
    "clf = SGDClassifier()\n",
    "clf.fit(trainingX, trainingY)\n",
    "predictions = clf.predict(testingX)\n",
    "print(np.unique(predictions, return_counts=True))\n",
    "precision, recall, _, _ = precision_recall_fscore_support(testingY, predictions, average = \"binary\")\n",
    "print(precision)\n",
    "print(recall)"
   ]
  },
  {
   "cell_type": "code",
   "execution_count": 7,
   "metadata": {},
   "outputs": [
    {
     "data": {
      "image/png": "[encoded data removed]",
      "text/plain": [
       "<matplotlib.figure.Figure at 0x1a500770b8>"
      ]
     },
     "metadata": {},
     "output_type": "display_data"
    }
   ],
   "source": [
    "y_score = clf.decision_function(testingX)\n",
    "fpr, tpr, thresholds = roc_curve(testingY, y_score, pos_label=1)\n",
    "roc_auc = auc(fpr, tpr)\n",
    "\n",
    "plt.figure()\n",
    "lw = 2\n",
    "plt.plot(fpr, tpr, color='darkorange',\n",
    "         lw=lw, label='ROC curve (area = %0.2f)' % roc_auc)\n",
    "plt.plot([0, 1], [0, 1], color='navy', lw=lw, linestyle='--')\n",
    "plt.xlim([0.0, 1.0])\n",
    "plt.ylim([0.0, 1.0])\n",
    "plt.xlabel('False Positive Rate')\n",
    "plt.ylabel('True Positive Rate')\n",
    "plt.title('Receiver Operating Characteristic')\n",
    "plt.legend(loc=\"lower right\")\n",
    "plt.show()"
   ]
  },
  {
   "cell_type": "code",
   "execution_count": null,
   "metadata": {},
   "outputs": [],
   "source": [
    "# kNN Classification for fastText\n",
    "clf = KNeighborsClassifier(n_neighbors=10)\n",
    "clf.fit(trainingX, trainingY)\n",
    "\n",
    "predictions = clf.predict(testingX)\n",
    "print(np.unique(predictions, return_counts=True))\n",
    "precision, recall, _, _ = precision_recall_fscore_support(testingY, predictions, average = \"binary\")\n",
    "print(precision)\n",
    "print(recall)"
   ]
  },
  {
   "cell_type": "code",
   "execution_count": null,
   "metadata": {},
   "outputs": [],
   "source": [
    "class_probs = clf.predict_proba(testingX)\n",
    "conf = [c[1] for c in class_probs]\n",
    "\n",
    "fpr, tpr, thresholds = roc_curve(testingY, conf, pos_label=1)\n",
    "roc_auc = auc(fpr, tpr)\n",
    "\n",
    "plt.figure()\n",
    "lw = 2\n",
    "plt.plot(fpr, tpr, color='darkorange',\n",
    "         lw=lw, label='ROC curve (area = %0.2f)' % roc_auc)\n",
    "plt.plot([0, 1], [0, 1], color='navy', lw=lw, linestyle='--')\n",
    "plt.xlim([0.0, 1.0])\n",
    "plt.ylim([0.0, 1.0])\n",
    "plt.xlabel('False Positive Rate')\n",
    "plt.ylabel('True Positive Rate')\n",
    "plt.title('Receiver Operating Characteristic')\n",
    "plt.legend(loc=\"lower right\")\n",
    "plt.show()"
   ]
  },
  {
   "cell_type": "code",
   "execution_count": 8,
   "metadata": {},
   "outputs": [
    {
     "name": "stdout",
     "output_type": "stream",
     "text": [
      "(array([0, 1]), array([3541, 2142]))\n",
      "0.8352007469654529\n",
      "0.7340993024210094\n"
     ]
    }
   ],
   "source": [
    "# Random Forests for FastText\n",
    "clf = RandomForestClassifier(n_estimators=16)\n",
    "clf.fit(trainingX, trainingY)\n",
    "\n",
    "predictions = clf.predict(testingX)\n",
    "print(np.unique(predictions, return_counts=True))\n",
    "precision, recall, _, _ = precision_recall_fscore_support(testingY, predictions, average = \"binary\")\n",
    "print(precision)\n",
    "print(recall)"
   ]
  },
  {
   "cell_type": "code",
   "execution_count": null,
   "metadata": {},
   "outputs": [
    {
     "data": {
      "image/png": "[encoded data removed]",
      "text/plain": [
       "<matplotlib.figure.Figure at 0x1a510b25c0>"
      ]
     },
     "metadata": {},
     "output_type": "display_data"
    },
    {
     "data": {
      "image/png": "[encoded data removed]",
      "text/plain": [
       "<matplotlib.figure.Figure at 0x1a50da90f0>"
      ]
     },
     "metadata": {},
     "output_type": "display_data"
    }
   ],
   "source": [
    "class_probs = clf.predict_proba(testingX)\n",
    "conf = [c[1] for c in class_probs]\n",
    "\n",
    "fpr, tpr, thresholds = roc_curve(testingY, conf, pos_label=1)\n",
    "roc_auc = auc(fpr, tpr)\n",
    "\n",
    "plt.figure()\n",
    "lw = 2\n",
    "plt.plot(fpr, tpr, color='darkorange',\n",
    "         lw=lw, label='Testing ROC curve (area = %0.2f)' % roc_auc)\n",
    "plt.plot([0, 1], [0, 1], color='navy', lw=lw, linestyle='--')\n",
    "plt.xlim([0.0, 1.0])\n",
    "plt.ylim([0.0, 1.0])\n",
    "plt.xlabel('False Positive Rate')\n",
    "plt.ylabel('True Positive Rate')\n",
    "plt.title('Receiver Operating Characteristic')\n",
    "plt.legend(loc=\"lower right\")\n",
    "plt.show()\n",
    "\n",
    "precision, recall, thresholds = precision_recall_curve(testingY, conf)\n",
    "avg_prec = average_precision_score(testingY, conf)\n",
    "\n",
    "plt.figure()\n",
    "lw = 2\n",
    "plt.plot(recall, precision, color='darkorange',\n",
    "         lw=lw, label='Testing P/R curve (avg precision = %0.2f)' % avg_prec)\n",
    "plt.xlim([0.0, 1.0])\n",
    "plt.ylim([0.0, 1.0])\n",
    "plt.xlabel('Recall')\n",
    "plt.ylabel('Precision')\n",
    "plt.title('Precision/Recall Curve')\n",
    "plt.legend(loc=\"lower right\")\n",
    "plt.show()"
   ]
  },
  {
   "cell_type": "code",
   "execution_count": null,
   "metadata": {
    "scrolled": false
   },
   "outputs": [
    {
     "name": "stdout",
     "output_type": "stream",
     "text": [
      "Iteration 1, loss = 0.54596134\n",
      "Iteration 2, loss = 0.47398861\n",
      "Iteration 3, loss = 0.45690597\n",
      "Iteration 4, loss = 0.44603112\n",
      "Iteration 5, loss = 0.43739552\n",
      "Iteration 6, loss = 0.43144984\n",
      "Iteration 7, loss = 0.42499931\n",
      "Iteration 8, loss = 0.42012787\n",
      "Iteration 9, loss = 0.41574769\n",
      "Iteration 10, loss = 0.41123682\n",
      "Iteration 11, loss = 0.40801997\n",
      "Iteration 12, loss = 0.40385777\n",
      "Iteration 13, loss = 0.40077811\n",
      "Iteration 14, loss = 0.39829604\n",
      "Iteration 15, loss = 0.39585885\n",
      "Iteration 16, loss = 0.39308141\n",
      "Iteration 17, loss = 0.39079729\n",
      "Iteration 18, loss = 0.38873008\n",
      "Iteration 19, loss = 0.38646094\n",
      "Iteration 20, loss = 0.38469940\n",
      "Iteration 21, loss = 0.38235159\n",
      "Iteration 22, loss = 0.38065529\n",
      "Iteration 23, loss = 0.37880970\n",
      "Iteration 24, loss = 0.37707951\n",
      "Iteration 25, loss = 0.37621472\n",
      "Iteration 26, loss = 0.37424293\n",
      "Iteration 27, loss = 0.37331196\n",
      "Iteration 28, loss = 0.37127114\n",
      "Iteration 29, loss = 0.36929369\n",
      "Iteration 30, loss = 0.36830345\n",
      "Iteration 31, loss = 0.36662155\n",
      "Iteration 32, loss = 0.36558279\n",
      "Iteration 33, loss = 0.36410513\n",
      "Iteration 34, loss = 0.36311619\n",
      "Iteration 35, loss = 0.36189418\n",
      "Iteration 36, loss = 0.36006385\n",
      "Iteration 37, loss = 0.35976590\n",
      "Iteration 38, loss = 0.35856968\n",
      "Iteration 39, loss = 0.35662258\n",
      "Iteration 40, loss = 0.35554769\n",
      "Iteration 41, loss = 0.35442059\n",
      "Iteration 42, loss = 0.35330629\n",
      "Iteration 43, loss = 0.35219969\n",
      "Iteration 44, loss = 0.35111641\n",
      "Iteration 45, loss = 0.35033118\n",
      "Iteration 46, loss = 0.34949308\n",
      "Iteration 47, loss = 0.34821110\n",
      "Iteration 48, loss = 0.34731790\n",
      "Iteration 49, loss = 0.34649431\n",
      "Iteration 50, loss = 0.34483711\n",
      "Iteration 51, loss = 0.34415572\n",
      "Iteration 52, loss = 0.34377649\n",
      "Iteration 53, loss = 0.34247637\n",
      "Iteration 54, loss = 0.34156206\n",
      "Iteration 55, loss = 0.33987346\n",
      "Iteration 56, loss = 0.33963302\n",
      "Iteration 57, loss = 0.33903164\n",
      "Iteration 58, loss = 0.33798076\n",
      "Iteration 59, loss = 0.33718512\n",
      "Iteration 60, loss = 0.33600113\n",
      "Iteration 61, loss = 0.33548283\n",
      "Iteration 62, loss = 0.33411887\n",
      "Iteration 63, loss = 0.33366544\n",
      "Iteration 64, loss = 0.33244910\n",
      "Iteration 65, loss = 0.33181400\n",
      "Iteration 66, loss = 0.33164578\n",
      "Iteration 67, loss = 0.32989843\n",
      "Iteration 68, loss = 0.33007281\n",
      "Iteration 69, loss = 0.32852325\n",
      "Iteration 70, loss = 0.32759119\n",
      "Iteration 71, loss = 0.32708451\n",
      "Iteration 72, loss = 0.32636550\n",
      "Iteration 73, loss = 0.32829347\n",
      "Iteration 74, loss = 0.32495709\n"
     ]
    }
   ],
   "source": [
    "# fastText MLP\n",
    "clf = MLPClassifier(verbose=True, hidden_layer_sizes=(100), alpha=0.001)\n",
    "clf.fit(trainingX, trainingY)\n",
    "\n",
    "predictions = clf.predict(testingX)\n",
    "print(np.unique(predictions, return_counts=True))\n",
    "precision, recall, _, _ = precision_recall_fscore_support(testingY, predictions, average = \"binary\")\n",
    "print(precision)\n",
    "print(recall)"
   ]
  },
  {
   "cell_type": "code",
   "execution_count": null,
   "metadata": {},
   "outputs": [],
   "source": [
    "predictions = clf.predict(testingX)\n",
    "print(np.unique(predictions, return_counts=True))\n",
    "\n",
    "class_probs = clf.predict_proba(testingX)\n",
    "conf = [c[1] for c in class_probs]\n",
    "\n",
    "fpr, tpr, thresholds = roc_curve(testingY, conf, pos_label=1)\n",
    "roc_auc = auc(fpr, tpr)\n",
    "\n",
    "plt.figure()\n",
    "lw = 2\n",
    "plt.plot(fpr, tpr, color='darkorange',\n",
    "         lw=lw, label='Testing ROC curve (area = %0.2f)' % roc_auc)\n",
    "plt.plot([0, 1], [0, 1], color='navy', lw=lw, linestyle='--')\n",
    "plt.xlim([0.0, 1.0])\n",
    "plt.ylim([0.0, 1.0])\n",
    "plt.xlabel('False Positive Rate')\n",
    "plt.ylabel('True Positive Rate')\n",
    "plt.title('Receiver Operating Characteristic')\n",
    "plt.legend(loc=\"lower right\")\n",
    "plt.show()\n",
    "\n",
    "precision, recall, thresholds = precision_recall_curve(testingY, conf)\n",
    "avg_prec = average_precision_score(testingY, conf)\n",
    "\n",
    "plt.figure()\n",
    "lw = 2\n",
    "plt.plot(recall, precision, color='darkorange',\n",
    "         lw=lw, label='Testing P/R curve (avg precision = %0.2f)' % avg_prec)\n",
    "plt.xlim([0.0, 1.0])\n",
    "plt.ylim([0.0, 1.0])\n",
    "plt.xlabel('Recall')\n",
    "plt.ylabel('Precision')\n",
    "plt.title('Precision/Recall Curve')\n",
    "plt.legend(loc=\"lower right\")\n",
    "plt.show()"
   ]
  },
  {
   "cell_type": "code",
   "execution_count": null,
   "metadata": {},
   "outputs": [],
   "source": [
    "print(recall[2636])"
   ]
  },
  {
   "cell_type": "code",
   "execution_count": null,
   "metadata": {},
   "outputs": [],
   "source": [
    "print(precision[2636])"
   ]
  },
  {
   "cell_type": "code",
   "execution_count": null,
   "metadata": {},
   "outputs": [],
   "source": []
  }
 ],
 "metadata": {
  "kernelspec": {
   "display_name": "Python 3",
   "language": "python",
   "name": "python3"
  },
  "language_info": {
   "codemirror_mode": {
    "name": "ipython",
    "version": 3
   },
   "file_extension": ".py",
   "mimetype": "text/x-python",
   "name": "python",
   "nbconvert_exporter": "python",
   "pygments_lexer": "ipython3",
   "version": "3.6.3"
  }
 },
 "nbformat": 4,
 "nbformat_minor": 2
}
