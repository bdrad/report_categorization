{
 "cells": [
  {
   "cell_type": "code",
   "execution_count": 1,
   "metadata": {},
   "outputs": [],
   "source": [
    "import train_embeddings\n",
    "import matplotlib.pyplot as plt\n",
    "import sentence_features\n",
    "import pickle\n",
    "import numpy as np\n",
    "from sklearn.pipeline import Pipeline, FeatureUnion, make_pipeline\n",
    "from sklearn.linear_model import SGDClassifier\n",
    "from sklearn.metrics import precision_recall_fscore_support, roc_curve, auc, precision_recall_curve, average_precision_score\n",
    "from sklearn.svm import SVC\n",
    "from sklearn.neighbors import KNeighborsClassifier\n",
    "from sklearn.ensemble import RandomForestClassifier\n",
    "from sklearn.neural_network import MLPClassifier\n",
    "from sklearn.naive_bayes import MultinomialNB"
   ]
  },
  {
   "cell_type": "code",
   "execution_count": 2,
   "metadata": {},
   "outputs": [],
   "source": [
    "word2vec_path = \"../data/models/word2vec/word2vecGensim_sw_cbow.bin\"\n",
    "word2vec = train_embeddings.load_word2vec_model(word2vec_path)\n",
    "mapped_reports_path = \"../data/processed/processed_reports/preprocessed_all_replace_sw\"\n",
    "# mapped_reports_path = \"../data/processed/preprocessed_findings_replace_sw\"\n",
    "mapped_reports = pickle.load(open(mapped_reports_path, 'rb'))"
   ]
  },
  {
   "cell_type": "code",
   "execution_count": 3,
   "metadata": {},
   "outputs": [
    {
     "name": "stderr",
     "output_type": "stream",
     "text": [
      "/Users/scott/anaconda3/lib/python3.6/site-packages/numpy/core/fromnumeric.py:2957: RuntimeWarning: Mean of empty slice.\n",
      "  out=out, **kwargs)\n",
      "/Users/scott/anaconda3/lib/python3.6/site-packages/numpy/core/_methods.py:80: RuntimeWarning: invalid value encountered in double_scalars\n",
      "  ret = ret.dtype.type(ret / rcount)\n"
     ]
    }
   ],
   "source": [
    "pipeline = make_pipeline(train_embeddings.WordVectorizer(word2vec), sentence_features.ReportVectorAverager(), sentence_features.LabelSeparator(), None)\n",
    "data, labels = pipeline.transform(mapped_reports)"
   ]
  },
  {
   "cell_type": "code",
   "execution_count": 4,
   "metadata": {},
   "outputs": [
    {
     "name": "stdout",
     "output_type": "stream",
     "text": [
      "(array([0, 1]), array([24431, 20898]))\n",
      "(array([0, 1]), array([6126, 5207]))\n"
     ]
    }
   ],
   "source": [
    "split_point = int(0.8 * len(data))\n",
    "\n",
    "trainingX = data[:split_point]\n",
    "trainingY = labels[:split_point]\n",
    "print(np.unique(trainingY, return_counts=True))\n",
    "\n",
    "testingX = data[split_point:]\n",
    "testingY = labels[split_point:]\n",
    "print(np.unique(testingY, return_counts=True))"
   ]
  },
  {
   "cell_type": "code",
   "execution_count": 5,
   "metadata": {},
   "outputs": [
    {
     "name": "stderr",
     "output_type": "stream",
     "text": [
      "/Users/scott/anaconda3/lib/python3.6/site-packages/sklearn/linear_model/stochastic_gradient.py:128: FutureWarning: max_iter and tol parameters have been added in <class 'sklearn.linear_model.stochastic_gradient.SGDClassifier'> in 0.19. If both are left unset, they default to max_iter=5 and tol=None. If tol is not None, max_iter defaults to max_iter=1000. From 0.21, default max_iter will be 1000, and default tol will be 1e-3.\n",
      "  \"and default tol will be 1e-3.\" % type(self), FutureWarning)\n"
     ]
    },
    {
     "data": {
      "text/plain": [
       "SGDClassifier(alpha=0.0001, average=False, class_weight=None, epsilon=0.1,\n",
       "       eta0=0.0, fit_intercept=True, l1_ratio=0.15,\n",
       "       learning_rate='optimal', loss='hinge', max_iter=None, n_iter=None,\n",
       "       n_jobs=1, penalty='l2', power_t=0.5, random_state=None,\n",
       "       shuffle=True, tol=None, verbose=0, warm_start=False)"
      ]
     },
     "execution_count": 5,
     "metadata": {},
     "output_type": "execute_result"
    }
   ],
   "source": [
    "clf = SGDClassifier()\n",
    "clf.fit(trainingX, trainingY)"
   ]
  },
  {
   "cell_type": "code",
   "execution_count": 6,
   "metadata": {},
   "outputs": [
    {
     "name": "stdout",
     "output_type": "stream",
     "text": [
      "(array([0, 1]), array([6352, 4981]))\n"
     ]
    }
   ],
   "source": [
    "predictions = clf.predict(testingX)\n",
    "print(np.unique(predictions, return_counts=True))"
   ]
  },
  {
   "cell_type": "code",
   "execution_count": 7,
   "metadata": {},
   "outputs": [
    {
     "name": "stdout",
     "output_type": "stream",
     "text": [
      "0.7600883356755671\n",
      "0.7270981371231036\n"
     ]
    }
   ],
   "source": [
    "precision, recall, _, _ = precision_recall_fscore_support(testingY, predictions, average = \"binary\")\n",
    "print(precision)\n",
    "print(recall)"
   ]
  },
  {
   "cell_type": "code",
   "execution_count": 8,
   "metadata": {},
   "outputs": [
    {
     "data": {
      "image/png": "[encoded data removed]",
      "text/plain": [
       "<matplotlib.figure.Figure at 0x1a1dc23e48>"
      ]
     },
     "metadata": {},
     "output_type": "display_data"
    }
   ],
   "source": [
    "y_score = clf.decision_function(testingX)\n",
    "fpr, tpr, thresholds = roc_curve(testingY, y_score, pos_label=1)\n",
    "roc_auc = auc(fpr, tpr)\n",
    "\n",
    "plt.figure()\n",
    "lw = 2\n",
    "plt.plot(fpr, tpr, color='darkorange',\n",
    "         lw=lw, label='ROC curve (area = %0.2f)' % roc_auc)\n",
    "plt.plot([0, 1], [0, 1], color='navy', lw=lw, linestyle='--')\n",
    "plt.xlim([0.0, 1.0])\n",
    "plt.ylim([0.0, 1.0])\n",
    "plt.xlabel('False Positive Rate')\n",
    "plt.ylabel('True Positive Rate')\n",
    "plt.title('Receiver Operating Characteristic')\n",
    "plt.legend(loc=\"lower right\")\n",
    "plt.show()"
   ]
  },
  {
   "cell_type": "code",
   "execution_count": null,
   "metadata": {},
   "outputs": [],
   "source": [
    "# kNN Classification for word2vec\n",
    "clf = KNeighborsClassifier(n_neighbors=10)\n",
    "clf.fit(trainingX, trainingY)\n",
    "\n",
    "predictions = clf.predict(testingX)\n",
    "print(np.unique(predictions, return_counts=True))\n",
    "precision, recall, _, _ = precision_recall_fscore_support(testingY, predictions, average = \"binary\")\n",
    "print(precision)\n",
    "print(recall)"
   ]
  },
  {
   "cell_type": "code",
   "execution_count": null,
   "metadata": {},
   "outputs": [],
   "source": [
    "class_probs = clf.predict_proba(testingX)\n",
    "conf = [c[1] for c in class_probs]\n",
    "\n",
    "fpr, tpr, thresholds = roc_curve(testingY, conf, pos_label=1)\n",
    "roc_auc = auc(fpr, tpr)\n",
    "\n",
    "plt.figure()\n",
    "lw = 2\n",
    "plt.plot(fpr, tpr, color='darkorange',\n",
    "         lw=lw, label='ROC curve (area = %0.2f)' % roc_auc)\n",
    "plt.plot([0, 1], [0, 1], color='navy', lw=lw, linestyle='--')\n",
    "plt.xlim([0.0, 1.0])\n",
    "plt.ylim([0.0, 1.0])\n",
    "plt.xlabel('False Positive Rate')\n",
    "plt.ylabel('True Positive Rate')\n",
    "plt.title('Receiver Operating Characteristic')\n",
    "plt.legend(loc=\"lower right\")\n",
    "plt.show()"
   ]
  },
  {
   "cell_type": "code",
   "execution_count": 9,
   "metadata": {},
   "outputs": [],
   "source": [
    "# Now try FastText\n",
    "fastText_path = \"../data/models/fastText/fastText_sw_cbow400.bin\"\n",
    "ft = train_embeddings.load_fastText_model(fastText_path)"
   ]
  },
  {
   "cell_type": "code",
   "execution_count": 10,
   "metadata": {},
   "outputs": [
    {
     "name": "stdout",
     "output_type": "stream",
     "text": [
      "(array([0, 1]), array([27609, 23533]))\n",
      "(array([0, 1]), array([3095, 2588]))\n"
     ]
    }
   ],
   "source": [
    "pipeline = make_pipeline(train_embeddings.FastTextReportVectorizer(ft), sentence_features.LabelSeparator(), None)\n",
    "data, labels = pipeline.transform(mapped_reports)\n",
    "\n",
    "split_point = int(0.9 * len(data))\n",
    "\n",
    "trainingX = data[:split_point]\n",
    "trainingY = labels[:split_point]\n",
    "print(np.unique(trainingY, return_counts=True))\n",
    "\n",
    "testingX = data[split_point:]\n",
    "testingY = labels[split_point:]\n",
    "print(np.unique(testingY, return_counts=True))"
   ]
  },
  {
   "cell_type": "code",
   "execution_count": 11,
   "metadata": {},
   "outputs": [
    {
     "name": "stderr",
     "output_type": "stream",
     "text": [
      "/Users/scott/anaconda3/lib/python3.6/site-packages/sklearn/linear_model/stochastic_gradient.py:128: FutureWarning: max_iter and tol parameters have been added in <class 'sklearn.linear_model.stochastic_gradient.SGDClassifier'> in 0.19. If both are left unset, they default to max_iter=5 and tol=None. If tol is not None, max_iter defaults to max_iter=1000. From 0.21, default max_iter will be 1000, and default tol will be 1e-3.\n",
      "  \"and default tol will be 1e-3.\" % type(self), FutureWarning)\n"
     ]
    },
    {
     "name": "stdout",
     "output_type": "stream",
     "text": [
      "(array([0, 1]), array([3024, 2659]))\n",
      "0.7461451673561489\n",
      "0.7666151468315301\n"
     ]
    }
   ],
   "source": [
    "clf = SGDClassifier()\n",
    "clf.fit(trainingX, trainingY)\n",
    "predictions = clf.predict(testingX)\n",
    "print(np.unique(predictions, return_counts=True))\n",
    "precision, recall, _, _ = precision_recall_fscore_support(testingY, predictions, average = \"binary\")\n",
    "print(precision)\n",
    "print(recall)"
   ]
  },
  {
   "cell_type": "code",
   "execution_count": 12,
   "metadata": {},
   "outputs": [
    {
     "data": {
      "image/png": "[encoded data removed]",
      "text/plain": [
       "<matplotlib.figure.Figure at 0x111e9b3c8>"
      ]
     },
     "metadata": {},
     "output_type": "display_data"
    }
   ],
   "source": [
    "y_score = clf.decision_function(testingX)\n",
    "fpr, tpr, thresholds = roc_curve(testingY, y_score, pos_label=1)\n",
    "roc_auc = auc(fpr, tpr)\n",
    "\n",
    "plt.figure()\n",
    "lw = 2\n",
    "plt.plot(fpr, tpr, color='darkorange',\n",
    "         lw=lw, label='ROC curve (area = %0.2f)' % roc_auc)\n",
    "plt.plot([0, 1], [0, 1], color='navy', lw=lw, linestyle='--')\n",
    "plt.xlim([0.0, 1.0])\n",
    "plt.ylim([0.0, 1.0])\n",
    "plt.xlabel('False Positive Rate')\n",
    "plt.ylabel('True Positive Rate')\n",
    "plt.title('Receiver Operating Characteristic')\n",
    "plt.legend(loc=\"lower right\")\n",
    "plt.show()"
   ]
  },
  {
   "cell_type": "code",
   "execution_count": 13,
   "metadata": {},
   "outputs": [
    {
     "name": "stdout",
     "output_type": "stream",
     "text": [
      "(array([0, 1]), array([3443, 2501]))\n",
      "0.6805277888844462\n",
      "0.7942137190853943\n"
     ]
    }
   ],
   "source": [
    "# kNN Classification for fastText\n",
    "clf = KNeighborsClassifier(n_neighbors=10)\n",
    "clf.fit(trainingX, trainingY)\n",
    "\n",
    "predictions = clf.predict(testingX)\n",
    "print(np.unique(predictions, return_counts=True))\n",
    "precision, recall, _, _ = precision_recall_fscore_support(testingY, predictions, average = \"binary\")\n",
    "print(precision)\n",
    "print(recall)"
   ]
  },
  {
   "cell_type": "code",
   "execution_count": 14,
   "metadata": {},
   "outputs": [
    {
     "data": {
      "image/png": "[encoded data removed]",
      "text/plain": [
       "<matplotlib.figure.Figure at 0x11198b278>"
      ]
     },
     "metadata": {},
     "output_type": "display_data"
    }
   ],
   "source": [
    "class_probs = clf.predict_proba(testingX)\n",
    "conf = [c[1] for c in class_probs]\n",
    "\n",
    "fpr, tpr, thresholds = roc_curve(testingY, conf, pos_label=1)\n",
    "roc_auc = auc(fpr, tpr)\n",
    "\n",
    "plt.figure()\n",
    "lw = 2\n",
    "plt.plot(fpr, tpr, color='darkorange',\n",
    "         lw=lw, label='ROC curve (area = %0.2f)' % roc_auc)\n",
    "plt.plot([0, 1], [0, 1], color='navy', lw=lw, linestyle='--')\n",
    "plt.xlim([0.0, 1.0])\n",
    "plt.ylim([0.0, 1.0])\n",
    "plt.xlabel('False Positive Rate')\n",
    "plt.ylabel('True Positive Rate')\n",
    "plt.title('Receiver Operating Characteristic')\n",
    "plt.legend(loc=\"lower right\")\n",
    "plt.show()"
   ]
  },
  {
   "cell_type": "code",
   "execution_count": 13,
   "metadata": {},
   "outputs": [
    {
     "name": "stdout",
     "output_type": "stream",
     "text": [
      "(array([0, 1]), array([3237, 2446]))\n",
      "0.8336058871627147\n",
      "0.7878670788253478\n"
     ]
    }
   ],
   "source": [
    "# Random Forests for FastText\n",
    "clf = RandomForestClassifier(n_estimators=16)\n",
    "clf.fit(trainingX, trainingY)\n",
    "\n",
    "predictions = clf.predict(testingX)\n",
    "print(np.unique(predictions, return_counts=True))\n",
    "precision, recall, _, _ = precision_recall_fscore_support(testingY, predictions, average = \"binary\")\n",
    "print(precision)\n",
    "print(recall)"
   ]
  },
  {
   "cell_type": "code",
   "execution_count": 14,
   "metadata": {},
   "outputs": [
    {
     "data": {
      "image/png": "[encoded data removed]",
      "text/plain": [
       "<matplotlib.figure.Figure at 0x1a452075f8>"
      ]
     },
     "metadata": {},
     "output_type": "display_data"
    },
    {
     "data": {
      "image/png": "[encoded data removed]",
      "text/plain": [
       "<matplotlib.figure.Figure at 0x1a45abaf98>"
      ]
     },
     "metadata": {},
     "output_type": "display_data"
    }
   ],
   "source": [
    "class_probs = clf.predict_proba(testingX)\n",
    "conf = [c[1] for c in class_probs]\n",
    "\n",
    "fpr, tpr, thresholds = roc_curve(testingY, conf, pos_label=1)\n",
    "roc_auc = auc(fpr, tpr)\n",
    "\n",
    "plt.figure()\n",
    "lw = 2\n",
    "plt.plot(fpr, tpr, color='darkorange',\n",
    "         lw=lw, label='Testing ROC curve (area = %0.2f)' % roc_auc)\n",
    "plt.plot([0, 1], [0, 1], color='navy', lw=lw, linestyle='--')\n",
    "plt.xlim([0.0, 1.0])\n",
    "plt.ylim([0.0, 1.0])\n",
    "plt.xlabel('False Positive Rate')\n",
    "plt.ylabel('True Positive Rate')\n",
    "plt.title('Receiver Operating Characteristic')\n",
    "plt.legend(loc=\"lower right\")\n",
    "plt.show()\n",
    "\n",
    "precision, recall, thresholds = precision_recall_curve(testingY, conf)\n",
    "avg_prec = average_precision_score(testingY, conf)\n",
    "\n",
    "plt.figure()\n",
    "lw = 2\n",
    "plt.plot(recall, precision, color='darkorange',\n",
    "         lw=lw, label='Testing P/R curve (avg precision = %0.2f)' % avg_prec)\n",
    "plt.xlim([0.0, 1.0])\n",
    "plt.ylim([0.0, 1.0])\n",
    "plt.xlabel('Recall')\n",
    "plt.ylabel('Precision')\n",
    "plt.title('Precision/Recall Curve')\n",
    "plt.legend(loc=\"lower right\")\n",
    "plt.show()"
   ]
  },
  {
   "cell_type": "code",
   "execution_count": null,
   "metadata": {},
   "outputs": [
    {
     "name": "stdout",
     "output_type": "stream",
     "text": [
      "Iteration 1, loss = 0.54319897\n",
      "Iteration 2, loss = 0.46700331\n",
      "Iteration 3, loss = 0.44946891\n",
      "Iteration 4, loss = 0.43890333\n",
      "Iteration 5, loss = 0.43036025\n",
      "Iteration 6, loss = 0.42423346\n",
      "Iteration 7, loss = 0.41829254\n",
      "Iteration 8, loss = 0.41327687\n",
      "Iteration 9, loss = 0.40984974\n",
      "Iteration 10, loss = 0.40578531\n",
      "Iteration 11, loss = 0.40273304\n",
      "Iteration 12, loss = 0.39905116\n",
      "Iteration 13, loss = 0.39643310\n",
      "Iteration 14, loss = 0.39308245\n",
      "Iteration 15, loss = 0.39045730\n",
      "Iteration 16, loss = 0.38761831\n",
      "Iteration 17, loss = 0.38562888\n",
      "Iteration 18, loss = 0.38327676\n",
      "Iteration 19, loss = 0.38062538\n",
      "Iteration 20, loss = 0.37864724\n",
      "Iteration 21, loss = 0.37691200\n",
      "Iteration 22, loss = 0.37466398\n",
      "Iteration 23, loss = 0.37300944\n",
      "Iteration 24, loss = 0.37101017\n",
      "Iteration 25, loss = 0.36970148\n",
      "Iteration 26, loss = 0.36762912\n",
      "Iteration 27, loss = 0.36548923\n",
      "Iteration 28, loss = 0.36423480\n",
      "Iteration 29, loss = 0.36265797\n",
      "Iteration 30, loss = 0.36025413\n",
      "Iteration 31, loss = 0.35862731\n",
      "Iteration 32, loss = 0.35789978\n",
      "Iteration 33, loss = 0.35599955\n",
      "Iteration 34, loss = 0.35412394\n",
      "Iteration 35, loss = 0.35282254\n",
      "Iteration 36, loss = 0.35125219\n",
      "Iteration 37, loss = 0.34954544\n",
      "Iteration 38, loss = 0.34905505\n",
      "Iteration 39, loss = 0.34668221\n",
      "Iteration 40, loss = 0.34582876\n",
      "Iteration 41, loss = 0.34452489\n",
      "Iteration 42, loss = 0.34276971\n",
      "Iteration 43, loss = 0.34168527\n",
      "Iteration 44, loss = 0.33985226\n",
      "Iteration 45, loss = 0.33875185\n",
      "Iteration 46, loss = 0.33766980\n",
      "Iteration 47, loss = 0.33686861\n",
      "Iteration 48, loss = 0.33543080\n",
      "Iteration 49, loss = 0.33345575\n",
      "Iteration 50, loss = 0.33263932\n",
      "Iteration 51, loss = 0.33123768\n",
      "Iteration 52, loss = 0.33042116\n",
      "Iteration 53, loss = 0.32900038\n",
      "Iteration 54, loss = 0.32728384\n",
      "Iteration 55, loss = 0.32674324\n",
      "Iteration 56, loss = 0.32596739\n",
      "Iteration 57, loss = 0.32436563\n",
      "Iteration 58, loss = 0.32421397\n",
      "Iteration 59, loss = 0.32203213\n",
      "Iteration 60, loss = 0.32143049\n",
      "Iteration 61, loss = 0.32120850\n",
      "Iteration 62, loss = 0.32011494\n",
      "Iteration 63, loss = 0.31799112\n",
      "Iteration 64, loss = 0.31745346\n",
      "Iteration 65, loss = 0.31559733\n",
      "Iteration 66, loss = 0.31494500\n",
      "Iteration 67, loss = 0.31331994\n",
      "Iteration 68, loss = 0.31285475\n",
      "Iteration 69, loss = 0.31213925\n",
      "Iteration 70, loss = 0.31128435\n",
      "Iteration 71, loss = 0.31013776\n",
      "Iteration 72, loss = 0.30891941\n",
      "Iteration 73, loss = 0.30771119\n",
      "Iteration 74, loss = 0.30681747\n",
      "Iteration 75, loss = 0.30568705\n",
      "Iteration 76, loss = 0.30559189\n",
      "Iteration 77, loss = 0.30452732\n",
      "Iteration 78, loss = 0.30321581\n",
      "Iteration 79, loss = 0.30287294\n",
      "Iteration 80, loss = 0.30233306\n",
      "Iteration 81, loss = 0.30039260\n",
      "Iteration 82, loss = 0.30124105\n",
      "Iteration 83, loss = 0.29872477\n",
      "Iteration 84, loss = 0.29874219\n",
      "Iteration 85, loss = 0.29859521\n",
      "Iteration 86, loss = 0.29644000\n",
      "Iteration 87, loss = 0.29550977\n",
      "Iteration 88, loss = 0.29432377\n",
      "Iteration 89, loss = 0.29342165\n",
      "Iteration 90, loss = 0.29268363\n",
      "Iteration 91, loss = 0.29207499\n",
      "Iteration 92, loss = 0.29140189\n",
      "Iteration 93, loss = 0.29015732\n",
      "Iteration 94, loss = 0.28998907\n",
      "Iteration 95, loss = 0.28903260\n",
      "Iteration 96, loss = 0.28755147\n",
      "Iteration 97, loss = 0.28776996\n",
      "Iteration 98, loss = 0.28621939\n",
      "Iteration 99, loss = 0.28582290\n",
      "Iteration 100, loss = 0.28488174\n",
      "Iteration 101, loss = 0.28409392\n",
      "Iteration 102, loss = 0.28286914\n",
      "Iteration 103, loss = 0.28280047\n",
      "Iteration 104, loss = 0.28200534\n",
      "Iteration 105, loss = 0.28101015\n",
      "Iteration 106, loss = 0.28006161\n",
      "Iteration 107, loss = 0.27971703\n",
      "Iteration 108, loss = 0.27844644\n",
      "Iteration 109, loss = 0.27848113\n",
      "Iteration 110, loss = 0.27633440\n",
      "Iteration 111, loss = 0.27591450\n",
      "Iteration 112, loss = 0.27547891\n",
      "Iteration 113, loss = 0.27625531\n",
      "Iteration 114, loss = 0.27452808\n",
      "Iteration 115, loss = 0.27415471\n",
      "Iteration 116, loss = 0.27241122\n",
      "Iteration 117, loss = 0.27214127\n",
      "Iteration 118, loss = 0.27141251\n",
      "Iteration 119, loss = 0.27033863\n",
      "Iteration 120, loss = 0.27017746\n",
      "Iteration 121, loss = 0.26889212\n",
      "Iteration 122, loss = 0.26952177\n",
      "Iteration 123, loss = 0.26788558\n",
      "Iteration 124, loss = 0.26708405\n",
      "Iteration 125, loss = 0.26608984\n",
      "Iteration 126, loss = 0.26648187\n",
      "Iteration 127, loss = 0.26566789\n",
      "Iteration 128, loss = 0.26445028\n",
      "Iteration 129, loss = 0.26279367\n",
      "Iteration 130, loss = 0.26281651\n",
      "Iteration 131, loss = 0.26294768\n",
      "Iteration 132, loss = 0.26214207\n",
      "Iteration 133, loss = 0.26127382\n",
      "Iteration 134, loss = 0.26037314\n",
      "Iteration 135, loss = 0.26000369\n",
      "Iteration 136, loss = 0.25950935\n",
      "Iteration 137, loss = 0.25805450\n",
      "Iteration 138, loss = 0.25801705\n",
      "Iteration 139, loss = 0.25694884\n",
      "Iteration 140, loss = 0.25674110\n",
      "Iteration 141, loss = 0.25495684\n",
      "Iteration 142, loss = 0.25613940\n",
      "Iteration 143, loss = 0.25422240\n",
      "Iteration 144, loss = 0.25436523\n",
      "Iteration 145, loss = 0.25339460\n",
      "Iteration 146, loss = 0.25319521\n",
      "Iteration 147, loss = 0.25316532\n",
      "Iteration 148, loss = 0.25148605\n",
      "Iteration 149, loss = 0.25013126\n",
      "Iteration 150, loss = 0.25076290\n",
      "Iteration 151, loss = 0.25088255\n"
     ]
    },
    {
     "name": "stderr",
     "output_type": "stream",
     "text": [
      "/Users/scott/anaconda3/lib/python3.6/site-packages/sklearn/neural_network/multilayer_perceptron.py:566: UserWarning: Training interrupted by user.\n",
      "  warnings.warn(\"Training interrupted by user.\")\n",
      "ERROR:root:Internal Python error in the inspect module.\n",
      "Below is the traceback from this internal error.\n",
      "\n"
     ]
    },
    {
     "name": "stdout",
     "output_type": "stream",
     "text": [
      "Traceback (most recent call last):\n",
      "  File \"/Users/scott/anaconda3/lib/python3.6/site-packages/IPython/core/interactiveshell.py\", line 2862, in run_code\n",
      "    exec(code_obj, self.user_global_ns, self.user_ns)\n",
      "  File \"<ipython-input-33-be14100777ee>\", line 5, in <module>\n",
      "    predictions = clf.predict(testingX)\n",
      "  File \"/Users/scott/anaconda3/lib/python3.6/site-packages/sklearn/neural_network/multilayer_perceptron.py\", line 949, in predict\n",
      "    y_pred = self._predict(X)\n",
      "  File \"/Users/scott/anaconda3/lib/python3.6/site-packages/sklearn/neural_network/multilayer_perceptron.py\", line 660, in _predict\n",
      "    X = check_array(X, accept_sparse=['csr', 'csc', 'coo'])\n",
      "  File \"/Users/scott/anaconda3/lib/python3.6/site-packages/sklearn/utils/validation.py\", line 433, in check_array\n",
      "    array = np.array(array, dtype=dtype, order=order, copy=copy)\n",
      "KeyboardInterrupt\n",
      "\n",
      "During handling of the above exception, another exception occurred:\n",
      "\n",
      "Traceback (most recent call last):\n",
      "  File \"/Users/scott/anaconda3/lib/python3.6/site-packages/IPython/core/interactiveshell.py\", line 1806, in showtraceback\n",
      "    stb = value._render_traceback_()\n",
      "AttributeError: 'KeyboardInterrupt' object has no attribute '_render_traceback_'\n",
      "\n",
      "During handling of the above exception, another exception occurred:\n",
      "\n",
      "Traceback (most recent call last):\n",
      "  File \"/Users/scott/anaconda3/lib/python3.6/site-packages/IPython/core/ultratb.py\", line 1090, in get_records\n",
      "    return _fixed_getinnerframes(etb, number_of_lines_of_context, tb_offset)\n",
      "  File \"/Users/scott/anaconda3/lib/python3.6/site-packages/IPython/core/ultratb.py\", line 311, in wrapped\n",
      "    return f(*args, **kwargs)\n",
      "  File \"/Users/scott/anaconda3/lib/python3.6/site-packages/IPython/core/ultratb.py\", line 345, in _fixed_getinnerframes\n",
      "    records = fix_frame_records_filenames(inspect.getinnerframes(etb, context))\n",
      "  File \"/Users/scott/anaconda3/lib/python3.6/inspect.py\", line 1480, in getinnerframes\n",
      "    frameinfo = (tb.tb_frame,) + getframeinfo(tb, context)\n",
      "  File \"/Users/scott/anaconda3/lib/python3.6/inspect.py\", line 1438, in getframeinfo\n",
      "    filename = getsourcefile(frame) or getfile(frame)\n",
      "  File \"/Users/scott/anaconda3/lib/python3.6/inspect.py\", line 693, in getsourcefile\n",
      "    if getattr(getmodule(object, filename), '__loader__', None) is not None:\n",
      "  File \"/Users/scott/anaconda3/lib/python3.6/inspect.py\", line 729, in getmodule\n",
      "    for modname, module in list(sys.modules.items()):\n",
      "KeyboardInterrupt\n"
     ]
    },
    {
     "ename": "KeyboardInterrupt",
     "evalue": "",
     "output_type": "error",
     "traceback": [
      "\u001b[0;31m---------------------------------------------------------------------------\u001b[0m"
     ]
    },
    {
     "name": "stderr",
     "output_type": "stream",
     "text": [
      "ERROR:tornado.general:Uncaught exception, closing connection.\n",
      "Traceback (most recent call last):\n",
      "  File \"/Users/scott/anaconda3/lib/python3.6/site-packages/zmq/eventloop/zmqstream.py\", line 414, in _run_callback\n",
      "    callback(*args, **kwargs)\n",
      "  File \"/Users/scott/anaconda3/lib/python3.6/site-packages/tornado/stack_context.py\", line 277, in null_wrapper\n",
      "    return fn(*args, **kwargs)\n",
      "  File \"/Users/scott/anaconda3/lib/python3.6/site-packages/ipykernel/kernelbase.py\", line 283, in dispatcher\n",
      "    return self.dispatch_shell(stream, msg)\n",
      "  File \"/Users/scott/anaconda3/lib/python3.6/site-packages/ipykernel/kernelbase.py\", line 235, in dispatch_shell\n",
      "    handler(stream, idents, msg)\n",
      "  File \"/Users/scott/anaconda3/lib/python3.6/site-packages/ipykernel/kernelbase.py\", line 399, in execute_request\n",
      "    user_expressions, allow_stdin)\n",
      "  File \"/Users/scott/anaconda3/lib/python3.6/site-packages/ipykernel/ipkernel.py\", line 196, in do_execute\n",
      "    res = shell.run_cell(code, store_history=store_history, silent=silent)\n",
      "  File \"/Users/scott/anaconda3/lib/python3.6/site-packages/ipykernel/zmqshell.py\", line 533, in run_cell\n",
      "    return super(ZMQInteractiveShell, self).run_cell(*args, **kwargs)\n",
      "  File \"/Users/scott/anaconda3/lib/python3.6/site-packages/IPython/core/interactiveshell.py\", line 2704, in run_cell\n",
      "    self.displayhook.exec_result = None\n",
      "  File \"/Users/scott/anaconda3/lib/python3.6/site-packages/traitlets/traitlets.py\", line 582, in __set__\n",
      "    if self.read_only:\n",
      "KeyboardInterrupt\n",
      "ERROR:tornado.general:Uncaught exception, closing connection.\n",
      "Traceback (most recent call last):\n",
      "  File \"/Users/scott/anaconda3/lib/python3.6/site-packages/zmq/eventloop/zmqstream.py\", line 440, in _handle_events\n",
      "    self._handle_recv()\n",
      "  File \"/Users/scott/anaconda3/lib/python3.6/site-packages/zmq/eventloop/zmqstream.py\", line 472, in _handle_recv\n",
      "    self._run_callback(callback, msg)\n",
      "  File \"/Users/scott/anaconda3/lib/python3.6/site-packages/zmq/eventloop/zmqstream.py\", line 414, in _run_callback\n",
      "    callback(*args, **kwargs)\n",
      "  File \"/Users/scott/anaconda3/lib/python3.6/site-packages/tornado/stack_context.py\", line 277, in null_wrapper\n",
      "    return fn(*args, **kwargs)\n",
      "  File \"/Users/scott/anaconda3/lib/python3.6/site-packages/ipykernel/kernelbase.py\", line 283, in dispatcher\n",
      "    return self.dispatch_shell(stream, msg)\n",
      "  File \"/Users/scott/anaconda3/lib/python3.6/site-packages/ipykernel/kernelbase.py\", line 235, in dispatch_shell\n",
      "    handler(stream, idents, msg)\n",
      "  File \"/Users/scott/anaconda3/lib/python3.6/site-packages/ipykernel/kernelbase.py\", line 399, in execute_request\n",
      "    user_expressions, allow_stdin)\n",
      "  File \"/Users/scott/anaconda3/lib/python3.6/site-packages/ipykernel/ipkernel.py\", line 196, in do_execute\n",
      "    res = shell.run_cell(code, store_history=store_history, silent=silent)\n",
      "  File \"/Users/scott/anaconda3/lib/python3.6/site-packages/ipykernel/zmqshell.py\", line 533, in run_cell\n",
      "    return super(ZMQInteractiveShell, self).run_cell(*args, **kwargs)\n",
      "  File \"/Users/scott/anaconda3/lib/python3.6/site-packages/IPython/core/interactiveshell.py\", line 2704, in run_cell\n",
      "    self.displayhook.exec_result = None\n",
      "  File \"/Users/scott/anaconda3/lib/python3.6/site-packages/traitlets/traitlets.py\", line 582, in __set__\n",
      "    if self.read_only:\n",
      "KeyboardInterrupt\n"
     ]
    }
   ],
   "source": [
    "# fastText MLP\n",
    "clf = MLPClassifier(verbose=True, hidden_layer_sizes=(100), alpha=0.001)\n",
    "clf.fit(trainingX, trainingY)\n",
    "\n",
    "predictions = clf.predict(testingX)\n",
    "print(np.unique(predictions, return_counts=True))\n",
    "precision, recall, _, _ = precision_recall_fscore_support(testingY, predictions, average = \"binary\")\n",
    "print(precision)\n",
    "print(recall)"
   ]
  },
  {
   "cell_type": "code",
   "execution_count": null,
   "metadata": {},
   "outputs": [],
   "source": [
    "predictions = clf.predict(testingX)\n",
    "print(np.unique(predictions, return_counts=True))\n",
    "\n",
    "class_probs = clf.predict_proba(testingX)\n",
    "conf = [c[1] for c in class_probs]\n",
    "\n",
    "fpr, tpr, thresholds = roc_curve(testingY, conf, pos_label=1)\n",
    "roc_auc = auc(fpr, tpr)\n",
    "\n",
    "plt.figure()\n",
    "lw = 2\n",
    "plt.plot(fpr, tpr, color='darkorange',\n",
    "         lw=lw, label='Testing ROC curve (area = %0.2f)' % roc_auc)\n",
    "plt.plot([0, 1], [0, 1], color='navy', lw=lw, linestyle='--')\n",
    "plt.xlim([0.0, 1.0])\n",
    "plt.ylim([0.0, 1.0])\n",
    "plt.xlabel('False Positive Rate')\n",
    "plt.ylabel('True Positive Rate')\n",
    "plt.title('Receiver Operating Characteristic')\n",
    "plt.legend(loc=\"lower right\")\n",
    "plt.show()\n",
    "\n",
    "precision, recall, thresholds = precision_recall_curve(testingY, conf)\n",
    "avg_prec = average_precision_score(testingY, conf)\n",
    "\n",
    "plt.figure()\n",
    "lw = 2\n",
    "plt.plot(recall, precision, color='darkorange',\n",
    "         lw=lw, label='Testing P/R curve (avg precision = %0.2f)' % avg_prec)\n",
    "plt.xlim([0.0, 1.0])\n",
    "plt.ylim([0.0, 1.0])\n",
    "plt.xlabel('Recall')\n",
    "plt.ylabel('Precision')\n",
    "plt.title('Precision/Recall Curve')\n",
    "plt.legend(loc=\"lower right\")\n",
    "plt.show()"
   ]
  },
  {
   "cell_type": "code",
   "execution_count": null,
   "metadata": {},
   "outputs": [],
   "source": []
  }
 ],
 "metadata": {
  "kernelspec": {
   "display_name": "Python 3",
   "language": "python",
   "name": "python3"
  },
  "language_info": {
   "codemirror_mode": {
    "name": "ipython",
    "version": 3
   },
   "file_extension": ".py",
   "mimetype": "text/x-python",
   "name": "python",
   "nbconvert_exporter": "python",
   "pygments_lexer": "ipython3",
   "version": "3.6.3"
  }
 },
 "nbformat": 4,
 "nbformat_minor": 2
}
