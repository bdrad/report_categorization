{
 "cells": [
  {
   "cell_type": "code",
   "execution_count": 1,
   "metadata": {},
   "outputs": [],
   "source": [
    "import numpy as np\n",
    "import matplotlib.pyplot as plt\n",
    "import pickle"
   ]
  },
  {
   "cell_type": "code",
   "execution_count": 2,
   "metadata": {},
   "outputs": [],
   "source": [
    "mapped_reports_path = \"../data/processed/processed_reports/preprocessed_all_replace_sw\"\n",
    "mapped_reports = pickle.load(open(mapped_reports_path, 'rb'))"
   ]
  },
  {
   "cell_type": "code",
   "execution_count": 3,
   "metadata": {},
   "outputs": [
    {
     "name": "stdout",
     "output_type": "stream",
     "text": [
      "Number of reports: 56825\n",
      "Number of positive: 26121\n",
      "Number of negative: 30704\n"
     ]
    }
   ],
   "source": [
    "num_reports = len(mapped_reports)\n",
    "num_pos = len([label for report, label in mapped_reports if label == 1])\n",
    "num_neg = len([label for report, label in mapped_reports if label == 0])\n",
    "\n",
    "\n",
    "print(\"Number of reports: \" + str(num_reports))\n",
    "print(\"Number of positive: \" + str(num_pos))\n",
    "print(\"Number of negative: \" + str(num_neg))"
   ]
  },
  {
   "cell_type": "code",
   "execution_count": 4,
   "metadata": {},
   "outputs": [
    {
     "data": {
      "image/png": "[encoded data removed]",
      "text/plain": [
       "<matplotlib.figure.Figure at 0x10fb3db00>"
      ]
     },
     "metadata": {},
     "output_type": "display_data"
    }
   ],
   "source": [
    "def report_len(labeled_report):\n",
    "    total_len = 0\n",
    "    for sentence in labeled_report[0]:\n",
    "        total_len += len(sentence.split(\" \"))\n",
    "    return total_len\n",
    "\n",
    "lengths = [report_len(lr) for lr in mapped_reports]\n",
    "plt.hist(lengths, bins=100, range=(0,400))\n",
    "plt.show()"
   ]
  },
  {
   "cell_type": "code",
   "execution_count": null,
   "metadata": {},
   "outputs": [],
   "source": []
  }
 ],
 "metadata": {
  "kernelspec": {
   "display_name": "Python 3",
   "language": "python",
   "name": "python3"
  },
  "language_info": {
   "codemirror_mode": {
    "name": "ipython",
    "version": 3
   },
   "file_extension": ".py",
   "mimetype": "text/x-python",
   "name": "python",
   "nbconvert_exporter": "python",
   "pygments_lexer": "ipython3",
   "version": "3.6.3"
  }
 },
 "nbformat": 4,
 "nbformat_minor": 2
}
