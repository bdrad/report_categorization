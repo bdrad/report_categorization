{
 "cells": [
  {
   "cell_type": "code",
   "execution_count": 1,
   "metadata": {
    "collapsed": true
   },
   "outputs": [],
   "source": [
    "import sys\n",
    "sys.path.insert(0, '../preprocessing')"
   ]
  },
  {
   "cell_type": "code",
   "execution_count": 2,
   "metadata": {},
   "outputs": [
    {
     "name": "stdout",
     "output_type": "stream",
     "text": [
      "[nltk_data] Downloading package punkt to /Users/maxyuan/nltk_data...\n",
      "[nltk_data]   Package punkt is already up-to-date!\n",
      "[nltk_data] Downloading package stopwords to\n",
      "[nltk_data]     /Users/maxyuan/nltk_data...\n",
      "[nltk_data]   Package stopwords is already up-to-date!\n",
      "[nltk_data] Downloading package words to /Users/maxyuan/nltk_data...\n",
      "[nltk_data]   Package words is already up-to-date!\n"
     ]
    },
    {
     "data": {
      "text/plain": [
       "True"
      ]
     },
     "execution_count": 2,
     "metadata": {},
     "output_type": "execute_result"
    }
   ],
   "source": [
    "from loader import read_replacements\n",
    "from transformers import StopWordRemover, SemanticMapper, LowerCaseSentence, SpellCheckTransformer\n",
    "from sklearn.pipeline import Pipeline, FeatureUnion, make_pipeline\n",
    "import pandas as pd\n",
    "import nltk\n",
    "from nltk.tokenize import word_tokenize\n",
    "nltk.download('punkt')\n",
    "nltk.download('stopwords')\n",
    "nltk.download('words')"
   ]
  },
  {
   "cell_type": "markdown",
   "metadata": {},
   "source": [
    "# Load and process input"
   ]
  },
  {
   "cell_type": "code",
   "execution_count": 3,
   "metadata": {},
   "outputs": [],
   "source": [
    "df = pd.read_csv('../data/inputs/ct_desc.csv')\n",
    "impressions = df['Impression Cleaned']"
   ]
  },
  {
   "cell_type": "code",
   "execution_count": 4,
   "metadata": {
    "collapsed": true
   },
   "outputs": [],
   "source": [
    "example_input = impressions[:10]\n",
    "example_input = [i.split('\\n')[1:-1] for i in example_input]"
   ]
  },
  {
   "cell_type": "code",
   "execution_count": 5,
   "metadata": {},
   "outputs": [
    {
     "data": {
      "text/plain": [
       "[['1.  Unchanged descending thoracic aorta intramural hematoma with persistent intramural blood pool measuring approximately 1.4 cm in size, which is supplied by an intercostal artery.',\n",
       "  '2.  Unchanged enlargement of the ascending aorta measuring up to 4.1 cm, with diffuse calcified and noncalcified atherosclerotic plaque throughout the thoracic aorta.',\n",
       "  '3.  Unchanged 2.3 cm left thyroid nodule which warrants dedicated thyroid ultrasound if not previously performed.'],\n",
       " ['1. Slight decrease in the left lung and pleural metastatic disease.',\n",
       "  '2.  Unchanged small right pleural effusion.'],\n",
       " ['1. No pulmonary embolism.',\n",
       "  '2. Slight interval decrease in scattered groundglass opacities and interlobular septal thickening, compatible with pulmonary edema which is slightly improving.',\n",
       "  '3. Medium right and small left pleural effusion. Small pericardial effusion. These findings are similar to prior and are suggestive of volume overload.'],\n",
       " ['No intrathoracic metastatic disease.'],\n",
       " ['Large left heterogeneously enhancing supraclavicular lymph node likely represents a metastasis via the thoracic duct drainage in the setting of retroperitoneal lymphadenopathy (Virchow node). No additional findings indicate intrathoracic metastasis.']]"
      ]
     },
     "execution_count": 5,
     "metadata": {},
     "output_type": "execute_result"
    }
   ],
   "source": [
    "example_input[:5]"
   ]
  },
  {
   "cell_type": "markdown",
   "metadata": {},
   "source": [
    "# Initialize Preprocessing Transformations"
   ]
  },
  {
   "cell_type": "code",
   "execution_count": 6,
   "metadata": {},
   "outputs": [],
   "source": [
    "clever_r = read_replacements('../data/semantic_maps/clever_replacements')\n",
    "misc_r = read_replacements('../data/semantic_maps/misc_replacements')\n",
    "radlax_r = read_replacements('../data/semantic_maps/radlex_replacements')\n",
    "\n",
    "non_alpha_t = SemanticMapper([('[^A-Za-z]', ' ')], regex=True)\n",
    "lower_t = LowerCaseSentence()\n",
    "spellcheck_t = SpellCheckTransformer()\n",
    "clever_t = SemanticMapper(clever_r)\n",
    "misc_t = SemanticMapper(misc_r)\n",
    "radlax_t = SemanticMapper(radlax_r)"
   ]
  },
  {
   "cell_type": "code",
   "execution_count": 7,
   "metadata": {},
   "outputs": [
    {
     "name": "stdout",
     "output_type": "stream",
     "text": [
      "Input: \n",
      "[['1.  Unchanged descending thoracic aorta intramural hematoma with persistent intramural blood pool measuring approximately 1.4 cm in size, which is supplied by an intercostal artery.', '2.  Unchanged enlargement of the ascending aorta measuring up to 4.1 cm, with diffuse calcified and noncalcified atherosclerotic plaque throughout the thoracic aorta.', '3.  Unchanged 2.3 cm left thyroid nodule which warrants dedicated thyroid ultrasound if not previously performed.'], ['1. Slight decrease in the left lung and pleural metastatic disease.', '2.  Unchanged small right pleural effusion.'], ['1. No pulmonary embolism.', '2. Slight interval decrease in scattered groundglass opacities and interlobular septal thickening, compatible with pulmonary edema which is slightly improving.', '3. Medium right and small left pleural effusion. Small pericardial effusion. These findings are similar to prior and are suggestive of volume overload.']]\n",
      "--------------------------------------\n",
      "Transformation 0:\n",
      "[['    Unchanged descending thoracic aorta intramural hematoma with persistent intramural blood pool measuring approximately     cm in size  which is supplied by an intercostal artery ', '    Unchanged enlargement of the ascending aorta measuring up to     cm  with diffuse calcified and noncalcified atherosclerotic plaque throughout the thoracic aorta ', '    Unchanged     cm left thyroid nodule which warrants dedicated thyroid ultrasound if not previously performed '], ['   Slight decrease in the left lung and pleural metastatic disease ', '    Unchanged small right pleural effusion '], ['   No pulmonary embolism ', '   Slight interval decrease in scattered groundglass opacities and interlobular septal thickening  compatible with pulmonary edema which is slightly improving ', '   Medium right and small left pleural effusion  Small pericardial effusion  These findings are similar to prior and are suggestive of volume overload ']]\n",
      "--------------------------------------\n",
      "Transformation 1:\n",
      "[['1. unchanged descending thoracic aorta intramural hematoma with persistent intramural blood pool measuring approximately 1.4 cm in size, which is supplied by an intercostal artery.', '2. unchanged enlargement of the ascending aorta measuring up to 4.1 cm, with diffuse calcified and noncalcified atherosclerotic plaque throughout the thoracic aorta.', '3. unchanged 2.3 cm left thyroid nodule which warrants dedicated thyroid ultrasound if not previously performed.'], ['1. slight decrease in the left lung and pleural metastatic disease.', '2. unchanged small right pleural effusion.'], ['1. no pulmonary embolism.', '2. slight interval decrease in scattered groundglass opacities and interlobular septal thickening, compatible with pulmonary edema which is slightly improving.', '3. medium right and small left pleural effusion. small pericardial effusion. these findings are similar to prior and are suggestive of volume overload.']]\n",
      "--------------------------------------\n",
      "Transformation 2:\n",
      "[['1. unchanged descending thoracic aorta intramural haematoma with persistent intramural blood pool measuring approximately 1.4 cm in size , which is supplied by an intercostal artery .', '2. unchanged enlargement of the ascending aorta measuring up to 4.1 cm , with diffuse calcified and noncalcified atherosclerotic plaque throughout the thoracic aorta .', '3. unchanged 2.3 cm left thyroid nodule which warrants dedicated thyroid ultrasound if not previously performed .'], ['1. slight decrease in the left lung and pleural metastatic disease .', '2. unchanged small right pleural effusion .'], ['1. no pulmonary embolism .', '2. slight interval decrease in scattered groundless capacities and interlobular septal thickening , compatible with pulmonary edema which is slightly improving .', '3. medium right and small left pleural effusion . small pericardial effusion . these findings are similar to prior and are suggestive of volume overload .']]\n",
      "--------------------------------------\n",
      "Transformation 3:\n",
      "[['1. unchanged descending thoracic aorta intramural hematoma with persistent intramural blood pool measuring approximately 1.4 cm in size, which is supplied by an intercostal artery.', '2. unchanged enlargement of the ascending aorta measuring up to 4.1 cm, with diffuse calcified and noncalcified atherosclerotic plaque throughout the thoracic aorta.', '3. unchanged 2.3 cm left thyroid nodule which warrants dedicated thyroid ultrasound if NEGEX previously performed.'], ['1. slight decrease in the left lung and pleural metastatic disease.', '2. unchanged small right pleural effusion.'], ['1. NEGEX pulmonary embolism.', '2. slight interval decrease in scattered groundglass opacities and interlobular septal thickening, compatible with pulmonary edema which is slightly improving.', '3. medium right and small left pleural effusion. small pericardial effusion. these findings are similar to prior and are RISK of volume overload.']]\n",
      "--------------------------------------\n",
      "Transformation 4:\n",
      "[['1. NEGEX change descending thoracic aorta intramural hematoma with persistent intramural blood pool measuring approximately 1.4 cm in size, which is supplied by an intercostal artery.', '2. NEGEX change enlargement of the ascending aorta measuring up to 4.1 cm, with diffuse calcified and noncalcified atherosclerotic plaque throughout the thoracic aorta.', '3. NEGEX change 2.3 cm left thyroid nodule which warrants dedicated thyroid ultrasound if not previously performed.'], ['1. slight decrease in the left lung and pleural metastatic disease.', '2. NEGEX change small right pleural effusion.'], ['1. no pulmonary embolism.', '2. slight interval decrease in scattered groundglass opacities and interlobular septal thickening, compatible with pulmonary edema which is slightly improving.', '3. medium right and small left pleural effusion. small pericardial effusion. these findings are similar to prior and are suggestive of volume overload.']]\n",
      "--------------------------------------\n",
      "Transformation 5:\n",
      "[['1. unchanged descending_thoracic_aorta intramural hematoma with persistent intramural blood pool measuring approximately 1.4 curium in size, which is supplied by an intercostal artery.', '2. unchanged enlargement of the ascending_aorta measuring up to 4.1 cm, with diffuse calcified and noncalcified atherosclerotic_plaque throughout the thoracic aorta.', '3. unchanged 2.3 curium left thyroid_gland breast_mass which warrants dedicated thyroid_gland ultrasound if not previously performed.'], ['1. slight decrease in the left_lung and pleural metastatic disease.', '2. unchanged small right pleural effusion.'], ['1. no pulmonary embolism.', '2. slight interval decrease in scattered groundglass opacities and interlobular septal thickening, compatible with pulmonary_edema which is slightly improving.', '3. medium right and small left pleural effusion. small pericardial effusion. these findings are similar to prior and are suggestive of volume overload.']]\n",
      "--------------------------------------\n"
     ]
    }
   ],
   "source": [
    "# experiment with each tranformation\n",
    "\n",
    "short_input = example_input[:3]\n",
    "\n",
    "print('Input: ')\n",
    "print(short_input)\n",
    "print('--------------------------------------')\n",
    "\n",
    "for index, transformer in enumerate([non_alpha_t, lower_t, spellcheck_t, clever_t, misc_t, radlax_t]):\n",
    "    print('Transformation {}:'.format(index))\n",
    "    print(transformer.transform(short_input))\n",
    "    print('--------------------------------------')\n",
    "    "
   ]
  },
  {
   "cell_type": "code",
   "execution_count": 12,
   "metadata": {},
   "outputs": [
    {
     "name": "stdout",
     "output_type": "stream",
     "text": [
      "Example Input: \n",
      "\n",
      "1. unchanged descending thoracic aorta intramural hematoma with persistent intramural blood pool measuring approximately 1.4 cm in size, which is supplied by an intercostal artery.\n",
      "2. unchanged enlargement of the ascending aorta measuring up to 4.1 cm, with diffuse calcified and noncalcified atherosclerotic plaque throughout the thoracic aorta.\n",
      "3. unchanged 2.3 cm left thyroid nodule which warrants dedicated thyroid ultrasound if not previously performed.\n",
      "1. slight decrease in the left lung and pleural metastatic disease.\n",
      "2. unchanged small right pleural effusion.\n",
      "1. no pulmonary embolism.\n",
      "2. slight interval decrease in scattered groundglass opacities and interlobular septal thickening, compatible with pulmonary edema which is slightly improving.\n",
      "3. medium right and small left pleural effusion. small pericardial effusion. these findings are similar to prior and are suggestive of volume overload.\n",
      "No intrathoracic metastatic disease.\n",
      "Large left heterogeneously enhancing supraclavicular lymph node likely represents a metastasis via the thoracic duct drainage in the setting of retroperitoneal lymphadenopathy (Virchow node). No additional findings indicate intrathoracic metastasis.\n",
      "No intrathoracic metastatic disease.\n",
      "1. No pulmonary embolism.\n",
      "2.  Improved soft tissue at the intra-atrial septa and surrounding the right coronary artery compatible with improvement of the patient's known Erdheim-Chester disease.\n",
      "No intrathoracic metastatic disease.\n",
      "1.  No pulmonary embolism.\n",
      "2.  New moderate bilateral pleural effusions with bilateral ground glass opacities. In constellation, groundglass opacities are most likely secondary to pulmonary edema.\n",
      "3.  Complete bilateral lower lobe collapse with impacted airways.\n",
      "1. No definite intrathoracic metastatic disease.3 mm perifissural nodule within right middle lobe (series 3, image 167) likely represents an intrapulmonary lymph node. Continued followup per clinical oncologic protocol recommended.\n",
      "2. Thoracic aorta is normal in course and caliber.\n",
      "\n",
      "--------------------------------------\n",
      "\n",
      "Pipeline Output: \n",
      "\n",
      "NEGEX change descending_thoracic_aorta intramural haematoma with persistent intramural blood pool measuring approximately curium in size which is supplied by an intercostal_artery\n",
      "NEGEX change enlargement of the ascending_aorta measuring up to curium with diffuse calcified and noncalcified atherosclerotic_plaque throughout the thoracic_aorta\n",
      "NEGEX change curium left thyroid_gland breast_mass which warrants dedicated thyroid_gland ultrasound if NEGEX previously performed\n",
      "slight decrease in the left_lung and pleural metastatic_disease\n",
      "NEGEX change small right pleural_effusion\n",
      "NEGEX pulmonary_embolism\n",
      "slight interval decrease in scattered groundless capacities and interlobular_septal_thickening compatible with pulmonary_edema which is slightly improving\n",
      "medium right and small left pleural_effusion small pericardial_effusion these findings are similar to prior and are RISK of volume overload\n",
      "NEGEX intrathoracic metastatic_disease\n",
      "large left heterogeneous enhancing supraclavicular_lymph_node likely represents a metastatic_disease via the thoracic_duct drainage in the setting of retroperitoneal lymphadenopathy airshow node NEGEX additional findings indicate intrathoracic metastatic_disease\n",
      "NEGEX intrathoracic metastatic_disease\n",
      "NEGEX pulmonary_embolism\n",
      "improved soft portion_of_tissue at the intra atrial septae and surrounding the right coronary_artery compatible with improvement of the PT s known wertheim chester disease\n",
      "NEGEX intrathoracic metastatic_disease\n",
      "NEGEX pulmonary_embolism\n",
      "new moderate bilateral pleural effusions with bilateral ground-glass_opacity capacities in constellation groundless capacities are most likely secondary to pulmonary_edema\n",
      "imagingcomplete bilateral lower lobe collapse with impacted airways\n",
      "NEGEX definite intrathoracic metastatic_disease mm perifissural breast_mass within middle_lobe_of_lung series image likely represents an extrapulmonary lymph_node continued follow-up_procedure per clinical oncology protocol_specified recommended\n",
      "thoracic_aorta is normal in course and calibre\n"
     ]
    }
   ],
   "source": [
    "# create pipeline \n",
    "print('Example Input: \\n')\n",
    "for r in example_input:\n",
    "    for s in r:\n",
    "        print(s)\n",
    "print('\\n--------------------------------------\\n')\n",
    "\n",
    "proposed_pipeline = make_pipeline(non_alpha_t, lower_t, spellcheck_t, clever_t, misc_t, radlax_t, None)\n",
    "labeled_output = proposed_pipeline.transform(example_input)\n",
    "\n",
    "print('Pipeline Output: \\n')\n",
    "for r in labeled_output:\n",
    "    for s in r:\n",
    "        print(s)"
   ]
  },
  {
   "cell_type": "markdown",
   "metadata": {},
   "source": [
    "# NOTE\n",
    "1. Need to modify NEGEX to [NEGEX], RISK to [HEDGE]... for style\n",
    "2. Some of the transformation might or might not be necessary (clever, misc)\n",
    "3. Spellcheck transformation is incredible important but takes incredibly long\n",
    "    - Potentially need to write scripts to parallelize the opration \n",
    "    - Might need to run on the UCSF machines to speed up and run for larger datasets (Could be a onetime thing)\n",
    "    - DEFINITELY NEED: huge dictionary of ALL words we might see for spellcheck to work correctly\n"
   ]
  },
  {
   "cell_type": "code",
   "execution_count": null,
   "metadata": {
    "collapsed": true
   },
   "outputs": [],
   "source": []
  }
 ],
 "metadata": {
  "kernelspec": {
   "display_name": "Python 3",
   "language": "python",
   "name": "python3"
  },
  "language_info": {
   "codemirror_mode": {
    "name": "ipython",
    "version": 3
   },
   "file_extension": ".py",
   "mimetype": "text/x-python",
   "name": "python",
   "nbconvert_exporter": "python",
   "pygments_lexer": "ipython3",
   "version": "3.6.3"
  }
 },
 "nbformat": 4,
 "nbformat_minor": 2
}
