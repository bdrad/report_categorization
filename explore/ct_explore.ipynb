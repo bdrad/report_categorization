{
 "cells": [
  {
   "cell_type": "code",
   "execution_count": 1,
   "metadata": {},
   "outputs": [
    {
     "name": "stdout",
     "output_type": "stream",
     "text": [
      "Requirement already satisfied: gensim in /Applications/anaconda3/lib/python3.6/site-packages (3.8.1)\n",
      "Requirement already satisfied: six>=1.5.0 in /Applications/anaconda3/lib/python3.6/site-packages (from gensim) (1.11.0)\n",
      "Requirement already satisfied: numpy>=1.11.3 in /Applications/anaconda3/lib/python3.6/site-packages (from gensim) (1.14.2)\n",
      "Requirement already satisfied: smart-open>=1.8.1 in /Applications/anaconda3/lib/python3.6/site-packages (from gensim) (1.8.4)\n",
      "Requirement already satisfied: scipy>=0.18.1 in /Applications/anaconda3/lib/python3.6/site-packages (from gensim) (0.19.1)\n",
      "Requirement already satisfied: requests in /Applications/anaconda3/lib/python3.6/site-packages (from smart-open>=1.8.1->gensim) (2.18.4)\n",
      "Requirement already satisfied: boto3 in /Applications/anaconda3/lib/python3.6/site-packages (from smart-open>=1.8.1->gensim) (1.10.2)\n",
      "Requirement already satisfied: boto>=2.32 in /Applications/anaconda3/lib/python3.6/site-packages (from smart-open>=1.8.1->gensim) (2.48.0)\n",
      "Requirement already satisfied: chardet<3.1.0,>=3.0.2 in /Applications/anaconda3/lib/python3.6/site-packages (from requests->smart-open>=1.8.1->gensim) (3.0.4)\n",
      "Requirement already satisfied: idna<2.7,>=2.5 in /Applications/anaconda3/lib/python3.6/site-packages (from requests->smart-open>=1.8.1->gensim) (2.6)\n",
      "Requirement already satisfied: urllib3<1.23,>=1.21.1 in /Applications/anaconda3/lib/python3.6/site-packages (from requests->smart-open>=1.8.1->gensim) (1.22)\n",
      "Requirement already satisfied: certifi>=2017.4.17 in /Applications/anaconda3/lib/python3.6/site-packages (from requests->smart-open>=1.8.1->gensim) (2018.1.18)\n",
      "Requirement already satisfied: jmespath<1.0.0,>=0.7.1 in /Applications/anaconda3/lib/python3.6/site-packages (from boto3->smart-open>=1.8.1->gensim) (0.9.4)\n",
      "Requirement already satisfied: s3transfer<0.3.0,>=0.2.0 in /Applications/anaconda3/lib/python3.6/site-packages (from boto3->smart-open>=1.8.1->gensim) (0.2.1)\n",
      "Requirement already satisfied: botocore<1.14.0,>=1.13.2 in /Applications/anaconda3/lib/python3.6/site-packages (from boto3->smart-open>=1.8.1->gensim) (1.13.2)\n",
      "Requirement already satisfied: docutils<0.16,>=0.10 in /Applications/anaconda3/lib/python3.6/site-packages (from botocore<1.14.0,>=1.13.2->boto3->smart-open>=1.8.1->gensim) (0.14)\n",
      "Requirement already satisfied: python-dateutil<3.0.0,>=2.1; python_version >= \"2.7\" in /Applications/anaconda3/lib/python3.6/site-packages (from botocore<1.14.0,>=1.13.2->boto3->smart-open>=1.8.1->gensim) (2.6.1)\n",
      "\u001b[33mWARNING: You are using pip version 19.2.3, however version 19.3.1 is available.\n",
      "You should consider upgrading via the 'pip install --upgrade pip' command.\u001b[0m\n"
     ]
    }
   ],
   "source": [
    "!pip3 install gensim"
   ]
  },
  {
   "cell_type": "code",
   "execution_count": 2,
   "metadata": {
    "collapsed": true
   },
   "outputs": [],
   "source": [
    "import sys\n",
    "sys.path.insert(0, '../preprocessing')"
   ]
  },
  {
   "cell_type": "code",
   "execution_count": 3,
   "metadata": {},
   "outputs": [
    {
     "name": "stdout",
     "output_type": "stream",
     "text": [
      "[nltk_data] Downloading package punkt to /Users/maxyuan/nltk_data...\n",
      "[nltk_data]   Package punkt is already up-to-date!\n",
      "[nltk_data] Downloading package stopwords to\n",
      "[nltk_data]     /Users/maxyuan/nltk_data...\n",
      "[nltk_data]   Package stopwords is already up-to-date!\n"
     ]
    }
   ],
   "source": [
    "from loader import read_replacements\n",
    "from transformers import StopWordRemover, SemanticMapper, LowerCaseSentence\n",
    "import pandas as pd\n",
    "import nltk\n",
    "from nltk.tokenize import word_tokenize\n",
    "nltk.download('punkt')\n",
    "nltk.download('stopwords')\n",
    "from sklearn.pipeline import Pipeline, FeatureUnion, make_pipeline"
   ]
  },
  {
   "cell_type": "code",
   "execution_count": 4,
   "metadata": {},
   "outputs": [
    {
     "data": {
      "text/html": [
       "<div>\n",
       "<style>\n",
       "    .dataframe thead tr:only-child th {\n",
       "        text-align: right;\n",
       "    }\n",
       "\n",
       "    .dataframe thead th {\n",
       "        text-align: left;\n",
       "    }\n",
       "\n",
       "    .dataframe tbody tr th {\n",
       "        vertical-align: top;\n",
       "    }\n",
       "</style>\n",
       "<table border=\"1\" class=\"dataframe\">\n",
       "  <thead>\n",
       "    <tr style=\"text-align: right;\">\n",
       "      <th></th>\n",
       "      <th>PID</th>\n",
       "      <th>Exam Description</th>\n",
       "      <th>Hashtag</th>\n",
       "      <th>Impression Cleaned</th>\n",
       "    </tr>\n",
       "  </thead>\n",
       "  <tbody>\n",
       "    <tr>\n",
       "      <th>0</th>\n",
       "      <td>1</td>\n",
       "      <td>CT ANGIOGRAM CHEST</td>\n",
       "      <td>[unchanged]_intramural_hematoma, ascending_aor...</td>\n",
       "      <td>IMPRESSION:\\n1.  Unchanged descending thoracic...</td>\n",
       "    </tr>\n",
       "    <tr>\n",
       "      <th>1</th>\n",
       "      <td>2</td>\n",
       "      <td>CT CHEST WITH CONTRAST</td>\n",
       "      <td>[unchange]_[right]_pleural effusion, [decrease...</td>\n",
       "      <td>IMPRESSION:\\n1. Slight decrease in the left lu...</td>\n",
       "    </tr>\n",
       "    <tr>\n",
       "      <th>2</th>\n",
       "      <td>3</td>\n",
       "      <td>CT CHEST PULMONARY EMBOLISM (CTPE)</td>\n",
       "      <td>[negx]_pulmonary_embolism, [decrease]_[bilater...</td>\n",
       "      <td>IMPRESSION:\\n1. No pulmonary embolism.\\n2. Sli...</td>\n",
       "    </tr>\n",
       "    <tr>\n",
       "      <th>3</th>\n",
       "      <td>4</td>\n",
       "      <td>CT CHEST WITH CONTRAST</td>\n",
       "      <td>[negex]_metastasis</td>\n",
       "      <td>IMPRESSION:\\nNo intrathoracic metastatic disea...</td>\n",
       "    </tr>\n",
       "    <tr>\n",
       "      <th>4</th>\n",
       "      <td>5</td>\n",
       "      <td>CT CHEST WITH CONTRAST</td>\n",
       "      <td>[left]_[supraclavicular]_LN, [risk]_metastasis</td>\n",
       "      <td>IMPRESSION:\\nLarge left heterogeneously enhanc...</td>\n",
       "    </tr>\n",
       "  </tbody>\n",
       "</table>\n",
       "</div>"
      ],
      "text/plain": [
       "   PID                    Exam Description  \\\n",
       "0    1                  CT ANGIOGRAM CHEST   \n",
       "1    2              CT CHEST WITH CONTRAST   \n",
       "2    3  CT CHEST PULMONARY EMBOLISM (CTPE)   \n",
       "3    4              CT CHEST WITH CONTRAST   \n",
       "4    5              CT CHEST WITH CONTRAST   \n",
       "\n",
       "                                             Hashtag  \\\n",
       "0  [unchanged]_intramural_hematoma, ascending_aor...   \n",
       "1  [unchange]_[right]_pleural effusion, [decrease...   \n",
       "2  [negx]_pulmonary_embolism, [decrease]_[bilater...   \n",
       "3                                 [negex]_metastasis   \n",
       "4     [left]_[supraclavicular]_LN, [risk]_metastasis   \n",
       "\n",
       "                                  Impression Cleaned  \n",
       "0  IMPRESSION:\\n1.  Unchanged descending thoracic...  \n",
       "1  IMPRESSION:\\n1. Slight decrease in the left lu...  \n",
       "2  IMPRESSION:\\n1. No pulmonary embolism.\\n2. Sli...  \n",
       "3  IMPRESSION:\\nNo intrathoracic metastatic disea...  \n",
       "4  IMPRESSION:\\nLarge left heterogeneously enhanc...  "
      ]
     },
     "execution_count": 4,
     "metadata": {},
     "output_type": "execute_result"
    }
   ],
   "source": [
    "df = pd.read_csv('../data/inputs/ct_desc.csv')\n",
    "df.head()"
   ]
  },
  {
   "cell_type": "code",
   "execution_count": 5,
   "metadata": {},
   "outputs": [
    {
     "data": {
      "text/plain": [
       "'IMPRESSION:\\n1.  Unchanged descending thoracic aorta intramural hematoma with persistent intramural blood pool measuring approximately 1.4 cm in size, which is supplied by an intercostal artery.\\n2.  Unchanged enlargement of the ascending aorta measuring up to 4.1 cm, with diffuse calcified and noncalcified atherosclerotic plaque throughout the thoracic aorta.\\n3.  Unchanged 2.3 cm left thyroid nodule which warrants dedicated thyroid ultrasound if not previously performed.\\n'"
      ]
     },
     "execution_count": 5,
     "metadata": {},
     "output_type": "execute_result"
    }
   ],
   "source": [
    "df['Impression Cleaned'][0]"
   ]
  },
  {
   "cell_type": "code",
   "execution_count": 6,
   "metadata": {},
   "outputs": [
    {
     "data": {
      "text/plain": [
       "\"\\nwith open('impressions.txt', 'w+') as f:\\n    for row in df['Impression Cleaned']:\\n        f.write(row)\\n        \\nwith open('mini_impression.txt', 'w+') as f:\\n    for row in df['Impression Cleaned'][10]:\\n        f.write(row)\\n\""
      ]
     },
     "execution_count": 6,
     "metadata": {},
     "output_type": "execute_result"
    }
   ],
   "source": [
    "\"\"\"\n",
    "with open('impressions.txt', 'w+') as f:\n",
    "    for row in df['Impression Cleaned']:\n",
    "        f.write(row)\n",
    "        \n",
    "with open('mini_impression.txt', 'w+') as f:\n",
    "    for row in df['Impression Cleaned'][10]:\n",
    "        f.write(row)\n",
    "\"\"\""
   ]
  },
  {
   "cell_type": "code",
   "execution_count": 7,
   "metadata": {
    "collapsed": true
   },
   "outputs": [],
   "source": [
    "content = []\n",
    "with open('mini_impression.txt', 'r') as f:\n",
    "    for line in f:\n",
    "        content.append(line)"
   ]
  },
  {
   "cell_type": "code",
   "execution_count": 8,
   "metadata": {},
   "outputs": [
    {
     "data": {
      "text/plain": [
       "['IMPRESSION:\\n',\n",
       " '1.  Unchanged descending thoracic aorta intramural hematoma with persistent intramural blood pool measuring approximately 1.4 cm in size, which is supplied by an intercostal artery.\\n',\n",
       " '2.  Unchanged enlargement of the ascending aorta measuring up to 4.1 cm, with diffuse calcified and noncalcified atherosclerotic plaque throughout the thoracic aorta.\\n',\n",
       " '3.  Unchanged 2.3 cm left thyroid nodule which warrants dedicated thyroid ultrasound if not previously performed.\\n',\n",
       " 'IMPRESSION:\\n',\n",
       " '1. Slight decrease in the left lung and pleural metastatic disease.\\n',\n",
       " '2.  Unchanged small right pleural effusion.\\n',\n",
       " 'IMPRESSION:\\n',\n",
       " '1. No pulmonary embolism.\\n',\n",
       " '2. Slight interval decrease in scattered groundglass opacities and interlobular septal thickening, compatible with pulmonary edema which is slightly improving.\\n',\n",
       " '3. Medium right and small left pleural effusion. Small pericardial effusion. These findings are similar to prior and are suggestive of volume overload.\\n',\n",
       " 'IMPRESSION:\\n',\n",
       " 'No intrathoracic metastatic disease.\\n',\n",
       " 'IMPRESSION:\\n',\n",
       " 'Large left heterogeneously enhancing supraclavicular lymph node likely represents a metastasis via the thoracic duct drainage in the setting of retroperitoneal lymphadenopathy (Virchow node). No additional findings indicate intrathoracic metastasis.\\n',\n",
       " 'IMPRESSION:\\n',\n",
       " 'No intrathoracic metastatic disease.\\n',\n",
       " 'IMPRESSION:\\n',\n",
       " '1. No pulmonary embolism.\\n',\n",
       " \"2.  Improved soft tissue at the intra-atrial septa and surrounding the right coronary artery compatible with improvement of the patient's known Erdheim-Chester disease.\\n\",\n",
       " 'IMPRESSION:\\n',\n",
       " 'No intrathoracic metastatic disease.\\n',\n",
       " 'IMPRESSION:\\n',\n",
       " '1.  No pulmonary embolism.\\n',\n",
       " '2.  New moderate bilateral pleural effusions with bilateral ground glass opacities. In constellation, groundglass opacities are most likely secondary to pulmonary edema.\\n',\n",
       " '3.  Complete bilateral lower lobe collapse with impacted airways.\\n',\n",
       " 'IMPRESSION:\\n',\n",
       " '1. No definite intrathoracic metastatic disease.3 mm perifissural nodule within right middle lobe (series 3, image 167) likely represents an intrapulmonary lymph node. Continued followup per clinical oncologic protocol recommended.\\n',\n",
       " '2. Thoracic aorta is normal in course and caliber.\\n']"
      ]
     },
     "execution_count": 8,
     "metadata": {},
     "output_type": "execute_result"
    }
   ],
   "source": [
    "content"
   ]
  },
  {
   "cell_type": "code",
   "execution_count": 9,
   "metadata": {},
   "outputs": [
    {
     "name": "stdout",
     "output_type": "stream",
     "text": [
      "['Large', 'left', 'heterogeneously', 'enhancing', 'supraclavicular', 'lymph', 'node', 'likely', 'represents', 'a', 'metastasis', 'via', 'the', 'thoracic', 'duct', 'drainage', 'in', 'the', 'setting', 'of', 'retroperitoneal', 'lymphadenopathy', '(', 'Virchow', 'node', ')', '.', 'No', 'additional', 'findings', 'indicate', 'intrathoracic', 'metastasis', '.']\n"
     ]
    }
   ],
   "source": [
    "print(word_tokenize(content[14]))"
   ]
  },
  {
   "cell_type": "code",
   "execution_count": 10,
   "metadata": {
    "collapsed": true
   },
   "outputs": [],
   "source": [
    "DateTimeMapper = SemanticMapper([(r'[0-9][0-9]? [0-9][0-9]? [0-9][0-9][0-9][0-9]', ''),\n",
    "                                 (r'[0-9][0-9]? [0-9][0-9] (am|pm)?', '')], regex=True)\n",
    "AlphaNumRemover = SemanticMapper([(r' [0-9]+', '')], regex=True)\n",
    "ExtenderPreserver = SemanticMapper([(' or ', ' EXT '), (' nor ', ' EXT ')])\n",
    "ExtenderRemover = SemanticMapper(\n",
    "    [('EXT', ''), ('NEGEX_EXT', ''), (('NEGEX_ ', ''))])"
   ]
  },
  {
   "cell_type": "code",
   "execution_count": 11,
   "metadata": {},
   "outputs": [
    {
     "data": {
      "text/plain": [
       "'1.  Unchanged descending thoracic aorta intramural hematoma with persistent intramural blood pool measuring approximately 1.4 cm in size, which is supplied by an intercostal artery.\\n'"
      ]
     },
     "execution_count": 11,
     "metadata": {},
     "output_type": "execute_result"
    }
   ],
   "source": [
    "content[1]"
   ]
  },
  {
   "cell_type": "code",
   "execution_count": 12,
   "metadata": {},
   "outputs": [
    {
     "name": "stdout",
     "output_type": "stream",
     "text": [
      "['1.  Unchanged descending thoracic aorta intramural hematoma with persistent intramural blood pool measuring approximately 1.4 cm in size, which is supplied by an intercostal artery.\\n']\n",
      "words ['1', '.', 'Unchanged', 'descending', 'thoracic', 'aorta', 'intramural', 'hematoma', 'with', 'persistent', 'intramural', 'blood', 'pool', 'measuring', 'approximately', '1.4', 'cm', 'in', 'size', ',', 'which', 'is', 'supplied', 'by', 'an', 'intercostal', 'artery', '.']\n",
      "filtered ['1', '.', 'Unchanged', 'descending', 'thoracic', 'aorta', 'intramural', 'hematoma', 'persistent', 'intramural', 'blood', 'pool', 'measuring', 'approximately', '1.4', 'cm', 'size', ',', 'supplied', 'intercostal', 'artery', '.']\n",
      "[['1 . Unchanged descending thoracic aorta intramural hematoma persistent intramural blood pool measuring approximately 1.4 cm size , supplied intercostal artery .']]\n"
     ]
    }
   ],
   "source": [
    "print([content[1]])\n",
    "swr = StopWordRemover()\n",
    "labeled_output = swr.transform([[content[1]]])\n",
    "print(labeled_output)"
   ]
  },
  {
   "cell_type": "markdown",
   "metadata": {},
   "source": [
    "Shape of the input list of sentences in list of reports"
   ]
  },
  {
   "cell_type": "code",
   "execution_count": 13,
   "metadata": {},
   "outputs": [
    {
     "name": "stdout",
     "output_type": "stream",
     "text": [
      "words ['IMPRESSION', ':']\n",
      "filtered ['IMPRESSION', ':']\n",
      "words ['1', '.', 'Unchanged', 'descending', 'thoracic', 'aorta', 'intramural', 'hematoma', 'with', 'persistent', 'intramural', 'blood', 'pool', 'measuring', 'approximately', '1.4', 'cm', 'in', 'size', ',', 'which', 'is', 'supplied', 'by', 'an', 'intercostal', 'artery', '.']\n",
      "filtered ['1', '.', 'Unchanged', 'descending', 'thoracic', 'aorta', 'intramural', 'hematoma', 'persistent', 'intramural', 'blood', 'pool', 'measuring', 'approximately', '1.4', 'cm', 'size', ',', 'supplied', 'intercostal', 'artery', '.']\n",
      "words ['2', '.', 'Unchanged', 'enlargement', 'of', 'the', 'ascending', 'aorta', 'measuring', 'up', 'to', '4.1', 'cm', ',', 'with', 'diffuse', 'calcified', 'and', 'noncalcified', 'atherosclerotic', 'plaque', 'throughout', 'the', 'thoracic', 'aorta', '.']\n",
      "filtered ['2', '.', 'Unchanged', 'enlargement', 'ascending', 'aorta', 'measuring', '4.1', 'cm', ',', 'diffuse', 'calcified', 'noncalcified', 'atherosclerotic', 'plaque', 'throughout', 'thoracic', 'aorta', '.']\n",
      "words ['3', '.', 'Unchanged', '2.3', 'cm', 'left', 'thyroid', 'nodule', 'which', 'warrants', 'dedicated', 'thyroid', 'ultrasound', 'if', 'not', 'previously', 'performed', '.']\n",
      "filtered ['3', '.', 'Unchanged', '2.3', 'cm', 'left', 'thyroid', 'nodule', 'warrants', 'dedicated', 'thyroid', 'ultrasound', 'previously', 'performed', '.']\n",
      "words ['IMPRESSION', ':']\n",
      "filtered ['IMPRESSION', ':']\n",
      "words ['1', '.', 'Slight', 'decrease', 'in', 'the', 'left', 'lung', 'and', 'pleural', 'metastatic', 'disease', '.']\n",
      "filtered ['1', '.', 'Slight', 'decrease', 'left', 'lung', 'pleural', 'metastatic', 'disease', '.']\n",
      "words ['2', '.', 'Unchanged', 'small', 'right', 'pleural', 'effusion', '.']\n",
      "filtered ['2', '.', 'Unchanged', 'small', 'right', 'pleural', 'effusion', '.']\n",
      "words ['IMPRESSION', ':']\n",
      "filtered ['IMPRESSION', ':']\n",
      "words ['1', '.', 'No', 'pulmonary', 'embolism', '.']\n",
      "filtered ['1', '.', 'No', 'pulmonary', 'embolism', '.']\n",
      "words ['2', '.', 'Slight', 'interval', 'decrease', 'in', 'scattered', 'groundglass', 'opacities', 'and', 'interlobular', 'septal', 'thickening', ',', 'compatible', 'with', 'pulmonary', 'edema', 'which', 'is', 'slightly', 'improving', '.']\n",
      "filtered ['2', '.', 'Slight', 'interval', 'decrease', 'scattered', 'groundglass', 'opacities', 'interlobular', 'septal', 'thickening', ',', 'compatible', 'pulmonary', 'edema', 'slightly', 'improving', '.']\n",
      "words ['3', '.', 'Medium', 'right', 'and', 'small', 'left', 'pleural', 'effusion', '.', 'Small', 'pericardial', 'effusion', '.', 'These', 'findings', 'are', 'similar', 'to', 'prior', 'and', 'are', 'suggestive', 'of', 'volume', 'overload', '.']\n",
      "filtered ['3', '.', 'Medium', 'right', 'small', 'left', 'pleural', 'effusion', '.', 'Small', 'pericardial', 'effusion', '.', 'These', 'findings', 'similar', 'prior', 'suggestive', 'volume', 'overload', '.']\n",
      "words ['IMPRESSION', ':']\n",
      "filtered ['IMPRESSION', ':']\n",
      "words ['No', 'intrathoracic', 'metastatic', 'disease', '.']\n",
      "filtered ['No', 'intrathoracic', 'metastatic', 'disease', '.']\n",
      "words ['IMPRESSION', ':']\n",
      "filtered ['IMPRESSION', ':']\n",
      "words ['Large', 'left', 'heterogeneously', 'enhancing', 'supraclavicular', 'lymph', 'node', 'likely', 'represents', 'a', 'metastasis', 'via', 'the', 'thoracic', 'duct', 'drainage', 'in', 'the', 'setting', 'of', 'retroperitoneal', 'lymphadenopathy', '(', 'Virchow', 'node', ')', '.', 'No', 'additional', 'findings', 'indicate', 'intrathoracic', 'metastasis', '.']\n",
      "filtered ['Large', 'left', 'heterogeneously', 'enhancing', 'supraclavicular', 'lymph', 'node', 'likely', 'represents', 'metastasis', 'via', 'thoracic', 'duct', 'drainage', 'setting', 'retroperitoneal', 'lymphadenopathy', '(', 'Virchow', 'node', ')', '.', 'No', 'additional', 'findings', 'indicate', 'intrathoracic', 'metastasis', '.']\n",
      "words ['IMPRESSION', ':']\n",
      "filtered ['IMPRESSION', ':']\n",
      "words ['No', 'intrathoracic', 'metastatic', 'disease', '.']\n",
      "filtered ['No', 'intrathoracic', 'metastatic', 'disease', '.']\n",
      "words ['IMPRESSION', ':']\n",
      "filtered ['IMPRESSION', ':']\n",
      "words ['1', '.', 'No', 'pulmonary', 'embolism', '.']\n",
      "filtered ['1', '.', 'No', 'pulmonary', 'embolism', '.']\n",
      "words ['2', '.', 'Improved', 'soft', 'tissue', 'at', 'the', 'intra-atrial', 'septa', 'and', 'surrounding', 'the', 'right', 'coronary', 'artery', 'compatible', 'with', 'improvement', 'of', 'the', 'patient', \"'s\", 'known', 'Erdheim-Chester', 'disease', '.']\n",
      "filtered ['2', '.', 'Improved', 'soft', 'tissue', 'intra-atrial', 'septa', 'surrounding', 'right', 'coronary', 'artery', 'compatible', 'improvement', 'patient', \"'s\", 'known', 'Erdheim-Chester', 'disease', '.']\n",
      "words ['IMPRESSION', ':']\n",
      "filtered ['IMPRESSION', ':']\n",
      "words ['No', 'intrathoracic', 'metastatic', 'disease', '.']\n",
      "filtered ['No', 'intrathoracic', 'metastatic', 'disease', '.']\n",
      "words ['IMPRESSION', ':']\n",
      "filtered ['IMPRESSION', ':']\n",
      "words ['1', '.', 'No', 'pulmonary', 'embolism', '.']\n",
      "filtered ['1', '.', 'No', 'pulmonary', 'embolism', '.']\n",
      "words ['2', '.', 'New', 'moderate', 'bilateral', 'pleural', 'effusions', 'with', 'bilateral', 'ground', 'glass', 'opacities', '.', 'In', 'constellation', ',', 'groundglass', 'opacities', 'are', 'most', 'likely', 'secondary', 'to', 'pulmonary', 'edema', '.']\n",
      "filtered ['2', '.', 'New', 'moderate', 'bilateral', 'pleural', 'effusions', 'bilateral', 'ground', 'glass', 'opacities', '.', 'In', 'constellation', ',', 'groundglass', 'opacities', 'likely', 'secondary', 'pulmonary', 'edema', '.']\n",
      "words ['3', '.', 'Complete', 'bilateral', 'lower', 'lobe', 'collapse', 'with', 'impacted', 'airways', '.']\n",
      "filtered ['3', '.', 'Complete', 'bilateral', 'lower', 'lobe', 'collapse', 'impacted', 'airways', '.']\n",
      "words ['IMPRESSION', ':']\n",
      "filtered ['IMPRESSION', ':']\n",
      "words ['1', '.', 'No', 'definite', 'intrathoracic', 'metastatic', 'disease.3', 'mm', 'perifissural', 'nodule', 'within', 'right', 'middle', 'lobe', '(', 'series', '3', ',', 'image', '167', ')', 'likely', 'represents', 'an', 'intrapulmonary', 'lymph', 'node', '.', 'Continued', 'followup', 'per', 'clinical', 'oncologic', 'protocol', 'recommended', '.']\n",
      "filtered ['1', '.', 'No', 'definite', 'intrathoracic', 'metastatic', 'disease.3', 'mm', 'perifissural', 'nodule', 'within', 'right', 'middle', 'lobe', '(', 'series', '3', ',', 'image', '167', ')', 'likely', 'represents', 'intrapulmonary', 'lymph', 'node', '.', 'Continued', 'followup', 'per', 'clinical', 'oncologic', 'protocol', 'recommended', '.']\n",
      "words ['2', '.', 'Thoracic', 'aorta', 'is', 'normal', 'in', 'course', 'and', 'caliber', '.']\n",
      "filtered ['2', '.', 'Thoracic', 'aorta', 'normal', 'course', 'caliber', '.']\n"
     ]
    },
    {
     "data": {
      "text/plain": [
       "[['IMPRESSION :',\n",
       "  '1 . Unchanged descending thoracic aorta intramural hematoma persistent intramural blood pool measuring approximately 1.4 cm size , supplied intercostal artery .',\n",
       "  '2 . Unchanged enlargement ascending aorta measuring 4.1 cm , diffuse calcified noncalcified atherosclerotic plaque throughout thoracic aorta .',\n",
       "  '3 . Unchanged 2.3 cm left thyroid nodule warrants dedicated thyroid ultrasound previously performed .',\n",
       "  'IMPRESSION :',\n",
       "  '1 . Slight decrease left lung pleural metastatic disease .',\n",
       "  '2 . Unchanged small right pleural effusion .',\n",
       "  'IMPRESSION :',\n",
       "  '1 . No pulmonary embolism .',\n",
       "  '2 . Slight interval decrease scattered groundglass opacities interlobular septal thickening , compatible pulmonary edema slightly improving .',\n",
       "  '3 . Medium right small left pleural effusion . Small pericardial effusion . These findings similar prior suggestive volume overload .',\n",
       "  'IMPRESSION :',\n",
       "  'No intrathoracic metastatic disease .',\n",
       "  'IMPRESSION :',\n",
       "  'Large left heterogeneously enhancing supraclavicular lymph node likely represents metastasis via thoracic duct drainage setting retroperitoneal lymphadenopathy ( Virchow node ) . No additional findings indicate intrathoracic metastasis .',\n",
       "  'IMPRESSION :',\n",
       "  'No intrathoracic metastatic disease .',\n",
       "  'IMPRESSION :',\n",
       "  '1 . No pulmonary embolism .',\n",
       "  \"2 . Improved soft tissue intra-atrial septa surrounding right coronary artery compatible improvement patient 's known Erdheim-Chester disease .\",\n",
       "  'IMPRESSION :',\n",
       "  'No intrathoracic metastatic disease .',\n",
       "  'IMPRESSION :',\n",
       "  '1 . No pulmonary embolism .',\n",
       "  '2 . New moderate bilateral pleural effusions bilateral ground glass opacities . In constellation , groundglass opacities likely secondary pulmonary edema .',\n",
       "  '3 . Complete bilateral lower lobe collapse impacted airways .',\n",
       "  'IMPRESSION :',\n",
       "  '1 . No definite intrathoracic metastatic disease.3 mm perifissural nodule within right middle lobe ( series 3 , image 167 ) likely represents intrapulmonary lymph node . Continued followup per clinical oncologic protocol recommended .',\n",
       "  '2 . Thoracic aorta normal course caliber .']]"
      ]
     },
     "execution_count": 13,
     "metadata": {},
     "output_type": "execute_result"
    }
   ],
   "source": [
    "pipeline = make_pipeline(StopWordRemover(), None)\n",
    "labeled_output = pipeline.transform([content])\n",
    "labeled_output"
   ]
  },
  {
   "cell_type": "code",
   "execution_count": 14,
   "metadata": {},
   "outputs": [],
   "source": [
    "rep = read_replacements('../data/semantic_maps/radlex_replacements')\n",
    "lower = LowerCaseSentence()\n",
    "radlex_replacements = SemanticMapper(rep)"
   ]
  },
  {
   "cell_type": "code",
   "execution_count": 15,
   "metadata": {},
   "outputs": [
    {
     "data": {
      "text/plain": [
       "[['impression:\\n',\n",
       "  '1.  unchanged descending thoracic aorta intramural hematoma with persistent intramural blood pool measuring approximately 1.4 cm in size, which is supplied by an intercostal artery.\\n',\n",
       "  '2.  unchanged enlargement of the ascending aorta measuring up to 4.1 cm, with diffuse calcified and noncalcified atherosclerotic plaque throughout the thoracic aorta.\\n',\n",
       "  '3.  unchanged 2.3 cm left thyroid nodule which warrants dedicated thyroid ultrasound if not previously performed.\\n',\n",
       "  'impression:\\n',\n",
       "  '1. slight decrease in the left lung and pleural metastatic disease.\\n',\n",
       "  '2.  unchanged small right pleural effusion.\\n',\n",
       "  'impression:\\n',\n",
       "  '1. no pulmonary embolism.\\n',\n",
       "  '2. slight interval decrease in scattered groundglass opacities and interlobular septal thickening, compatible with pulmonary edema which is slightly improving.\\n',\n",
       "  '3. medium right and small left pleural effusion. small pericardial effusion. these findings are similar to prior and are suggestive of volume overload.\\n',\n",
       "  'impression:\\n',\n",
       "  'no intrathoracic metastatic disease.\\n',\n",
       "  'impression:\\n',\n",
       "  'large left heterogeneously enhancing supraclavicular lymph node likely represents a metastasis via the thoracic duct drainage in the setting of retroperitoneal lymphadenopathy (virchow node). no additional findings indicate intrathoracic metastasis.\\n',\n",
       "  'impression:\\n',\n",
       "  'no intrathoracic metastatic disease.\\n',\n",
       "  'impression:\\n',\n",
       "  '1. no pulmonary embolism.\\n',\n",
       "  \"2.  improved soft tissue at the intra-atrial septa and surrounding the right coronary artery compatible with improvement of the patient's known erdheim-chester disease.\\n\",\n",
       "  'impression:\\n',\n",
       "  'no intrathoracic metastatic disease.\\n',\n",
       "  'impression:\\n',\n",
       "  '1.  no pulmonary embolism.\\n',\n",
       "  '2.  new moderate bilateral pleural effusions with bilateral ground glass opacities. in constellation, groundglass opacities are most likely secondary to pulmonary edema.\\n',\n",
       "  '3.  complete bilateral lower lobe collapse with impacted airways.\\n',\n",
       "  'impression:\\n',\n",
       "  '1. no definite intrathoracic metastatic disease.3 mm perifissural nodule within right middle lobe (series 3, image 167) likely represents an intrapulmonary lymph node. continued followup per clinical oncologic protocol recommended.\\n',\n",
       "  '2. thoracic aorta is normal in course and caliber.\\n']]"
      ]
     },
     "execution_count": 15,
     "metadata": {},
     "output_type": "execute_result"
    }
   ],
   "source": [
    "pipeline = make_pipeline(lower, None)\n",
    "labeled_output = pipeline.transform([content])\n",
    "labeled_output"
   ]
  },
  {
   "cell_type": "code",
   "execution_count": 16,
   "metadata": {},
   "outputs": [
    {
     "data": {
      "text/plain": [
       "[['impression:\\n',\n",
       "  '1. unchanged descending_thoracic_aorta intramural hematoma with persistent intramural blood pool measuring approximately 1.4 curium in size, which is supplied by an intercostal artery.\\n',\n",
       "  '2. unchanged enlargement of the ascending_aorta measuring up to 4.1 cm, with diffuse calcified and noncalcified atherosclerotic_plaque throughout the thoracic aorta.\\n',\n",
       "  '3. unchanged 2.3 curium left thyroid_gland breast_mass which warrants dedicated thyroid_gland ultrasound if not previously performed.\\n',\n",
       "  'impression:\\n',\n",
       "  '1. slight decrease in the left_lung and pleural metastatic disease.\\n',\n",
       "  '2. unchanged small right pleural effusion.\\n',\n",
       "  'impression:\\n',\n",
       "  '1. no pulmonary embolism.\\n',\n",
       "  '2. slight interval decrease in scattered groundglass opacities and interlobular septal thickening, compatible with pulmonary_edema which is slightly improving.\\n',\n",
       "  '3. medium right and small left pleural effusion. small pericardial effusion. these findings are similar to prior and are suggestive of volume overload.\\n',\n",
       "  'impression:\\n',\n",
       "  'no intrathoracic metastatic disease.\\n',\n",
       "  'impression:\\n',\n",
       "  'large left heterogeneously enhancing supraclavicular_lymph_node likely represents a metastatic_disease via the thoracic_duct drainage in the setting of retroperitoneal lymphadenopathy (virchow node). no additional findings indicate intrathoracic metastasis.\\n',\n",
       "  'impression:\\n',\n",
       "  'no intrathoracic metastatic disease.\\n',\n",
       "  'impression:\\n',\n",
       "  '1. no pulmonary embolism.\\n',\n",
       "  \"2. improved soft portion_of_tissue at the intra-atrial septae and surrounding the right coronary_artery compatible with improvement of the patient's known erdheim-chester disease.\\n\",\n",
       "  'impression:\\n',\n",
       "  'no intrathoracic metastatic disease.\\n',\n",
       "  'impression:\\n',\n",
       "  '1. no pulmonary embolism.\\n',\n",
       "  '2. new moderate bilateral pleural effusions with bilateral ground-glass_opacity opacities. in constellation, groundglass opacities are most likely secondary to pulmonary edema.\\n',\n",
       "  '3. imagingcomplete bilateral lower lobe collapse with impacted airways.\\n',\n",
       "  'impression:\\n',\n",
       "  '1. no definite intrathoracic metastatic disease.3 mm perifissural breast_mass within middle_lobe_of_lung (series 3, image 167) likely represents an intrapulmonary lymph node. continued followup per clinical oncologic protocol_specified recommended.\\n',\n",
       "  '2. thoracic_aorta is normal in course and caliber.\\n']]"
      ]
     },
     "execution_count": 16,
     "metadata": {},
     "output_type": "execute_result"
    }
   ],
   "source": [
    "pipeline = make_pipeline(radlex_replacements, None)\n",
    "labeled_output = pipeline.transform([content])\n",
    "labeled_output"
   ]
  },
  {
   "cell_type": "code",
   "execution_count": 17,
   "metadata": {},
   "outputs": [],
   "source": [
    "clever_r = read_replacements('../data/semantic_maps/clever_replacements')\n",
    "misc_r = read_replacements('../data/semantic_maps/misc_replacements')\n"
   ]
  },
  {
   "cell_type": "code",
   "execution_count": 18,
   "metadata": {},
   "outputs": [
    {
     "data": {
      "text/plain": [
       "[['impression:\\n',\n",
       "  '1. unchanged descending thoracic aorta intramural hematoma with persistent intramural blood pool measuring approximately 1.4 cm in size, which is supplied by an intercostal artery.\\n',\n",
       "  '2. unchanged enlargement of the ascending aorta measuring up to 4.1 cm, with diffuse calcified and noncalcified atherosclerotic plaque throughout the thoracic aorta.\\n',\n",
       "  '3. unchanged 2.3 cm left thyroid nodule which warrants dedicated thyroid ultrasound if NEGEX previously performed.\\n',\n",
       "  'impression:\\n',\n",
       "  '1. slight decrease in the left lung and pleural metastatic disease.\\n',\n",
       "  '2. unchanged small right pleural effusion.\\n',\n",
       "  'impression:\\n',\n",
       "  '1. NEGEX pulmonary embolism.\\n',\n",
       "  '2. slight interval decrease in scattered groundglass opacities and interlobular septal thickening, compatible with pulmonary edema which is slightly improving.\\n',\n",
       "  '3. medium right and small left pleural effusion. small pericardial effusion. these findings are similar to prior and are RISK of volume overload.\\n',\n",
       "  'impression:\\n',\n",
       "  'NEGEX intrathoracic metastatic disease.\\n',\n",
       "  'impression:\\n',\n",
       "  'large left heterogeneously enhancing supraclavicular lymph node likely represents a metastasis via the thoracic duct drainage in the setting of retroperitoneal lymphadenopathy (virchow node). NEGEX additional findings indicate intrathoracic metastasis.\\n',\n",
       "  'impression:\\n',\n",
       "  'NEGEX intrathoracic metastatic disease.\\n',\n",
       "  'impression:\\n',\n",
       "  '1. NEGEX pulmonary embolism.\\n',\n",
       "  \"2. improved soft tissue at the intra-atrial septa and surrounding the right coronary artery compatible with improvement of the patient's known erdheim-chester disease.\\n\",\n",
       "  'impression:\\n',\n",
       "  'NEGEX intrathoracic metastatic disease.\\n',\n",
       "  'impression:\\n',\n",
       "  '1. NEGEX pulmonary embolism.\\n',\n",
       "  '2. new moderate bilateral pleural effusions with bilateral ground glass opacities. in constellation, groundglass opacities are most likely secondary to pulmonary edema.\\n',\n",
       "  '3. complete bilateral lower lobe collapse with impacted airways.\\n',\n",
       "  'impression:\\n',\n",
       "  '1. NEGEX definite intrathoracic metastatic disease.3 mm perifissural nodule within right middle lobe (series 3, image 167) likely represents an intrapulmonary lymph node. continued followup per clinical oncologic protocol recommended.\\n',\n",
       "  '2. thoracic aorta is normal in course and caliber.\\n']]"
      ]
     },
     "execution_count": 18,
     "metadata": {},
     "output_type": "execute_result"
    }
   ],
   "source": [
    "pipeline = make_pipeline(SemanticMapper(clever_r), None)\n",
    "labeled_output = pipeline.transform([content])\n",
    "labeled_output"
   ]
  },
  {
   "cell_type": "code",
   "execution_count": null,
   "metadata": {
    "collapsed": true
   },
   "outputs": [],
   "source": []
  }
 ],
 "metadata": {
  "kernelspec": {
   "display_name": "Python 3",
   "language": "python",
   "name": "python3"
  },
  "language_info": {
   "codemirror_mode": {
    "name": "ipython",
    "version": 3
   },
   "file_extension": ".py",
   "mimetype": "text/x-python",
   "name": "python",
   "nbconvert_exporter": "python",
   "pygments_lexer": "ipython3",
   "version": "3.6.3"
  }
 },
 "nbformat": 4,
 "nbformat_minor": 2
}
